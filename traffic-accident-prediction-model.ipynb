{
 "cells": [
  {
   "cell_type": "markdown",
   "id": "0ea3c559",
   "metadata": {
    "ExecuteTime": {
     "end_time": "2022-05-05T04:58:05.692448Z",
     "start_time": "2022-05-05T04:58:05.688565Z"
    }
   },
   "source": [
    "## Подключитесь к базе. Загрузите таблицы sql"
   ]
  },
  {
   "cell_type": "code",
   "execution_count": 1,
   "id": "e7ca00a5",
   "metadata": {},
   "outputs": [],
   "source": [
    "!pip install imbalanced-learn -q\n",
    "!pip install phik -q"
   ]
  },
  {
   "cell_type": "code",
   "execution_count": 59,
   "id": "cf94b18f",
   "metadata": {},
   "outputs": [],
   "source": [
    "from sqlalchemy import create_engine\n",
    "import pandas as pd\n",
    "import matplotlib.pyplot as plt\n",
    "import phik\n",
    "from phik import resources, report\n",
    "from phik.report import plot_correlation_matrix\n",
    "import seaborn as sns\n",
    "from sklearn.preprocessing import OneHotEncoder, StandardScaler\n",
    "from sklearn.model_selection import train_test_split\n",
    "from sklearn.compose import ColumnTransformer\n",
    "from sklearn.impute import SimpleImputer\n",
    "from sklearn.linear_model import LogisticRegression\n",
    "from sklearn.ensemble import RandomForestClassifier, GradientBoostingClassifier\n",
    "from sklearn.model_selection import RandomizedSearchCV, cross_val_score\n",
    "import numpy as np\n",
    "from sklearn.metrics import classification_report, confusion_matrix, precision_recall_curve, auc, ConfusionMatrixDisplay,\\\n",
    "roc_curve, roc_auc_score\n",
    "from sklearn.pipeline import make_pipeline\n",
    "from sklearn.pipeline import Pipeline\n",
    "\n",
    "#import psycopg2\n",
    "#import gc\n",
    "#\n",
    "#from sklearn.pipeline import Pipeline\n",
    "#from sklearn.metrics import confusion_matrix, classification_report, ConfusionMatrixDisplay\n",
    "#from imblearn.over_sampling import SMOTE\n",
    "#from sklearn.model_selection import GridSearchCV"
   ]
  },
  {
   "cell_type": "markdown",
   "id": "1d0e3e31",
   "metadata": {},
   "source": [
    "Конфигурация подключения к базе данных:"
   ]
  },
  {
   "cell_type": "code",
   "execution_count": 3,
   "id": "a7ed8f63",
   "metadata": {},
   "outputs": [],
   "source": [
    "db_config = {\n",
    "    'user': 'praktikum_student',\n",
    "    'password': 'Sdf4$2;d-d30pp',\n",
    "    'host': 'rc1b-wcoijxj3yxfsf3fs.mdb.yandexcloud.net',\n",
    "    'port': 6432,\n",
    "    'database': 'data-science-vehicle-db'\n",
    "}"
   ]
  },
  {
   "cell_type": "markdown",
   "id": "ef2a60ff",
   "metadata": {},
   "source": [
    "Создание строки подключения и подключения к базе данных:"
   ]
  },
  {
   "cell_type": "code",
   "execution_count": 4,
   "id": "fe469437",
   "metadata": {},
   "outputs": [],
   "source": [
    "connection_string = f\"postgresql://{db_config['user']}:{db_config['password']}@{db_config['host']}:{db_config['port']}/{db_config['database']}\"\n",
    "engine = create_engine(connection_string)"
   ]
  },
  {
   "cell_type": "markdown",
   "id": "b32548a0",
   "metadata": {},
   "source": [
    "Проверка наличия таблиц в базе данных:"
   ]
  },
  {
   "cell_type": "code",
   "execution_count": 5,
   "id": "5cf590f7",
   "metadata": {},
   "outputs": [],
   "source": [
    "# Список таблиц, которые нужно проверить\n",
    "tables_to_check = ['collisions', 'parties', 'vehicles']"
   ]
  },
  {
   "cell_type": "markdown",
   "id": "ffe15fc3",
   "metadata": {},
   "source": [
    "Проверка наличия нужных таблиц и вывод информации о их колонках:"
   ]
  },
  {
   "cell_type": "code",
   "execution_count": 6,
   "id": "5b186e07",
   "metadata": {},
   "outputs": [
    {
     "name": "stdout",
     "output_type": "stream",
     "text": [
      "\n",
      "Таблица 'collisions' существует в базе данных.\n",
      "\n",
      "Столбцы таблицы 'collisions':\n",
      "\n"
     ]
    },
    {
     "data": {
      "text/html": [
       "<div>\n",
       "<style scoped>\n",
       "    .dataframe tbody tr th:only-of-type {\n",
       "        vertical-align: middle;\n",
       "    }\n",
       "\n",
       "    .dataframe tbody tr th {\n",
       "        vertical-align: top;\n",
       "    }\n",
       "\n",
       "    .dataframe thead th {\n",
       "        text-align: right;\n",
       "    }\n",
       "</style>\n",
       "<table border=\"1\" class=\"dataframe\">\n",
       "  <thead>\n",
       "    <tr style=\"text-align: right;\">\n",
       "      <th></th>\n",
       "      <th>column_name</th>\n",
       "      <th>data_type</th>\n",
       "    </tr>\n",
       "  </thead>\n",
       "  <tbody>\n",
       "    <tr>\n",
       "      <th>0</th>\n",
       "      <td>party_count</td>\n",
       "      <td>integer</td>\n",
       "    </tr>\n",
       "    <tr>\n",
       "      <th>1</th>\n",
       "      <td>intersection</td>\n",
       "      <td>integer</td>\n",
       "    </tr>\n",
       "    <tr>\n",
       "      <th>2</th>\n",
       "      <td>distance</td>\n",
       "      <td>real</td>\n",
       "    </tr>\n",
       "    <tr>\n",
       "      <th>3</th>\n",
       "      <td>collision_date</td>\n",
       "      <td>date</td>\n",
       "    </tr>\n",
       "    <tr>\n",
       "      <th>4</th>\n",
       "      <td>collision_time</td>\n",
       "      <td>time without time zone</td>\n",
       "    </tr>\n",
       "    <tr>\n",
       "      <th>5</th>\n",
       "      <td>location_type</td>\n",
       "      <td>text</td>\n",
       "    </tr>\n",
       "    <tr>\n",
       "      <th>6</th>\n",
       "      <td>collision_damage</td>\n",
       "      <td>text</td>\n",
       "    </tr>\n",
       "    <tr>\n",
       "      <th>7</th>\n",
       "      <td>case_id</td>\n",
       "      <td>text</td>\n",
       "    </tr>\n",
       "    <tr>\n",
       "      <th>8</th>\n",
       "      <td>pcf_violation_category</td>\n",
       "      <td>text</td>\n",
       "    </tr>\n",
       "    <tr>\n",
       "      <th>9</th>\n",
       "      <td>type_of_collision</td>\n",
       "      <td>text</td>\n",
       "    </tr>\n",
       "    <tr>\n",
       "      <th>10</th>\n",
       "      <td>motor_vehicle_involved_with</td>\n",
       "      <td>text</td>\n",
       "    </tr>\n",
       "    <tr>\n",
       "      <th>11</th>\n",
       "      <td>road_surface</td>\n",
       "      <td>text</td>\n",
       "    </tr>\n",
       "    <tr>\n",
       "      <th>12</th>\n",
       "      <td>road_condition_1</td>\n",
       "      <td>text</td>\n",
       "    </tr>\n",
       "    <tr>\n",
       "      <th>13</th>\n",
       "      <td>lighting</td>\n",
       "      <td>text</td>\n",
       "    </tr>\n",
       "    <tr>\n",
       "      <th>14</th>\n",
       "      <td>control_device</td>\n",
       "      <td>text</td>\n",
       "    </tr>\n",
       "    <tr>\n",
       "      <th>15</th>\n",
       "      <td>primary_collision_factor</td>\n",
       "      <td>text</td>\n",
       "    </tr>\n",
       "    <tr>\n",
       "      <th>16</th>\n",
       "      <td>county_city_location</td>\n",
       "      <td>text</td>\n",
       "    </tr>\n",
       "    <tr>\n",
       "      <th>17</th>\n",
       "      <td>county_location</td>\n",
       "      <td>text</td>\n",
       "    </tr>\n",
       "    <tr>\n",
       "      <th>18</th>\n",
       "      <td>direction</td>\n",
       "      <td>text</td>\n",
       "    </tr>\n",
       "    <tr>\n",
       "      <th>19</th>\n",
       "      <td>weather_1</td>\n",
       "      <td>text</td>\n",
       "    </tr>\n",
       "  </tbody>\n",
       "</table>\n",
       "</div>"
      ],
      "text/plain": [
       "                    column_name               data_type\n",
       "0                   party_count                 integer\n",
       "1                  intersection                 integer\n",
       "2                      distance                    real\n",
       "3                collision_date                    date\n",
       "4                collision_time  time without time zone\n",
       "5                 location_type                    text\n",
       "6              collision_damage                    text\n",
       "7                       case_id                    text\n",
       "8        pcf_violation_category                    text\n",
       "9             type_of_collision                    text\n",
       "10  motor_vehicle_involved_with                    text\n",
       "11                 road_surface                    text\n",
       "12             road_condition_1                    text\n",
       "13                     lighting                    text\n",
       "14               control_device                    text\n",
       "15     primary_collision_factor                    text\n",
       "16         county_city_location                    text\n",
       "17              county_location                    text\n",
       "18                    direction                    text\n",
       "19                    weather_1                    text"
      ]
     },
     "metadata": {},
     "output_type": "display_data"
    },
    {
     "name": "stdout",
     "output_type": "stream",
     "text": [
      "\n",
      "Таблица 'parties' существует в базе данных.\n",
      "\n",
      "Столбцы таблицы 'parties':\n",
      "\n"
     ]
    },
    {
     "data": {
      "text/html": [
       "<div>\n",
       "<style scoped>\n",
       "    .dataframe tbody tr th:only-of-type {\n",
       "        vertical-align: middle;\n",
       "    }\n",
       "\n",
       "    .dataframe tbody tr th {\n",
       "        vertical-align: top;\n",
       "    }\n",
       "\n",
       "    .dataframe thead th {\n",
       "        text-align: right;\n",
       "    }\n",
       "</style>\n",
       "<table border=\"1\" class=\"dataframe\">\n",
       "  <thead>\n",
       "    <tr style=\"text-align: right;\">\n",
       "      <th></th>\n",
       "      <th>column_name</th>\n",
       "      <th>data_type</th>\n",
       "    </tr>\n",
       "  </thead>\n",
       "  <tbody>\n",
       "    <tr>\n",
       "      <th>0</th>\n",
       "      <td>cellphone_in_use</td>\n",
       "      <td>integer</td>\n",
       "    </tr>\n",
       "    <tr>\n",
       "      <th>1</th>\n",
       "      <td>party_number</td>\n",
       "      <td>integer</td>\n",
       "    </tr>\n",
       "    <tr>\n",
       "      <th>2</th>\n",
       "      <td>at_fault</td>\n",
       "      <td>integer</td>\n",
       "    </tr>\n",
       "    <tr>\n",
       "      <th>3</th>\n",
       "      <td>insurance_premium</td>\n",
       "      <td>integer</td>\n",
       "    </tr>\n",
       "    <tr>\n",
       "      <th>4</th>\n",
       "      <td>id</td>\n",
       "      <td>integer</td>\n",
       "    </tr>\n",
       "    <tr>\n",
       "      <th>5</th>\n",
       "      <td>case_id</td>\n",
       "      <td>text</td>\n",
       "    </tr>\n",
       "    <tr>\n",
       "      <th>6</th>\n",
       "      <td>party_drug_physical</td>\n",
       "      <td>text</td>\n",
       "    </tr>\n",
       "    <tr>\n",
       "      <th>7</th>\n",
       "      <td>party_type</td>\n",
       "      <td>text</td>\n",
       "    </tr>\n",
       "    <tr>\n",
       "      <th>8</th>\n",
       "      <td>party_sobriety</td>\n",
       "      <td>text</td>\n",
       "    </tr>\n",
       "  </tbody>\n",
       "</table>\n",
       "</div>"
      ],
      "text/plain": [
       "           column_name data_type\n",
       "0     cellphone_in_use   integer\n",
       "1         party_number   integer\n",
       "2             at_fault   integer\n",
       "3    insurance_premium   integer\n",
       "4                   id   integer\n",
       "5              case_id      text\n",
       "6  party_drug_physical      text\n",
       "7           party_type      text\n",
       "8       party_sobriety      text"
      ]
     },
     "metadata": {},
     "output_type": "display_data"
    },
    {
     "name": "stdout",
     "output_type": "stream",
     "text": [
      "\n",
      "Таблица 'vehicles' существует в базе данных.\n",
      "\n",
      "Столбцы таблицы 'vehicles':\n",
      "\n"
     ]
    },
    {
     "data": {
      "text/html": [
       "<div>\n",
       "<style scoped>\n",
       "    .dataframe tbody tr th:only-of-type {\n",
       "        vertical-align: middle;\n",
       "    }\n",
       "\n",
       "    .dataframe tbody tr th {\n",
       "        vertical-align: top;\n",
       "    }\n",
       "\n",
       "    .dataframe thead th {\n",
       "        text-align: right;\n",
       "    }\n",
       "</style>\n",
       "<table border=\"1\" class=\"dataframe\">\n",
       "  <thead>\n",
       "    <tr style=\"text-align: right;\">\n",
       "      <th></th>\n",
       "      <th>column_name</th>\n",
       "      <th>data_type</th>\n",
       "    </tr>\n",
       "  </thead>\n",
       "  <tbody>\n",
       "    <tr>\n",
       "      <th>0</th>\n",
       "      <td>id</td>\n",
       "      <td>integer</td>\n",
       "    </tr>\n",
       "    <tr>\n",
       "      <th>1</th>\n",
       "      <td>party_number</td>\n",
       "      <td>integer</td>\n",
       "    </tr>\n",
       "    <tr>\n",
       "      <th>2</th>\n",
       "      <td>vehicle_age</td>\n",
       "      <td>integer</td>\n",
       "    </tr>\n",
       "    <tr>\n",
       "      <th>3</th>\n",
       "      <td>case_id</td>\n",
       "      <td>text</td>\n",
       "    </tr>\n",
       "    <tr>\n",
       "      <th>4</th>\n",
       "      <td>vehicle_type</td>\n",
       "      <td>text</td>\n",
       "    </tr>\n",
       "    <tr>\n",
       "      <th>5</th>\n",
       "      <td>vehicle_transmission</td>\n",
       "      <td>text</td>\n",
       "    </tr>\n",
       "  </tbody>\n",
       "</table>\n",
       "</div>"
      ],
      "text/plain": [
       "            column_name data_type\n",
       "0                    id   integer\n",
       "1          party_number   integer\n",
       "2           vehicle_age   integer\n",
       "3               case_id      text\n",
       "4          vehicle_type      text\n",
       "5  vehicle_transmission      text"
      ]
     },
     "metadata": {},
     "output_type": "display_data"
    }
   ],
   "source": [
    "for table_name in tables_to_check:\n",
    "    # Проверка наличия таблицы\n",
    "    query = f\"\"\"\n",
    "    SELECT table_name\n",
    "    FROM information_schema.tables\n",
    "    WHERE table_schema = 'public'\n",
    "    AND table_name = '{table_name}';\n",
    "    \"\"\"\n",
    "    result_df = pd.read_sql(query, engine)\n",
    "    \n",
    "    if not result_df.empty:\n",
    "        print(f\"\\nТаблица '{table_name}' существует в базе данных.\\n\")\n",
    "        \n",
    "        # Получение информации о столбцах таблицы\n",
    "        query = f\"\"\"\n",
    "        SELECT column_name, data_type\n",
    "        FROM information_schema.columns\n",
    "        WHERE table_name = '{table_name}';\n",
    "        \"\"\"\n",
    "        columns_df = pd.read_sql(query, engine)\n",
    "        \n",
    "        # Выводим информацию о столбцах\n",
    "        print(f\"Столбцы таблицы '{table_name}':\\n\")\n",
    "        display(columns_df)\n",
    "    \n",
    "    else:\n",
    "        print(f\"Таблица '{table_name}' не найдена в базе данных.\")"
   ]
  },
  {
   "cell_type": "code",
   "execution_count": 7,
   "id": "ce80ab0d",
   "metadata": {},
   "outputs": [
    {
     "name": "stdout",
     "output_type": "stream",
     "text": [
      "\n",
      "Первые 10 строк из таблицы 'collisions':\n"
     ]
    },
    {
     "data": {
      "text/html": [
       "<div>\n",
       "<style scoped>\n",
       "    .dataframe tbody tr th:only-of-type {\n",
       "        vertical-align: middle;\n",
       "    }\n",
       "\n",
       "    .dataframe tbody tr th {\n",
       "        vertical-align: top;\n",
       "    }\n",
       "\n",
       "    .dataframe thead th {\n",
       "        text-align: right;\n",
       "    }\n",
       "</style>\n",
       "<table border=\"1\" class=\"dataframe\">\n",
       "  <thead>\n",
       "    <tr style=\"text-align: right;\">\n",
       "      <th></th>\n",
       "      <th>case_id</th>\n",
       "      <th>county_city_location</th>\n",
       "      <th>county_location</th>\n",
       "      <th>distance</th>\n",
       "      <th>direction</th>\n",
       "      <th>intersection</th>\n",
       "      <th>weather_1</th>\n",
       "      <th>location_type</th>\n",
       "      <th>collision_damage</th>\n",
       "      <th>party_count</th>\n",
       "      <th>primary_collision_factor</th>\n",
       "      <th>pcf_violation_category</th>\n",
       "      <th>type_of_collision</th>\n",
       "      <th>motor_vehicle_involved_with</th>\n",
       "      <th>road_surface</th>\n",
       "      <th>road_condition_1</th>\n",
       "      <th>lighting</th>\n",
       "      <th>control_device</th>\n",
       "      <th>collision_date</th>\n",
       "      <th>collision_time</th>\n",
       "    </tr>\n",
       "  </thead>\n",
       "  <tbody>\n",
       "    <tr>\n",
       "      <th>0</th>\n",
       "      <td>4083072</td>\n",
       "      <td>1942</td>\n",
       "      <td>los angeles</td>\n",
       "      <td>528.0</td>\n",
       "      <td>north</td>\n",
       "      <td>0</td>\n",
       "      <td>cloudy</td>\n",
       "      <td>highway</td>\n",
       "      <td>small damage</td>\n",
       "      <td>2</td>\n",
       "      <td>vehicle code violation</td>\n",
       "      <td>unsafe lane change</td>\n",
       "      <td>sideswipe</td>\n",
       "      <td>other motor vehicle</td>\n",
       "      <td>wet</td>\n",
       "      <td>normal</td>\n",
       "      <td>daylight</td>\n",
       "      <td>none</td>\n",
       "      <td>2009-01-22</td>\n",
       "      <td>07:25:00</td>\n",
       "    </tr>\n",
       "    <tr>\n",
       "      <th>1</th>\n",
       "      <td>4083075</td>\n",
       "      <td>4313</td>\n",
       "      <td>santa clara</td>\n",
       "      <td>0.0</td>\n",
       "      <td>None</td>\n",
       "      <td>1</td>\n",
       "      <td>clear</td>\n",
       "      <td>None</td>\n",
       "      <td>small damage</td>\n",
       "      <td>1</td>\n",
       "      <td>vehicle code violation</td>\n",
       "      <td>improper passing</td>\n",
       "      <td>hit object</td>\n",
       "      <td>fixed object</td>\n",
       "      <td>dry</td>\n",
       "      <td>normal</td>\n",
       "      <td>dark with street lights</td>\n",
       "      <td>functioning</td>\n",
       "      <td>2009-01-03</td>\n",
       "      <td>02:26:00</td>\n",
       "    </tr>\n",
       "    <tr>\n",
       "      <th>2</th>\n",
       "      <td>4083073</td>\n",
       "      <td>0109</td>\n",
       "      <td>alameda</td>\n",
       "      <td>0.0</td>\n",
       "      <td>None</td>\n",
       "      <td>1</td>\n",
       "      <td>clear</td>\n",
       "      <td>None</td>\n",
       "      <td>scratch</td>\n",
       "      <td>2</td>\n",
       "      <td>vehicle code violation</td>\n",
       "      <td>improper turning</td>\n",
       "      <td>broadside</td>\n",
       "      <td>other motor vehicle</td>\n",
       "      <td>dry</td>\n",
       "      <td>normal</td>\n",
       "      <td>dark with street lights</td>\n",
       "      <td>functioning</td>\n",
       "      <td>2009-01-11</td>\n",
       "      <td>03:32:00</td>\n",
       "    </tr>\n",
       "    <tr>\n",
       "      <th>3</th>\n",
       "      <td>4083077</td>\n",
       "      <td>0109</td>\n",
       "      <td>alameda</td>\n",
       "      <td>0.0</td>\n",
       "      <td>None</td>\n",
       "      <td>1</td>\n",
       "      <td>clear</td>\n",
       "      <td>None</td>\n",
       "      <td>scratch</td>\n",
       "      <td>2</td>\n",
       "      <td>vehicle code violation</td>\n",
       "      <td>automobile right of way</td>\n",
       "      <td>broadside</td>\n",
       "      <td>other motor vehicle</td>\n",
       "      <td>dry</td>\n",
       "      <td>normal</td>\n",
       "      <td>daylight</td>\n",
       "      <td>functioning</td>\n",
       "      <td>2009-01-11</td>\n",
       "      <td>10:35:00</td>\n",
       "    </tr>\n",
       "    <tr>\n",
       "      <th>4</th>\n",
       "      <td>4083087</td>\n",
       "      <td>4313</td>\n",
       "      <td>santa clara</td>\n",
       "      <td>0.0</td>\n",
       "      <td>None</td>\n",
       "      <td>1</td>\n",
       "      <td>clear</td>\n",
       "      <td>None</td>\n",
       "      <td>scratch</td>\n",
       "      <td>2</td>\n",
       "      <td>vehicle code violation</td>\n",
       "      <td>speeding</td>\n",
       "      <td>rear end</td>\n",
       "      <td>other motor vehicle</td>\n",
       "      <td>dry</td>\n",
       "      <td>None</td>\n",
       "      <td>dark with street lights</td>\n",
       "      <td>functioning</td>\n",
       "      <td>2009-01-02</td>\n",
       "      <td>22:43:00</td>\n",
       "    </tr>\n",
       "    <tr>\n",
       "      <th>5</th>\n",
       "      <td>4083097</td>\n",
       "      <td>0109</td>\n",
       "      <td>alameda</td>\n",
       "      <td>0.0</td>\n",
       "      <td>None</td>\n",
       "      <td>1</td>\n",
       "      <td>clear</td>\n",
       "      <td>ramp</td>\n",
       "      <td>small damage</td>\n",
       "      <td>2</td>\n",
       "      <td>vehicle code violation</td>\n",
       "      <td>speeding</td>\n",
       "      <td>rear end</td>\n",
       "      <td>other motor vehicle</td>\n",
       "      <td>dry</td>\n",
       "      <td>normal</td>\n",
       "      <td>dark with street lights</td>\n",
       "      <td>functioning</td>\n",
       "      <td>2009-01-18</td>\n",
       "      <td>02:18:00</td>\n",
       "    </tr>\n",
       "    <tr>\n",
       "      <th>6</th>\n",
       "      <td>4083092</td>\n",
       "      <td>1942</td>\n",
       "      <td>los angeles</td>\n",
       "      <td>1320.0</td>\n",
       "      <td>south</td>\n",
       "      <td>0</td>\n",
       "      <td>clear</td>\n",
       "      <td>highway</td>\n",
       "      <td>scratch</td>\n",
       "      <td>2</td>\n",
       "      <td>vehicle code violation</td>\n",
       "      <td>unsafe lane change</td>\n",
       "      <td>rear end</td>\n",
       "      <td>other motor vehicle</td>\n",
       "      <td>dry</td>\n",
       "      <td>normal</td>\n",
       "      <td>daylight</td>\n",
       "      <td>none</td>\n",
       "      <td>2009-01-21</td>\n",
       "      <td>10:30:00</td>\n",
       "    </tr>\n",
       "    <tr>\n",
       "      <th>7</th>\n",
       "      <td>4083096</td>\n",
       "      <td>1942</td>\n",
       "      <td>los angeles</td>\n",
       "      <td>200.0</td>\n",
       "      <td>south</td>\n",
       "      <td>0</td>\n",
       "      <td>clear</td>\n",
       "      <td>highway</td>\n",
       "      <td>scratch</td>\n",
       "      <td>3</td>\n",
       "      <td>vehicle code violation</td>\n",
       "      <td>speeding</td>\n",
       "      <td>rear end</td>\n",
       "      <td>other motor vehicle</td>\n",
       "      <td>dry</td>\n",
       "      <td>normal</td>\n",
       "      <td>daylight</td>\n",
       "      <td>none</td>\n",
       "      <td>2009-01-21</td>\n",
       "      <td>08:55:00</td>\n",
       "    </tr>\n",
       "    <tr>\n",
       "      <th>8</th>\n",
       "      <td>4083100</td>\n",
       "      <td>1942</td>\n",
       "      <td>los angeles</td>\n",
       "      <td>2112.0</td>\n",
       "      <td>north</td>\n",
       "      <td>0</td>\n",
       "      <td>cloudy</td>\n",
       "      <td>highway</td>\n",
       "      <td>scratch</td>\n",
       "      <td>2</td>\n",
       "      <td>vehicle code violation</td>\n",
       "      <td>speeding</td>\n",
       "      <td>rear end</td>\n",
       "      <td>other motor vehicle</td>\n",
       "      <td>dry</td>\n",
       "      <td>normal</td>\n",
       "      <td>daylight</td>\n",
       "      <td>none</td>\n",
       "      <td>2009-01-21</td>\n",
       "      <td>16:20:00</td>\n",
       "    </tr>\n",
       "    <tr>\n",
       "      <th>9</th>\n",
       "      <td>4083103</td>\n",
       "      <td>4313</td>\n",
       "      <td>santa clara</td>\n",
       "      <td>0.0</td>\n",
       "      <td>None</td>\n",
       "      <td>1</td>\n",
       "      <td>cloudy</td>\n",
       "      <td>None</td>\n",
       "      <td>scratch</td>\n",
       "      <td>2</td>\n",
       "      <td>vehicle code violation</td>\n",
       "      <td>None</td>\n",
       "      <td>broadside</td>\n",
       "      <td>other motor vehicle</td>\n",
       "      <td>wet</td>\n",
       "      <td>normal</td>\n",
       "      <td>dusk or dawn</td>\n",
       "      <td>functioning</td>\n",
       "      <td>2009-01-02</td>\n",
       "      <td>15:55:00</td>\n",
       "    </tr>\n",
       "  </tbody>\n",
       "</table>\n",
       "</div>"
      ],
      "text/plain": [
       "   case_id county_city_location county_location  distance direction  \\\n",
       "0  4083072                 1942     los angeles     528.0     north   \n",
       "1  4083075                 4313     santa clara       0.0      None   \n",
       "2  4083073                 0109         alameda       0.0      None   \n",
       "3  4083077                 0109         alameda       0.0      None   \n",
       "4  4083087                 4313     santa clara       0.0      None   \n",
       "5  4083097                 0109         alameda       0.0      None   \n",
       "6  4083092                 1942     los angeles    1320.0     south   \n",
       "7  4083096                 1942     los angeles     200.0     south   \n",
       "8  4083100                 1942     los angeles    2112.0     north   \n",
       "9  4083103                 4313     santa clara       0.0      None   \n",
       "\n",
       "   intersection weather_1 location_type collision_damage  party_count  \\\n",
       "0             0    cloudy       highway     small damage            2   \n",
       "1             1     clear          None     small damage            1   \n",
       "2             1     clear          None          scratch            2   \n",
       "3             1     clear          None          scratch            2   \n",
       "4             1     clear          None          scratch            2   \n",
       "5             1     clear          ramp     small damage            2   \n",
       "6             0     clear       highway          scratch            2   \n",
       "7             0     clear       highway          scratch            3   \n",
       "8             0    cloudy       highway          scratch            2   \n",
       "9             1    cloudy          None          scratch            2   \n",
       "\n",
       "  primary_collision_factor   pcf_violation_category type_of_collision  \\\n",
       "0   vehicle code violation       unsafe lane change         sideswipe   \n",
       "1   vehicle code violation         improper passing        hit object   \n",
       "2   vehicle code violation         improper turning         broadside   \n",
       "3   vehicle code violation  automobile right of way         broadside   \n",
       "4   vehicle code violation                 speeding          rear end   \n",
       "5   vehicle code violation                 speeding          rear end   \n",
       "6   vehicle code violation       unsafe lane change          rear end   \n",
       "7   vehicle code violation                 speeding          rear end   \n",
       "8   vehicle code violation                 speeding          rear end   \n",
       "9   vehicle code violation                     None         broadside   \n",
       "\n",
       "  motor_vehicle_involved_with road_surface road_condition_1  \\\n",
       "0         other motor vehicle          wet           normal   \n",
       "1                fixed object          dry           normal   \n",
       "2         other motor vehicle          dry           normal   \n",
       "3         other motor vehicle          dry           normal   \n",
       "4         other motor vehicle          dry             None   \n",
       "5         other motor vehicle          dry           normal   \n",
       "6         other motor vehicle          dry           normal   \n",
       "7         other motor vehicle          dry           normal   \n",
       "8         other motor vehicle          dry           normal   \n",
       "9         other motor vehicle          wet           normal   \n",
       "\n",
       "                  lighting control_device collision_date collision_time  \n",
       "0                 daylight           none     2009-01-22       07:25:00  \n",
       "1  dark with street lights    functioning     2009-01-03       02:26:00  \n",
       "2  dark with street lights    functioning     2009-01-11       03:32:00  \n",
       "3                 daylight    functioning     2009-01-11       10:35:00  \n",
       "4  dark with street lights    functioning     2009-01-02       22:43:00  \n",
       "5  dark with street lights    functioning     2009-01-18       02:18:00  \n",
       "6                 daylight           none     2009-01-21       10:30:00  \n",
       "7                 daylight           none     2009-01-21       08:55:00  \n",
       "8                 daylight           none     2009-01-21       16:20:00  \n",
       "9             dusk or dawn    functioning     2009-01-02       15:55:00  "
      ]
     },
     "metadata": {},
     "output_type": "display_data"
    },
    {
     "name": "stdout",
     "output_type": "stream",
     "text": [
      "\n",
      "Первые 10 строк из таблицы 'parties':\n"
     ]
    },
    {
     "data": {
      "text/html": [
       "<div>\n",
       "<style scoped>\n",
       "    .dataframe tbody tr th:only-of-type {\n",
       "        vertical-align: middle;\n",
       "    }\n",
       "\n",
       "    .dataframe tbody tr th {\n",
       "        vertical-align: top;\n",
       "    }\n",
       "\n",
       "    .dataframe thead th {\n",
       "        text-align: right;\n",
       "    }\n",
       "</style>\n",
       "<table border=\"1\" class=\"dataframe\">\n",
       "  <thead>\n",
       "    <tr style=\"text-align: right;\">\n",
       "      <th></th>\n",
       "      <th>id</th>\n",
       "      <th>case_id</th>\n",
       "      <th>party_number</th>\n",
       "      <th>party_type</th>\n",
       "      <th>at_fault</th>\n",
       "      <th>insurance_premium</th>\n",
       "      <th>party_sobriety</th>\n",
       "      <th>party_drug_physical</th>\n",
       "      <th>cellphone_in_use</th>\n",
       "    </tr>\n",
       "  </thead>\n",
       "  <tbody>\n",
       "    <tr>\n",
       "      <th>0</th>\n",
       "      <td>22</td>\n",
       "      <td>3899454</td>\n",
       "      <td>1</td>\n",
       "      <td>road signs</td>\n",
       "      <td>1</td>\n",
       "      <td>29.0</td>\n",
       "      <td>had not been drinking</td>\n",
       "      <td>None</td>\n",
       "      <td>0.0</td>\n",
       "    </tr>\n",
       "    <tr>\n",
       "      <th>1</th>\n",
       "      <td>23</td>\n",
       "      <td>3899454</td>\n",
       "      <td>2</td>\n",
       "      <td>road signs</td>\n",
       "      <td>0</td>\n",
       "      <td>7.0</td>\n",
       "      <td>had not been drinking</td>\n",
       "      <td>None</td>\n",
       "      <td>0.0</td>\n",
       "    </tr>\n",
       "    <tr>\n",
       "      <th>2</th>\n",
       "      <td>29</td>\n",
       "      <td>3899462</td>\n",
       "      <td>2</td>\n",
       "      <td>car</td>\n",
       "      <td>0</td>\n",
       "      <td>21.0</td>\n",
       "      <td>had not been drinking</td>\n",
       "      <td>None</td>\n",
       "      <td>0.0</td>\n",
       "    </tr>\n",
       "    <tr>\n",
       "      <th>3</th>\n",
       "      <td>31</td>\n",
       "      <td>3899465</td>\n",
       "      <td>2</td>\n",
       "      <td>road signs</td>\n",
       "      <td>0</td>\n",
       "      <td>24.0</td>\n",
       "      <td>had not been drinking</td>\n",
       "      <td>None</td>\n",
       "      <td>0.0</td>\n",
       "    </tr>\n",
       "    <tr>\n",
       "      <th>4</th>\n",
       "      <td>41</td>\n",
       "      <td>3899478</td>\n",
       "      <td>2</td>\n",
       "      <td>road bumper</td>\n",
       "      <td>0</td>\n",
       "      <td>NaN</td>\n",
       "      <td>not applicable</td>\n",
       "      <td>not applicable</td>\n",
       "      <td>0.0</td>\n",
       "    </tr>\n",
       "    <tr>\n",
       "      <th>5</th>\n",
       "      <td>43</td>\n",
       "      <td>3899481</td>\n",
       "      <td>2</td>\n",
       "      <td>road bumper</td>\n",
       "      <td>0</td>\n",
       "      <td>NaN</td>\n",
       "      <td>not applicable</td>\n",
       "      <td>not applicable</td>\n",
       "      <td>0.0</td>\n",
       "    </tr>\n",
       "    <tr>\n",
       "      <th>6</th>\n",
       "      <td>72</td>\n",
       "      <td>3899505</td>\n",
       "      <td>2</td>\n",
       "      <td>road bumper</td>\n",
       "      <td>0</td>\n",
       "      <td>NaN</td>\n",
       "      <td>not applicable</td>\n",
       "      <td>not applicable</td>\n",
       "      <td>0.0</td>\n",
       "    </tr>\n",
       "    <tr>\n",
       "      <th>7</th>\n",
       "      <td>73</td>\n",
       "      <td>3899505</td>\n",
       "      <td>3</td>\n",
       "      <td>road bumper</td>\n",
       "      <td>0</td>\n",
       "      <td>NaN</td>\n",
       "      <td>not applicable</td>\n",
       "      <td>not applicable</td>\n",
       "      <td>0.0</td>\n",
       "    </tr>\n",
       "    <tr>\n",
       "      <th>8</th>\n",
       "      <td>76</td>\n",
       "      <td>3899509</td>\n",
       "      <td>1</td>\n",
       "      <td>road bumper</td>\n",
       "      <td>0</td>\n",
       "      <td>NaN</td>\n",
       "      <td>had not been drinking</td>\n",
       "      <td>None</td>\n",
       "      <td>0.0</td>\n",
       "    </tr>\n",
       "    <tr>\n",
       "      <th>9</th>\n",
       "      <td>93</td>\n",
       "      <td>3981292</td>\n",
       "      <td>2</td>\n",
       "      <td>road bumper</td>\n",
       "      <td>0</td>\n",
       "      <td>NaN</td>\n",
       "      <td>had not been drinking</td>\n",
       "      <td>None</td>\n",
       "      <td>NaN</td>\n",
       "    </tr>\n",
       "  </tbody>\n",
       "</table>\n",
       "</div>"
      ],
      "text/plain": [
       "   id  case_id  party_number   party_type  at_fault  insurance_premium  \\\n",
       "0  22  3899454             1   road signs         1               29.0   \n",
       "1  23  3899454             2   road signs         0                7.0   \n",
       "2  29  3899462             2          car         0               21.0   \n",
       "3  31  3899465             2   road signs         0               24.0   \n",
       "4  41  3899478             2  road bumper         0                NaN   \n",
       "5  43  3899481             2  road bumper         0                NaN   \n",
       "6  72  3899505             2  road bumper         0                NaN   \n",
       "7  73  3899505             3  road bumper         0                NaN   \n",
       "8  76  3899509             1  road bumper         0                NaN   \n",
       "9  93  3981292             2  road bumper         0                NaN   \n",
       "\n",
       "          party_sobriety party_drug_physical  cellphone_in_use  \n",
       "0  had not been drinking                None               0.0  \n",
       "1  had not been drinking                None               0.0  \n",
       "2  had not been drinking                None               0.0  \n",
       "3  had not been drinking                None               0.0  \n",
       "4         not applicable      not applicable               0.0  \n",
       "5         not applicable      not applicable               0.0  \n",
       "6         not applicable      not applicable               0.0  \n",
       "7         not applicable      not applicable               0.0  \n",
       "8  had not been drinking                None               0.0  \n",
       "9  had not been drinking                None               NaN  "
      ]
     },
     "metadata": {},
     "output_type": "display_data"
    },
    {
     "name": "stdout",
     "output_type": "stream",
     "text": [
      "\n",
      "Первые 10 строк из таблицы 'vehicles':\n"
     ]
    },
    {
     "data": {
      "text/html": [
       "<div>\n",
       "<style scoped>\n",
       "    .dataframe tbody tr th:only-of-type {\n",
       "        vertical-align: middle;\n",
       "    }\n",
       "\n",
       "    .dataframe tbody tr th {\n",
       "        vertical-align: top;\n",
       "    }\n",
       "\n",
       "    .dataframe thead th {\n",
       "        text-align: right;\n",
       "    }\n",
       "</style>\n",
       "<table border=\"1\" class=\"dataframe\">\n",
       "  <thead>\n",
       "    <tr style=\"text-align: right;\">\n",
       "      <th></th>\n",
       "      <th>id</th>\n",
       "      <th>case_id</th>\n",
       "      <th>party_number</th>\n",
       "      <th>vehicle_type</th>\n",
       "      <th>vehicle_transmission</th>\n",
       "      <th>vehicle_age</th>\n",
       "    </tr>\n",
       "  </thead>\n",
       "  <tbody>\n",
       "    <tr>\n",
       "      <th>0</th>\n",
       "      <td>1175713</td>\n",
       "      <td>5305032</td>\n",
       "      <td>2</td>\n",
       "      <td>sedan</td>\n",
       "      <td>manual</td>\n",
       "      <td>3</td>\n",
       "    </tr>\n",
       "    <tr>\n",
       "      <th>1</th>\n",
       "      <td>1</td>\n",
       "      <td>3858022</td>\n",
       "      <td>1</td>\n",
       "      <td>sedan</td>\n",
       "      <td>auto</td>\n",
       "      <td>3</td>\n",
       "    </tr>\n",
       "    <tr>\n",
       "      <th>2</th>\n",
       "      <td>1175712</td>\n",
       "      <td>5305030</td>\n",
       "      <td>1</td>\n",
       "      <td>sedan</td>\n",
       "      <td>auto</td>\n",
       "      <td>3</td>\n",
       "    </tr>\n",
       "    <tr>\n",
       "      <th>3</th>\n",
       "      <td>1175717</td>\n",
       "      <td>5305033</td>\n",
       "      <td>3</td>\n",
       "      <td>sedan</td>\n",
       "      <td>auto</td>\n",
       "      <td>5</td>\n",
       "    </tr>\n",
       "    <tr>\n",
       "      <th>4</th>\n",
       "      <td>1175722</td>\n",
       "      <td>5305034</td>\n",
       "      <td>2</td>\n",
       "      <td>sedan</td>\n",
       "      <td>auto</td>\n",
       "      <td>5</td>\n",
       "    </tr>\n",
       "    <tr>\n",
       "      <th>5</th>\n",
       "      <td>1175737</td>\n",
       "      <td>5305046</td>\n",
       "      <td>2</td>\n",
       "      <td>sedan</td>\n",
       "      <td>auto</td>\n",
       "      <td>5</td>\n",
       "    </tr>\n",
       "    <tr>\n",
       "      <th>6</th>\n",
       "      <td>1175750</td>\n",
       "      <td>5305053</td>\n",
       "      <td>3</td>\n",
       "      <td>sedan</td>\n",
       "      <td>auto</td>\n",
       "      <td>9</td>\n",
       "    </tr>\n",
       "    <tr>\n",
       "      <th>7</th>\n",
       "      <td>1175715</td>\n",
       "      <td>5305033</td>\n",
       "      <td>1</td>\n",
       "      <td>sedan</td>\n",
       "      <td>manual</td>\n",
       "      <td>10</td>\n",
       "    </tr>\n",
       "    <tr>\n",
       "      <th>8</th>\n",
       "      <td>1175716</td>\n",
       "      <td>5305033</td>\n",
       "      <td>2</td>\n",
       "      <td>sedan</td>\n",
       "      <td>manual</td>\n",
       "      <td>4</td>\n",
       "    </tr>\n",
       "    <tr>\n",
       "      <th>9</th>\n",
       "      <td>1175758</td>\n",
       "      <td>5305060</td>\n",
       "      <td>2</td>\n",
       "      <td>sedan</td>\n",
       "      <td>auto</td>\n",
       "      <td>11</td>\n",
       "    </tr>\n",
       "  </tbody>\n",
       "</table>\n",
       "</div>"
      ],
      "text/plain": [
       "        id  case_id  party_number vehicle_type vehicle_transmission  \\\n",
       "0  1175713  5305032             2        sedan               manual   \n",
       "1        1  3858022             1        sedan                 auto   \n",
       "2  1175712  5305030             1        sedan                 auto   \n",
       "3  1175717  5305033             3        sedan                 auto   \n",
       "4  1175722  5305034             2        sedan                 auto   \n",
       "5  1175737  5305046             2        sedan                 auto   \n",
       "6  1175750  5305053             3        sedan                 auto   \n",
       "7  1175715  5305033             1        sedan               manual   \n",
       "8  1175716  5305033             2        sedan               manual   \n",
       "9  1175758  5305060             2        sedan                 auto   \n",
       "\n",
       "   vehicle_age  \n",
       "0            3  \n",
       "1            3  \n",
       "2            3  \n",
       "3            5  \n",
       "4            5  \n",
       "5            5  \n",
       "6            9  \n",
       "7           10  \n",
       "8            4  \n",
       "9           11  "
      ]
     },
     "metadata": {},
     "output_type": "display_data"
    }
   ],
   "source": [
    "for table_name in tables_to_check:\n",
    "    print(f\"\\nПервые 10 строк из таблицы '{table_name}':\")\n",
    "    \n",
    "    # SQL-запрос для получения первых 10 строк\n",
    "    query = f\"SELECT * FROM {table_name} LIMIT 10;\"\n",
    "    \n",
    "    # Выполнение запроса и присваивание в переменную с динамическим именем\n",
    "    globals()[f\"{table_name}_df\"] = pd.read_sql(query, engine)\n",
    "    \n",
    "    # Вывод первых 10 строк\n",
    "    display(globals()[f\"{table_name}_df\"])\n",
    "\n",
    "# Закрытие соединения с базой данных\n",
    "engine.dispose()"
   ]
  },
  {
   "cell_type": "markdown",
   "id": "ee8dbf3f",
   "metadata": {},
   "source": [
    "## Проведите первичное исследование таблиц"
   ]
  },
  {
   "cell_type": "code",
   "execution_count": 8,
   "id": "4ef38498",
   "metadata": {},
   "outputs": [
    {
     "name": "stdout",
     "output_type": "stream",
     "text": [
      "<class 'pandas.core.frame.DataFrame'>\n",
      "RangeIndex: 10 entries, 0 to 9\n",
      "Data columns (total 20 columns):\n",
      " #   Column                       Non-Null Count  Dtype  \n",
      "---  ------                       --------------  -----  \n",
      " 0   case_id                      10 non-null     object \n",
      " 1   county_city_location         10 non-null     object \n",
      " 2   county_location              10 non-null     object \n",
      " 3   distance                     10 non-null     float64\n",
      " 4   direction                    4 non-null      object \n",
      " 5   intersection                 10 non-null     int64  \n",
      " 6   weather_1                    10 non-null     object \n",
      " 7   location_type                5 non-null      object \n",
      " 8   collision_damage             10 non-null     object \n",
      " 9   party_count                  10 non-null     int64  \n",
      " 10  primary_collision_factor     10 non-null     object \n",
      " 11  pcf_violation_category       9 non-null      object \n",
      " 12  type_of_collision            10 non-null     object \n",
      " 13  motor_vehicle_involved_with  10 non-null     object \n",
      " 14  road_surface                 10 non-null     object \n",
      " 15  road_condition_1             9 non-null      object \n",
      " 16  lighting                     10 non-null     object \n",
      " 17  control_device               10 non-null     object \n",
      " 18  collision_date               10 non-null     object \n",
      " 19  collision_time               10 non-null     object \n",
      "dtypes: float64(1), int64(2), object(17)\n",
      "memory usage: 1.7+ KB\n",
      "<class 'pandas.core.frame.DataFrame'>\n",
      "RangeIndex: 10 entries, 0 to 9\n",
      "Data columns (total 9 columns):\n",
      " #   Column               Non-Null Count  Dtype  \n",
      "---  ------               --------------  -----  \n",
      " 0   id                   10 non-null     int64  \n",
      " 1   case_id              10 non-null     object \n",
      " 2   party_number         10 non-null     int64  \n",
      " 3   party_type           10 non-null     object \n",
      " 4   at_fault             10 non-null     int64  \n",
      " 5   insurance_premium    4 non-null      float64\n",
      " 6   party_sobriety       10 non-null     object \n",
      " 7   party_drug_physical  4 non-null      object \n",
      " 8   cellphone_in_use     9 non-null      float64\n",
      "dtypes: float64(2), int64(3), object(4)\n",
      "memory usage: 848.0+ bytes\n",
      "<class 'pandas.core.frame.DataFrame'>\n",
      "RangeIndex: 10 entries, 0 to 9\n",
      "Data columns (total 6 columns):\n",
      " #   Column                Non-Null Count  Dtype \n",
      "---  ------                --------------  ----- \n",
      " 0   id                    10 non-null     int64 \n",
      " 1   case_id               10 non-null     object\n",
      " 2   party_number          10 non-null     int64 \n",
      " 3   vehicle_type          10 non-null     object\n",
      " 4   vehicle_transmission  10 non-null     object\n",
      " 5   vehicle_age           10 non-null     int64 \n",
      "dtypes: int64(3), object(3)\n",
      "memory usage: 608.0+ bytes\n"
     ]
    }
   ],
   "source": [
    "# Первичное исследование таблиц\n",
    "collisions_df.info()\n",
    "parties_df.info()\n",
    "vehicles_df.info()"
   ]
  },
  {
   "cell_type": "markdown",
   "id": "7017f3cd",
   "metadata": {},
   "source": [
    "Присутствуют пропуски в нескольких столбцах, особенно в таблицах `collisions` и `parties`.\n",
    "\n",
    "Столбцы `collision_date` и `collision_time` в таблице `collisions` представлены в виде строк. Для дальнейшей работы с этими данными их можно преобразовать в типы `datetime` и `time` соответственно.\n",
    "\n",
    "Во всех трех таблицах присутствует общий столбец `case_id`, который, играет роль идентификатора случая ДТП и будет использоваться для объединения данных из разных таблиц."
   ]
  },
  {
   "cell_type": "markdown",
   "id": "c940ece5",
   "metadata": {},
   "source": [
    "##  Проведите статистический анализ факторов ДТП"
   ]
  },
  {
   "cell_type": "code",
   "execution_count": 9,
   "id": "42f81fdb",
   "metadata": {},
   "outputs": [
    {
     "data": {
      "image/png": "[encoded data removed]",
      "text/plain": [
       "<Figure size 1296x432 with 1 Axes>"
      ]
     },
     "metadata": {
      "needs_background": "light"
     },
     "output_type": "display_data"
    }
   ],
   "source": [
    "# Статистический анализ факторов ДТП по месяцам\n",
    "query = \"\"\"\n",
    "SELECT EXTRACT(MONTH FROM collision_date) AS month, COUNT(*) AS accident_count\n",
    "FROM collisions\n",
    "GROUP BY month\n",
    "ORDER BY month;\n",
    "\"\"\"\n",
    "accidents_by_month_df = pd.read_sql(query, engine)\n",
    "\n",
    "# Построение графика количества ДТП по месяцам\n",
    "plt.figure(figsize=(18, 6))\n",
    "plt.bar(accidents_by_month_df['month'], accidents_by_month_df['accident_count'], color='skyblue')\n",
    "plt.xlabel('Месяц')\n",
    "plt.ylabel('Количество ДТП')\n",
    "plt.title('Количество ДТП по месяцам')\n",
    "plt.xticks(accidents_by_month_df['month'], rotation=45)\n",
    "plt.show()"
   ]
  },
  {
   "cell_type": "markdown",
   "id": "d27ee9c0",
   "metadata": {},
   "source": [
    "Первые 5 месяцев года (с января по май) оказываются самыми аварийными, это может быть связано с несколькими факторами, которые влияют на дорожную обстановку и поведение водителей в этот период:\n",
    "- Скользкие дороги зимой\n",
    "- Переходные погодные условия весной\n",
    "- Рост активности на дорогах ближе к началу отпускного сезона\n",
    "\n",
    "Видно, что наибольшее количество ДТП приходится на март. Это может быть связано с сочетанием переменчивых погодных условий, активизацией дорожного движения и ухудшением состояния дорог после зимы."
   ]
  },
  {
   "cell_type": "markdown",
   "id": "302d89c2",
   "metadata": {},
   "source": [
    "Задачи для аналитиков:\n",
    "\n",
    "- Проанализируйте серьёзность повреждений транспортных средств в зависимости от состояния дороги.\n",
    "- Найдите, как погодные условия влияют на количество ДТП.\n",
    "- Проверьте, есть ли корреляция между возрастом автомобиля и вероятностью его участия в ДТП.\n",
    "- Изучите зависимость между трезвостью водителя и его участием в ДТП.\n",
    "- Исследуйте частоту использования мобильных телефонов водителями, причастными к ДТП.\n",
    "- Найдите самые частые причины ДТП."
   ]
  },
  {
   "cell_type": "markdown",
   "id": "4b5f58b5",
   "metadata": {},
   "source": [
    "Решение двух задач:\n",
    "\n",
    "Анализ количества ДТП в зависимости от состояния дороги и типа транспортного средства:"
   ]
  },
  {
   "cell_type": "code",
   "execution_count": 10,
   "id": "04abd5a2",
   "metadata": {
    "scrolled": false
   },
   "outputs": [
    {
     "data": {
      "image/png": "[encoded data removed]",
      "text/plain": [
       "<Figure size 720x432 with 1 Axes>"
      ]
     },
     "metadata": {
      "needs_background": "light"
     },
     "output_type": "display_data"
    }
   ],
   "source": [
    "query = \"\"\"\n",
    "SELECT c.road_surface, v.vehicle_type, COUNT(*) AS accident_count\n",
    "FROM collisions c\n",
    "JOIN parties p ON c.case_id = p.case_id\n",
    "JOIN vehicles v ON p.case_id = v.case_id AND p.party_number = v.party_number\n",
    "GROUP BY c.road_surface, v.vehicle_type\n",
    "ORDER BY accident_count DESC;\n",
    "\"\"\"\n",
    "road_surface_df = pd.read_sql(query, engine)\n",
    "\n",
    "# Удалим строки с пропусками\n",
    "road_surface_df.dropna(subset=['road_surface', 'vehicle_type'], inplace=True)\n",
    "\n",
    "# Построение графика\n",
    "plt.figure(figsize=(10, 6))\n",
    "for vehicle_type in road_surface_df['vehicle_type'].unique():\n",
    "    df_subset = road_surface_df[road_surface_df['vehicle_type'] == vehicle_type]\n",
    "    plt.barh(df_subset['road_surface'], df_subset['accident_count'], label=vehicle_type)\n",
    "\n",
    "plt.xlabel('Количество ДТП')\n",
    "plt.ylabel('Состояние дороги')\n",
    "plt.title('Количество ДТП в зависимости от состояния дороги и типа транспортного средства')\n",
    "plt.legend(title='Тип транспортного средства')\n",
    "plt.show()"
   ]
  },
  {
   "cell_type": "markdown",
   "id": "d3ffd3fd",
   "metadata": {},
   "source": [
    "Основная масса ДТП происходит на сухой дороге, что свидетельствует о том, что благоприятные погодные условия не всегда гарантируют безопасность на дороге. Купе чаще попадают в аварии."
   ]
  },
  {
   "cell_type": "markdown",
   "id": "a0062c44",
   "metadata": {},
   "source": [
    "Анализ количества ДТП в зависимости от уровня трезвости водителя и тяжести повреждений:"
   ]
  },
  {
   "cell_type": "code",
   "execution_count": 11,
   "id": "5e1322d1",
   "metadata": {},
   "outputs": [
    {
     "data": {
      "image/png": "[encoded data removed]",
      "text/plain": [
       "<Figure size 720x432 with 1 Axes>"
      ]
     },
     "metadata": {
      "needs_background": "light"
     },
     "output_type": "display_data"
    }
   ],
   "source": [
    "# Анализ зависимости между трезвостью водителя и его участием в ДТП\n",
    "query = \"\"\"\n",
    "SELECT p.party_sobriety, c.collision_damage, COUNT(*) AS accident_count\n",
    "FROM parties p\n",
    "JOIN collisions c ON p.case_id = c.case_id\n",
    "GROUP BY p.party_sobriety, c.collision_damage\n",
    "ORDER BY accident_count DESC;\n",
    "\"\"\"\n",
    "sobriety_df = pd.read_sql(query, engine)\n",
    "\n",
    "# Удалим строки с пропусками\n",
    "sobriety_df.dropna(subset=['party_sobriety', 'collision_damage'], inplace=True)\n",
    "\n",
    "# Построение графика\n",
    "plt.figure(figsize=(10, 6))\n",
    "for damage_type in sobriety_df['collision_damage'].unique():\n",
    "    df_subset = sobriety_df[sobriety_df['collision_damage'] == damage_type]\n",
    "    plt.barh(df_subset['party_sobriety'], df_subset['accident_count'], label=damage_type)\n",
    "\n",
    "plt.xlabel('Количество ДТП')\n",
    "plt.ylabel('Уровень трезвости водителя')\n",
    "plt.title('Количество ДТП в зависимости от уровня трезвости водителя и тяжести повреждений')\n",
    "plt.legend(title='Тяжесть повреждений')\n",
    "plt.show()"
   ]
  },
  {
   "cell_type": "markdown",
   "id": "f24a2386",
   "metadata": {},
   "source": [
    "Большинство ДТП совершают водители, которые не употребляли алкоголь. Это может свидетельствовать о том, что значительное количество аварий происходит из-за других факторов, а не только из-за алкогольного опьянения."
   ]
  },
  {
   "cell_type": "markdown",
   "id": "7360f673",
   "metadata": {},
   "source": [
    "## Создайте модель для оценки водительского риска"
   ]
  },
  {
   "cell_type": "code",
   "execution_count": 12,
   "id": "f1718269",
   "metadata": {},
   "outputs": [],
   "source": [
    "# Запрос для получения данных о водителях автомобилей\n",
    "query = \"\"\"\n",
    "SELECT \n",
    "    p.at_fault,\n",
    "    p.party_sobriety, \n",
    "    c.collision_date, \n",
    "    c.collision_time,\n",
    "    c.weather_1, \n",
    "    c.road_surface, \n",
    "    c.lighting, \n",
    "    v.vehicle_age, \n",
    "    v.vehicle_type, \n",
    "    v.vehicle_transmission\n",
    "FROM \n",
    "    parties p\n",
    "JOIN \n",
    "    collisions c ON p.case_id = c.case_id\n",
    "JOIN \n",
    "    vehicles v ON p.case_id = v.case_id AND p.party_number = v.party_number\n",
    "WHERE \n",
    "    p.party_type = 'car'\n",
    "    AND LOWER(c.collision_damage) != 'scratch'\n",
    "    AND EXTRACT(YEAR FROM c.collision_date) = 2012;\n",
    "\"\"\"\n",
    "data_df = pd.read_sql(query, engine)"
   ]
  },
  {
   "cell_type": "code",
   "execution_count": 13,
   "id": "ab1f80ee",
   "metadata": {},
   "outputs": [
    {
     "data": {
      "text/html": [
       "<div>\n",
       "<style scoped>\n",
       "    .dataframe tbody tr th:only-of-type {\n",
       "        vertical-align: middle;\n",
       "    }\n",
       "\n",
       "    .dataframe tbody tr th {\n",
       "        vertical-align: top;\n",
       "    }\n",
       "\n",
       "    .dataframe thead th {\n",
       "        text-align: right;\n",
       "    }\n",
       "</style>\n",
       "<table border=\"1\" class=\"dataframe\">\n",
       "  <thead>\n",
       "    <tr style=\"text-align: right;\">\n",
       "      <th></th>\n",
       "      <th>at_fault</th>\n",
       "      <th>party_sobriety</th>\n",
       "      <th>collision_date</th>\n",
       "      <th>collision_time</th>\n",
       "      <th>weather_1</th>\n",
       "      <th>road_surface</th>\n",
       "      <th>lighting</th>\n",
       "      <th>vehicle_age</th>\n",
       "      <th>vehicle_type</th>\n",
       "      <th>vehicle_transmission</th>\n",
       "    </tr>\n",
       "  </thead>\n",
       "  <tbody>\n",
       "    <tr>\n",
       "      <th>0</th>\n",
       "      <td>0</td>\n",
       "      <td>had not been drinking</td>\n",
       "      <td>2012-04-29</td>\n",
       "      <td>01:23:00</td>\n",
       "      <td>clear</td>\n",
       "      <td>dry</td>\n",
       "      <td>dark with street lights</td>\n",
       "      <td>NaN</td>\n",
       "      <td>sedan</td>\n",
       "      <td>auto</td>\n",
       "    </tr>\n",
       "    <tr>\n",
       "      <th>1</th>\n",
       "      <td>1</td>\n",
       "      <td>had not been drinking</td>\n",
       "      <td>2012-05-03</td>\n",
       "      <td>13:50:00</td>\n",
       "      <td>cloudy</td>\n",
       "      <td>dry</td>\n",
       "      <td>daylight</td>\n",
       "      <td>3.0</td>\n",
       "      <td>sedan</td>\n",
       "      <td>auto</td>\n",
       "    </tr>\n",
       "    <tr>\n",
       "      <th>2</th>\n",
       "      <td>0</td>\n",
       "      <td>had not been drinking</td>\n",
       "      <td>2012-04-27</td>\n",
       "      <td>23:31:00</td>\n",
       "      <td>clear</td>\n",
       "      <td>dry</td>\n",
       "      <td>dark with no street lights</td>\n",
       "      <td>2.0</td>\n",
       "      <td>sedan</td>\n",
       "      <td>auto</td>\n",
       "    </tr>\n",
       "    <tr>\n",
       "      <th>3</th>\n",
       "      <td>0</td>\n",
       "      <td>had not been drinking</td>\n",
       "      <td>2012-03-24</td>\n",
       "      <td>14:45:00</td>\n",
       "      <td>raining</td>\n",
       "      <td>wet</td>\n",
       "      <td>daylight</td>\n",
       "      <td>4.0</td>\n",
       "      <td>sedan</td>\n",
       "      <td>auto</td>\n",
       "    </tr>\n",
       "    <tr>\n",
       "      <th>4</th>\n",
       "      <td>0</td>\n",
       "      <td>had not been drinking</td>\n",
       "      <td>2012-03-07</td>\n",
       "      <td>19:13:00</td>\n",
       "      <td>clear</td>\n",
       "      <td>dry</td>\n",
       "      <td>dark with street lights</td>\n",
       "      <td>2.0</td>\n",
       "      <td>sedan</td>\n",
       "      <td>auto</td>\n",
       "    </tr>\n",
       "  </tbody>\n",
       "</table>\n",
       "</div>"
      ],
      "text/plain": [
       "   at_fault         party_sobriety collision_date collision_time weather_1  \\\n",
       "0         0  had not been drinking     2012-04-29       01:23:00     clear   \n",
       "1         1  had not been drinking     2012-05-03       13:50:00    cloudy   \n",
       "2         0  had not been drinking     2012-04-27       23:31:00     clear   \n",
       "3         0  had not been drinking     2012-03-24       14:45:00   raining   \n",
       "4         0  had not been drinking     2012-03-07       19:13:00     clear   \n",
       "\n",
       "  road_surface                    lighting  vehicle_age vehicle_type  \\\n",
       "0          dry     dark with street lights          NaN        sedan   \n",
       "1          dry                    daylight          3.0        sedan   \n",
       "2          dry  dark with no street lights          2.0        sedan   \n",
       "3          wet                    daylight          4.0        sedan   \n",
       "4          dry     dark with street lights          2.0        sedan   \n",
       "\n",
       "  vehicle_transmission  \n",
       "0                 auto  \n",
       "1                 auto  \n",
       "2                 auto  \n",
       "3                 auto  \n",
       "4                 auto  "
      ]
     },
     "execution_count": 13,
     "metadata": {},
     "output_type": "execute_result"
    }
   ],
   "source": [
    "# Проверка данных\n",
    "data_df.head()"
   ]
  },
  {
   "cell_type": "markdown",
   "id": "e8cbb8ee",
   "metadata": {},
   "source": [
    "Проверим наличие пропусков в данных:"
   ]
  },
  {
   "cell_type": "code",
   "execution_count": 14,
   "id": "f651e74e",
   "metadata": {},
   "outputs": [
    {
     "data": {
      "text/plain": [
       "at_fault                   0\n",
       "party_sobriety           872\n",
       "collision_date             0\n",
       "collision_time            88\n",
       "weather_1                168\n",
       "road_surface             348\n",
       "lighting                 154\n",
       "vehicle_age             1694\n",
       "vehicle_type               0\n",
       "vehicle_transmission     859\n",
       "dtype: int64"
      ]
     },
     "execution_count": 14,
     "metadata": {},
     "output_type": "execute_result"
    }
   ],
   "source": [
    "data_df.isnull().sum()"
   ]
  },
  {
   "cell_type": "markdown",
   "id": "01c5c6c3",
   "metadata": {},
   "source": [
    "Заполним медианными значениями пропуски в этих признаках:"
   ]
  },
  {
   "cell_type": "code",
   "execution_count": 15,
   "id": "e14d59ad",
   "metadata": {},
   "outputs": [],
   "source": [
    "data_df['collision_time'] = data_df['collision_time'].fillna(pd.to_datetime(data_df['collision_time'],\\\n",
    "                                                                            format='%H:%M:%S').median().time())"
   ]
  },
  {
   "cell_type": "code",
   "execution_count": 16,
   "id": "0ec71a72",
   "metadata": {},
   "outputs": [],
   "source": [
    "data_df['vehicle_age'] = data_df['vehicle_age'].fillna(data_df['vehicle_age'].median())"
   ]
  },
  {
   "cell_type": "markdown",
   "id": "bbd86a83",
   "metadata": {},
   "source": [
    "Пропуски в данных в следующих признаках можно заполнить самым частым значением:"
   ]
  },
  {
   "cell_type": "code",
   "execution_count": 17,
   "id": "c1e16cc1",
   "metadata": {},
   "outputs": [],
   "source": [
    "data_df['party_sobriety'] = data_df['party_sobriety'].fillna(data_df['party_sobriety'].mode()[0])"
   ]
  },
  {
   "cell_type": "code",
   "execution_count": 18,
   "id": "bbd45218",
   "metadata": {},
   "outputs": [],
   "source": [
    "data_df['weather_1'] = data_df['weather_1'].fillna(data_df['weather_1'].mode()[0])"
   ]
  },
  {
   "cell_type": "code",
   "execution_count": 19,
   "id": "f2e714bd",
   "metadata": {},
   "outputs": [],
   "source": [
    "data_df['road_surface'] = data_df['road_surface'].fillna(data_df['road_surface'].mode()[0])"
   ]
  },
  {
   "cell_type": "code",
   "execution_count": 20,
   "id": "4c2ed0c1",
   "metadata": {},
   "outputs": [],
   "source": [
    "data_df['lighting'] = data_df['lighting'].fillna(data_df['lighting'].mode()[0])"
   ]
  },
  {
   "cell_type": "code",
   "execution_count": 21,
   "id": "10d44ce7",
   "metadata": {},
   "outputs": [],
   "source": [
    "data_df['vehicle_transmission'] = data_df['vehicle_transmission'].fillna(data_df['vehicle_transmission'].mode()[0])"
   ]
  },
  {
   "cell_type": "code",
   "execution_count": 22,
   "id": "a5504933",
   "metadata": {},
   "outputs": [
    {
     "data": {
      "text/plain": [
       "at_fault                0\n",
       "party_sobriety          0\n",
       "collision_date          0\n",
       "collision_time          0\n",
       "weather_1               0\n",
       "road_surface            0\n",
       "lighting                0\n",
       "vehicle_age             0\n",
       "vehicle_type            0\n",
       "vehicle_transmission    0\n",
       "dtype: int64"
      ]
     },
     "execution_count": 22,
     "metadata": {},
     "output_type": "execute_result"
    }
   ],
   "source": [
    "# Проверка на наличие пропусков после заполнения\n",
    "data_df.isnull().sum()"
   ]
  },
  {
   "cell_type": "code",
   "execution_count": 23,
   "id": "b0162652",
   "metadata": {},
   "outputs": [
    {
     "data": {
      "text/html": [
       "<div>\n",
       "<style scoped>\n",
       "    .dataframe tbody tr th:only-of-type {\n",
       "        vertical-align: middle;\n",
       "    }\n",
       "\n",
       "    .dataframe tbody tr th {\n",
       "        vertical-align: top;\n",
       "    }\n",
       "\n",
       "    .dataframe thead th {\n",
       "        text-align: right;\n",
       "    }\n",
       "</style>\n",
       "<table border=\"1\" class=\"dataframe\">\n",
       "  <thead>\n",
       "    <tr style=\"text-align: right;\">\n",
       "      <th></th>\n",
       "      <th>party_sobriety</th>\n",
       "      <th>collision_date</th>\n",
       "      <th>collision_time</th>\n",
       "      <th>weather_1</th>\n",
       "      <th>road_surface</th>\n",
       "      <th>lighting</th>\n",
       "      <th>vehicle_type</th>\n",
       "      <th>vehicle_transmission</th>\n",
       "    </tr>\n",
       "  </thead>\n",
       "  <tbody>\n",
       "    <tr>\n",
       "      <th>count</th>\n",
       "      <td>56248</td>\n",
       "      <td>56248</td>\n",
       "      <td>56248</td>\n",
       "      <td>56248</td>\n",
       "      <td>56248</td>\n",
       "      <td>56248</td>\n",
       "      <td>56248</td>\n",
       "      <td>56248</td>\n",
       "    </tr>\n",
       "    <tr>\n",
       "      <th>unique</th>\n",
       "      <td>6</td>\n",
       "      <td>366</td>\n",
       "      <td>1435</td>\n",
       "      <td>7</td>\n",
       "      <td>4</td>\n",
       "      <td>5</td>\n",
       "      <td>3</td>\n",
       "      <td>2</td>\n",
       "    </tr>\n",
       "    <tr>\n",
       "      <th>top</th>\n",
       "      <td>had not been drinking</td>\n",
       "      <td>2012-03-17</td>\n",
       "      <td>15:00:00</td>\n",
       "      <td>clear</td>\n",
       "      <td>dry</td>\n",
       "      <td>daylight</td>\n",
       "      <td>sedan</td>\n",
       "      <td>manual</td>\n",
       "    </tr>\n",
       "    <tr>\n",
       "      <th>freq</th>\n",
       "      <td>49449</td>\n",
       "      <td>571</td>\n",
       "      <td>413</td>\n",
       "      <td>45260</td>\n",
       "      <td>50590</td>\n",
       "      <td>38218</td>\n",
       "      <td>37180</td>\n",
       "      <td>30177</td>\n",
       "    </tr>\n",
       "  </tbody>\n",
       "</table>\n",
       "</div>"
      ],
      "text/plain": [
       "               party_sobriety collision_date collision_time weather_1  \\\n",
       "count                   56248          56248          56248     56248   \n",
       "unique                      6            366           1435         7   \n",
       "top     had not been drinking     2012-03-17       15:00:00     clear   \n",
       "freq                    49449            571            413     45260   \n",
       "\n",
       "       road_surface  lighting vehicle_type vehicle_transmission  \n",
       "count         56248     56248        56248                56248  \n",
       "unique            4         5            3                    2  \n",
       "top             dry  daylight        sedan               manual  \n",
       "freq          50590     38218        37180                30177  "
      ]
     },
     "execution_count": 23,
     "metadata": {},
     "output_type": "execute_result"
    }
   ],
   "source": [
    "# Описание числовых признаков\n",
    "data_df.describe()\n",
    "\n",
    "# Описание категориальных признаков\n",
    "data_df.describe(include=['object'])"
   ]
  },
  {
   "cell_type": "code",
   "execution_count": 24,
   "id": "93aef2a3",
   "metadata": {},
   "outputs": [],
   "source": [
    "# Преобразование даты 'collision_date'\n",
    "data_df['collision_month'] = pd.to_datetime(data_df['collision_date']).dt.month\n",
    "data_df['collision_day'] = pd.to_datetime(data_df['collision_date']).dt.day\n",
    "data_df['collision_day_of_week'] = pd.to_datetime(data_df['collision_date']).dt.dayofweek\n",
    "\n",
    "# Преобразование времени 'collision_time'\n",
    "data_df['collision_hour'] = pd.to_datetime(data_df['collision_time'], format='%H:%M:%S').dt.hour\n",
    "\n",
    "# Удаляем исходные столбцы с датой и временем, так как они больше не нужны\n",
    "data_df = data_df.drop(['collision_date', 'collision_time'], axis=1)"
   ]
  },
  {
   "cell_type": "code",
   "execution_count": 25,
   "id": "c6b6ada1",
   "metadata": {},
   "outputs": [
    {
     "data": {
      "image/png": "[encoded data removed]",
      "text/plain": [
       "<Figure size 864x720 with 2 Axes>"
      ]
     },
     "metadata": {
      "needs_background": "light"
     },
     "output_type": "display_data"
    }
   ],
   "source": [
    "# Преобразуем категориальные признаки в числовые (если это необходимо)\n",
    "# Например, используя LabelEncoder или get_dummies (One-Hot Encoding)\n",
    "# Возьмем случайную выборку из данных\n",
    "sample_df = data_df.sample(n=1000, random_state=42)\n",
    "\n",
    "# Вычислим корреляционную матрицу PhiK\n",
    "phik_matrix = sample_df.phik_matrix(interval_cols=[])\n",
    "\n",
    "# Отобразим матрицу корреляции с помощью heatmap\n",
    "plt.figure(figsize=(12, 10))\n",
    "sns.heatmap(phik_matrix, annot=True, cmap='coolwarm')\n",
    "plt.title('PhiK Correlation Matrix')\n",
    "plt.show()"
   ]
  },
  {
   "cell_type": "code",
   "execution_count": 26,
   "id": "fbe2797d",
   "metadata": {
    "scrolled": false
   },
   "outputs": [
    {
     "data": {
      "image/png": "[encoded data removed]",
      "text/plain": [
       "<Figure size 864x360 with 1 Axes>"
      ]
     },
     "metadata": {
      "needs_background": "light"
     },
     "output_type": "display_data"
    },
    {
     "data": {
      "image/png": "[encoded data removed]",
      "text/plain": [
       "<Figure size 864x360 with 1 Axes>"
      ]
     },
     "metadata": {
      "needs_background": "light"
     },
     "output_type": "display_data"
    },
    {
     "data": {
      "image/png": "[encoded data removed]",
      "text/plain": [
       "<Figure size 864x360 with 1 Axes>"
      ]
     },
     "metadata": {
      "needs_background": "light"
     },
     "output_type": "display_data"
    },
    {
     "data": {
      "image/png": "[encoded data removed]",
      "text/plain": [
       "<Figure size 864x360 with 1 Axes>"
      ]
     },
     "metadata": {
      "needs_background": "light"
     },
     "output_type": "display_data"
    },
    {
     "data": {
      "image/png": "[encoded data removed]",
      "text/plain": [
       "<Figure size 864x360 with 1 Axes>"
      ]
     },
     "metadata": {
      "needs_background": "light"
     },
     "output_type": "display_data"
    },
    {
     "data": {
      "image/png": "[encoded data removed]",
      "text/plain": [
       "<Figure size 864x360 with 1 Axes>"
      ]
     },
     "metadata": {
      "needs_background": "light"
     },
     "output_type": "display_data"
    }
   ],
   "source": [
    "# Столбчатые диаграммы для категориальных признаков\n",
    "for column in ['party_sobriety', 'weather_1', 'road_surface', 'lighting', 'vehicle_type', 'vehicle_transmission']:\n",
    "    data_df[column].value_counts().plot(kind='barh', figsize=(12, 5))\n",
    "    plt.title(f'Распределение {column}')\n",
    "    plt.show()"
   ]
  },
  {
   "cell_type": "markdown",
   "id": "dbd6ab9d",
   "metadata": {},
   "source": [
    "Наблюдаемый на графиках сильный дисбаланс классов может привести к искажению результатов анализа и снижению точности моделей, обученных на этих данных."
   ]
  },
  {
   "cell_type": "code",
   "execution_count": 28,
   "id": "55d4c0de",
   "metadata": {},
   "outputs": [],
   "source": [
    "# Определение X и y\n",
    "X = data_df[['party_sobriety', 'collision_month', 'collision_day', 'collision_day_of_week', 'collision_hour', 'weather_1', 'road_surface', 'lighting', 'vehicle_age',\\\n",
    "            'vehicle_type', 'vehicle_transmission']]\n",
    "y = data_df['at_fault']  # Целевая переменная"
   ]
  },
  {
   "cell_type": "code",
   "execution_count": 29,
   "id": "2ab3c6e1",
   "metadata": {},
   "outputs": [],
   "source": [
    "encoder = OneHotEncoder(handle_unknown='ignore', drop='first')"
   ]
  },
  {
   "cell_type": "code",
   "execution_count": 30,
   "id": "4b0e12f4",
   "metadata": {},
   "outputs": [],
   "source": [
    "# Разделение на обучающую и тестовую выборки\n",
    "X_train, X_test, y_train, y_test = train_test_split(X, y, test_size=0.3, random_state=42)"
   ]
  },
  {
   "cell_type": "code",
   "execution_count": 32,
   "id": "4535657c",
   "metadata": {},
   "outputs": [],
   "source": [
    "categorical_features = ['party_sobriety', 'weather_1', 'road_surface', 'lighting', 'vehicle_type', 'vehicle_transmission']\n",
    "numerical_features = ['vehicle_age', 'collision_month', 'collision_day', 'collision_day_of_week', 'collision_hour']"
   ]
  },
  {
   "cell_type": "code",
   "execution_count": 33,
   "id": "12d39cf0",
   "metadata": {},
   "outputs": [],
   "source": [
    "preprocessor = ColumnTransformer(\n",
    "    transformers=[\n",
    "        ('cat', OneHotEncoder(handle_unknown='ignore'), categorical_features),  # Кодирование категориальных признаков\n",
    "        ('num', SimpleImputer(strategy='mean'), numerical_features)  # Импутация пропусков для числовых данных\n",
    "    ], remainder='passthrough'  # Остальные столбцы пропускаем без изменений\n",
    ")"
   ]
  },
  {
   "cell_type": "code",
   "execution_count": 34,
   "id": "35413f30",
   "metadata": {},
   "outputs": [],
   "source": [
    "X_train = preprocessor.fit_transform(X_train)\n",
    "X_test = preprocessor.transform(X_test)"
   ]
  },
  {
   "cell_type": "markdown",
   "id": "d4e964c0",
   "metadata": {},
   "source": [
    "Если классы сильно несбалансированы, PR AUC будет полезна для оценки модели, так как она фокусируется на положительном классе (высокий риск ДТП)."
   ]
  },
  {
   "cell_type": "code",
   "execution_count": 51,
   "id": "af1be620",
   "metadata": {},
   "outputs": [
    {
     "name": "stdout",
     "output_type": "stream",
     "text": [
      "Logistic Regression PR AUC (Test Set): 0.7117098107932662\n",
      "Logistic Regression Classification Report (Test Set):\n",
      "              precision    recall  f1-score   support\n",
      "\n",
      "           0       0.59      0.75      0.66      8350\n",
      "           1       0.67      0.48      0.56      8525\n",
      "\n",
      "    accuracy                           0.62     16875\n",
      "   macro avg       0.63      0.62      0.61     16875\n",
      "weighted avg       0.63      0.62      0.61     16875\n",
      "\n"
     ]
    },
    {
     "data": {
      "image/png": "[encoded data removed]",
      "text/plain": [
       "<Figure size 432x288 with 2 Axes>"
      ]
     },
     "metadata": {
      "needs_background": "light"
     },
     "output_type": "display_data"
    }
   ],
   "source": [
    "pipe = make_pipeline(StandardScaler(), LogisticRegression(max_iter=1000, class_weight='balanced', random_state=42)) #Increased max_iter\n",
    "\n",
    "# Fit the pipeline to the training data\n",
    "pipe.fit(X_train, y_train)\n",
    "\n",
    "# Make predictions\n",
    "y_proba = pipe.predict_proba(X_test)[:, 1]\n",
    "y_pred = pipe.predict(X_test)\n",
    "\n",
    "# Evaluate the model\n",
    "precision, recall, _ = precision_recall_curve(y_test, y_proba)\n",
    "pr_auc = auc(recall, precision) #Correct calculation\n",
    "print(f\"Logistic Regression PR AUC (Test Set): {pr_auc}\")\n",
    "print(\"Logistic Regression Classification Report (Test Set):\")\n",
    "print(classification_report(y_test, y_pred))\n",
    "\n",
    "conf_matrix = confusion_matrix(y_test, y_pred)\n",
    "ConfusionMatrixDisplay(conf_matrix).plot()\n",
    "plt.title('Logistic Regression: Матрица ошибок (Test Set)')\n",
    "plt.show()"
   ]
  },
  {
   "cell_type": "code",
   "execution_count": 44,
   "id": "1e5037e6",
   "metadata": {
    "scrolled": false
   },
   "outputs": [
    {
     "name": "stdout",
     "output_type": "stream",
     "text": [
      "Fitting 3 folds for each of 10 candidates, totalling 30 fits\n",
      "Лучшие параметры для Random Forest: {'n_estimators': 100, 'min_samples_split': 2, 'min_samples_leaf': 2, 'max_depth': 10, 'bootstrap': True}\n",
      "Средний AUC на кросс-валидации: 0.6844914981468476\n",
      "Random Forest Classification Report (Test Set):\n",
      "              precision    recall  f1-score   support\n",
      "\n",
      "           0       0.59      0.77      0.67      8350\n",
      "           1       0.68      0.48      0.56      8525\n",
      "\n",
      "    accuracy                           0.62     16875\n",
      "   macro avg       0.64      0.63      0.62     16875\n",
      "weighted avg       0.64      0.62      0.62     16875\n",
      "\n",
      "PR AUC (Test Set): 0.7205611901813043\n"
     ]
    },
    {
     "data": {
      "image/png": "[encoded data removed]",
      "text/plain": [
       "<Figure size 432x288 with 2 Axes>"
      ]
     },
     "metadata": {
      "needs_background": "light"
     },
     "output_type": "display_data"
    }
   ],
   "source": [
    "# Оптимизация гиперпараметров для Random Forest\n",
    "param_dist_rf = {\n",
    "    'n_estimators': [50, 100],\n",
    "    'max_depth': [None, 10, 20],\n",
    "    'min_samples_split': [2, 5],\n",
    "    'min_samples_leaf': [1, 2],\n",
    "    'bootstrap': [True]\n",
    "}\n",
    "\n",
    "rf_model = RandomForestClassifier(random_state=42, class_weight='balanced')\n",
    "\n",
    "# RandomizedSearchCV для оптимизации гиперпараметров\n",
    "random_search_rf = RandomizedSearchCV(estimator=rf_model, param_distributions=param_dist_rf,\n",
    "                                      n_iter=10, cv=3, verbose=1, random_state=42, n_jobs=-1)\n",
    "random_search_rf.fit(X_train, y_train)\n",
    "\n",
    "# Лучшая модель и её гиперпараметры\n",
    "best_rf = random_search_rf.best_estimator_\n",
    "print(f\"Лучшие параметры для Random Forest: {random_search_rf.best_params_}\")\n",
    "\n",
    "# Кросс-валидация по лучшей модели\n",
    "cv_scores = cross_val_score(best_rf, X_train, y_train, cv=5, scoring='roc_auc')\n",
    "print(f\"Средний AUC на кросс-валидации: {np.mean(cv_scores)}\")\n",
    "\n",
    "# Оценка на тестовой выборке\n",
    "y_pred_rf = best_rf.predict(X_test)\n",
    "y_proba_rf = best_rf.predict_proba(X_test)[:, 1]\n",
    "\n",
    "# Метрики для тестовой выборки\n",
    "print(\"Random Forest Classification Report (Test Set):\")\n",
    "print(classification_report(y_test, y_pred_rf))\n",
    "\n",
    "# PR AUC\n",
    "precision, recall, _ = precision_recall_curve(y_test, y_proba_rf)\n",
    "pr_auc = auc(recall, precision)\n",
    "print(f\"PR AUC (Test Set): {pr_auc}\")\n",
    "\n",
    "# Матрица ошибок для Random Forest на тестовой выборке\n",
    "conf_matrix_rf = confusion_matrix(y_test, y_pred_rf)\n",
    "ConfusionMatrixDisplay(conf_matrix_rf).plot()\n",
    "plt.title('Random Forest: Матрица ошибок (Test Set)')\n",
    "plt.show()\n"
   ]
  },
  {
   "cell_type": "code",
   "execution_count": 62,
   "id": "ff373e54",
   "metadata": {},
   "outputs": [
    {
     "name": "stdout",
     "output_type": "stream",
     "text": [
      "\n",
      "Gradient Boosting Classification Report (Test Set):\n",
      "              precision    recall  f1-score   support\n",
      "\n",
      "           0       0.60      0.75      0.67      8350\n",
      "           1       0.68      0.51      0.59      8525\n",
      "\n",
      "    accuracy                           0.63     16875\n",
      "   macro avg       0.64      0.63      0.63     16875\n",
      "weighted avg       0.64      0.63      0.63     16875\n",
      "\n"
     ]
    },
    {
     "data": {
      "image/png": "[encoded data removed]",
      "text/plain": [
       "<Figure size 432x288 with 2 Axes>"
      ]
     },
     "metadata": {
      "needs_background": "light"
     },
     "output_type": "display_data"
    },
    {
     "name": "stdout",
     "output_type": "stream",
     "text": [
      "Gradient Boosting PR AUC (Test Set): 0.7251136246489926\n"
     ]
    },
    {
     "data": {
      "image/png": "[encoded data removed]",
      "text/plain": [
       "<Figure size 432x288 with 1 Axes>"
      ]
     },
     "metadata": {
      "needs_background": "light"
     },
     "output_type": "display_data"
    }
   ],
   "source": [
    "gb_pipeline = Pipeline([\n",
    "    ('scaler', StandardScaler()),\n",
    "    ('classifier', GradientBoostingClassifier(random_state=42))\n",
    "])\n",
    "\n",
    "gb_pipeline.fit(X_train, y_train)\n",
    "\n",
    "gb_y_proba = gb_pipeline.predict_proba(X_test)[:, 1]\n",
    "gb_y_pred = gb_pipeline.predict(X_test)\n",
    "\n",
    "def evaluate_model(model_name, y_true, y_pred, y_proba):\n",
    "    print(f\"\\n{model_name} Classification Report (Test Set):\")\n",
    "    print(classification_report(y_true, y_pred))\n",
    "\n",
    "    conf_matrix = confusion_matrix(y_true, y_pred)\n",
    "    ConfusionMatrixDisplay(conf_matrix).plot()\n",
    "    plt.title(f'{model_name}: Матрица ошибок (Test Set)')\n",
    "    plt.show()\n",
    "\n",
    "    precision, recall, _ = precision_recall_curve(y_true, y_proba)\n",
    "    pr_auc = auc(recall, precision)\n",
    "    print(f\"{model_name} PR AUC (Test Set): {pr_auc}\")\n",
    "\n",
    "    fpr, tpr, _ = roc_curve(y_true, y_proba)\n",
    "    roc_auc = roc_auc_score(y_true, y_proba)\n",
    "    plt.plot(fpr, tpr, label=f'{model_name} (AUC = {roc_auc:.2f})')\n",
    "    plt.plot([0,1],[0,1], linestyle='--')\n",
    "    plt.xlabel('False Positive Rate')\n",
    "    plt.ylabel('True Positive Rate')\n",
    "    plt.title(f'{model_name} ROC Curve')\n",
    "    plt.legend()\n",
    "    plt.show()\n",
    "\n",
    "evaluate_model(\"Gradient Boosting\", y_test, gb_y_pred, gb_y_proba)"
   ]
  },
  {
   "cell_type": "markdown",
   "id": "ef65cf94",
   "metadata": {},
   "source": [
    "## Проведите анализ важности факторов ДТП"
   ]
  },
  {
   "cell_type": "markdown",
   "id": "311bf8aa",
   "metadata": {},
   "source": [
    "Статистическая сводка для числовых признаков:"
   ]
  },
  {
   "cell_type": "code",
   "execution_count": null,
   "id": "06d45f6a",
   "metadata": {},
   "outputs": [],
   "source": [
    "data_df.describe()"
   ]
  },
  {
   "cell_type": "markdown",
   "id": "aa4247d4",
   "metadata": {},
   "source": [
    "Данные достаточно сбалансированы."
   ]
  },
  {
   "cell_type": "markdown",
   "id": "6bdf5172",
   "metadata": {},
   "source": [
    "Анализ категориальных признаков:"
   ]
  },
  {
   "cell_type": "code",
   "execution_count": null,
   "id": "971101d1",
   "metadata": {},
   "outputs": [],
   "source": [
    "# Распределение трезвости водителя\n",
    "data_df['party_sobriety'].value_counts().plot(kind='bar', color='skyblue', figsize=(10, 6))\n",
    "plt.title('Распределение трезвости водителя')\n",
    "plt.xlabel('Трезвость')\n",
    "plt.ylabel('Количество')\n",
    "plt.show()\n",
    "\n",
    "# Распределение погодных условий\n",
    "data_df['weather_1'].value_counts().plot(kind='bar', color='lightgreen', figsize=(10, 6))\n",
    "plt.title('Распределение погодных условий')\n",
    "plt.xlabel('Погодные условия')\n",
    "plt.ylabel('Количество')\n",
    "plt.show()"
   ]
  },
  {
   "cell_type": "markdown",
   "id": "226bed74",
   "metadata": {},
   "source": [
    "Большая часть записей в выборке - трезвые водители и ясная погода."
   ]
  },
  {
   "cell_type": "markdown",
   "id": "e51f8332",
   "metadata": {},
   "source": [
    "Корреляция между возрастом автомобиля и участием в ДТП:"
   ]
  },
  {
   "cell_type": "code",
   "execution_count": null,
   "id": "5a1bb6be",
   "metadata": {},
   "outputs": [],
   "source": [
    "# Визуализация распределения возраста автомобилей в зависимости от виновности\n",
    "plt.figure(figsize=(10, 6))\n",
    "data_df.boxplot(column='vehicle_age', by='at_fault')\n",
    "plt.title('Возраст автомобиля в зависимости от виновности в ДТП')\n",
    "plt.suptitle('')\n",
    "plt.xlabel('Виновность')\n",
    "plt.ylabel('Возраст автомобиля')\n",
    "plt.show()"
   ]
  },
  {
   "cell_type": "markdown",
   "id": "533d8255",
   "metadata": {},
   "source": [
    "Возраст автомобиля не дает явных выводов относительно виновности."
   ]
  },
  {
   "cell_type": "markdown",
   "id": "f1e07f8e",
   "metadata": {},
   "source": [
    "Влияние погодных условий на вероятность ДТП:"
   ]
  },
  {
   "cell_type": "code",
   "execution_count": null,
   "id": "0056753c",
   "metadata": {},
   "outputs": [],
   "source": [
    "# Группировка данных по погодным условиям и виновности\n",
    "weather_fault_df = data_df.groupby(['weather_1', 'at_fault']).size().unstack()\n",
    "\n",
    "# Построение графика\n",
    "weather_fault_df.plot(kind='bar', stacked=True, figsize=(10, 6), color=['lightblue', 'salmon'])\n",
    "plt.title('Влияние погодных условий на вероятность участия в ДТП')\n",
    "plt.xlabel('Погодные условия')\n",
    "plt.ylabel('Количество ДТП')\n",
    "plt.show()"
   ]
  },
  {
   "cell_type": "markdown",
   "id": "ae57e3bc",
   "metadata": {},
   "source": [
    "Погодные условия мало влияют на возникновение аварии."
   ]
  },
  {
   "cell_type": "code",
   "execution_count": null,
   "id": "5f230a4d",
   "metadata": {},
   "outputs": [],
   "source": [
    "# 1. Получение коэффициентов логистической регрессии\n",
    "coef_log = log_model.coef_[0]  # Коэффициенты для первой (и единственной) целевой переменной\n",
    "abs_coef_log = np.abs(coef_log)  # Берем абсолютные значения коэффициентов\n",
    "\n",
    "# 2. Преобразуем кодированные имена признаков для логистической регрессии, как и для Random Forest\n",
    "feature_names_log = encoder.get_feature_names_out(input_features=X.columns)\n",
    "\n",
    "# 3. Важность признаков для Logistic Regression\n",
    "plt.figure(figsize=(10, 6))\n",
    "plt.barh(feature_names_log, abs_coef_log, color='salmon')\n",
    "plt.xlabel('Абсолютное значение коэффициента')\n",
    "plt.title('Logistic Regression: Важность признаков')\n",
    "plt.show()\n",
    "\n",
    "# Анализ важности признаков для Random Forest\n",
    "importances_rf = rf_model.feature_importances_\n",
    "feature_names = encoder.get_feature_names_out(input_features=X.columns)\n",
    "\n",
    "# Важность признаков для Random Forest\n",
    "plt.figure(figsize=(10, 6))\n",
    "plt.barh(feature_names, importances_rf, color='skyblue')\n",
    "plt.xlabel('Важность признака')\n",
    "plt.title('Random Forest: Важность признаков')\n",
    "plt.show()\n",
    "\n",
    "# Анализ важности признаков для Gradient Boosting\n",
    "importances_gb = gb_model.feature_importances_\n",
    "\n",
    "# Важность признаков для Gradient Boosting\n",
    "plt.figure(figsize=(10, 6))\n",
    "plt.barh(feature_names, importances_gb, color='lightgreen')\n",
    "plt.xlabel('Важность признака')\n",
    "plt.title('Gradient Boosting: Важность признаков')\n",
    "plt.show()"
   ]
  },
  {
   "cell_type": "markdown",
   "id": "75e981cb",
   "metadata": {},
   "source": [
    "Наиболее значимыми фактором для увеличения вероятности ДТП является состояние алкогольного опьянения водителя."
   ]
  },
  {
   "cell_type": "markdown",
   "id": "cfe295d1",
   "metadata": {},
   "source": [
    "Зависимость между одним из важных признаков модели и целевым признаком:"
   ]
  },
  {
   "cell_type": "code",
   "execution_count": null,
   "id": "eb8a4226",
   "metadata": {},
   "outputs": [],
   "source": [
    "# Группировка данных по уровню трезвости и виновности\n",
    "sobriety_fault_df = data_df.groupby(['party_sobriety', 'at_fault']).size().unstack()\n",
    "\n",
    "# Построение графика\n",
    "sobriety_fault_df.plot(kind='bar', stacked=True, figsize=(10, 6), color=['lightblue', 'salmon'])\n",
    "plt.title('Зависимость между трезвостью водителя и виновностью в ДТП')\n",
    "plt.xlabel('Уровень трезвости водителя')\n",
    "plt.ylabel('Количество ДТП')\n",
    "plt.legend(['Не виновен', 'Виновен'])\n",
    "plt.show()"
   ]
  },
  {
   "cell_type": "markdown",
   "id": "2a6f6444",
   "metadata": {},
   "source": [
    "Большинство нетрезвых водителей попало в аварию."
   ]
  },
  {
   "cell_type": "markdown",
   "id": "266a0442",
   "metadata": {},
   "source": [
    "Предложения по оснащению автомобиля на основе анализа зависимости между уровнем трезвости водителя и его виновностью в ДТП:\n",
    "\n",
    "- Алкотестер: Чтобы снизить риск ДТП, автомобили можно оснастить алкотестерами, которые будут проверять уровень алкоголя в организме водителя перед началом поездки. Водитель сможет завести машину только после тестирования, если уровень алкоголя в пределах допустимого.\n",
    "\n",
    "\n",
    "\n",
    "- Камеры с распознаванием лица: Для того чтобы убедиться, что тест на алкоголь проходит именно водитель, можно установить камеру с функцией распознавания лиц. Это позволит не допустить мошенничество, когда тест может пройти другой человек вместо водителя."
   ]
  },
  {
   "cell_type": "markdown",
   "id": "6a08bc02",
   "metadata": {},
   "source": [
    "## Выводы"
   ]
  },
  {
   "cell_type": "markdown",
   "id": "7f277fd8",
   "metadata": {},
   "source": [
    "Лучшей моделью оказалась Logistic Regression. Создание адекватной системы оценки риска при выдаче авто возможно. При выдаче авто необходимо проверять уровень трезвости водителя."
   ]
  }
 ],
 "metadata": {
  "ExecuteTimeLog": [
   {
    "duration": 7347,
    "start_time": "2024-09-28T18:32:44.034Z"
   },
   {
    "duration": 22041,
    "start_time": "2024-09-28T18:32:51.383Z"
   },
   {
    "duration": 8072,
    "start_time": "2024-09-28T18:33:45.604Z"
   },
   {
    "duration": 21955,
    "start_time": "2024-09-28T18:33:53.678Z"
   },
   {
    "duration": 7552,
    "start_time": "2024-09-28T18:34:47.196Z"
   },
   {
    "duration": 22080,
    "start_time": "2024-09-28T18:34:54.750Z"
   },
   {
    "duration": 17,
    "start_time": "2024-09-28T18:35:16.831Z"
   },
   {
    "duration": 53,
    "start_time": "2024-09-28T18:36:13.268Z"
   },
   {
    "duration": 7,
    "start_time": "2024-09-28T18:36:23.756Z"
   },
   {
    "duration": 2946,
    "start_time": "2024-09-28T18:37:07.675Z"
   },
   {
    "duration": 1147,
    "start_time": "2024-09-28T18:37:15.813Z"
   },
   {
    "duration": 192,
    "start_time": "2024-09-28T18:38:50.648Z"
   },
   {
    "duration": 8078,
    "start_time": "2024-09-28T18:39:04.821Z"
   },
   {
    "duration": 22144,
    "start_time": "2024-09-28T18:39:12.902Z"
   },
   {
    "duration": 2831,
    "start_time": "2024-09-28T18:39:35.048Z"
   },
   {
    "duration": 495,
    "start_time": "2024-09-28T18:39:37.882Z"
   },
   {
    "duration": 216,
    "start_time": "2024-09-28T18:39:38.380Z"
   },
   {
    "duration": 124,
    "start_time": "2024-09-28T18:41:31.064Z"
   },
   {
    "duration": 9861,
    "start_time": "2024-09-28T18:41:39.648Z"
   },
   {
    "duration": 22251,
    "start_time": "2024-09-28T18:41:49.511Z"
   },
   {
    "duration": 2907,
    "start_time": "2024-09-28T18:42:11.764Z"
   },
   {
    "duration": 496,
    "start_time": "2024-09-28T18:42:14.673Z"
   },
   {
    "duration": 250,
    "start_time": "2024-09-28T18:42:15.173Z"
   },
   {
    "duration": 0,
    "start_time": "2024-09-28T18:42:15.425Z"
   },
   {
    "duration": 0,
    "start_time": "2024-09-28T18:42:15.426Z"
   },
   {
    "duration": 0,
    "start_time": "2024-09-28T18:42:15.429Z"
   },
   {
    "duration": 8441,
    "start_time": "2024-09-28T18:42:58.977Z"
   },
   {
    "duration": 22327,
    "start_time": "2024-09-28T18:43:07.420Z"
   },
   {
    "duration": 2898,
    "start_time": "2024-09-28T18:43:29.749Z"
   },
   {
    "duration": 497,
    "start_time": "2024-09-28T18:43:32.649Z"
   },
   {
    "duration": 254,
    "start_time": "2024-09-28T18:43:33.149Z"
   },
   {
    "duration": 0,
    "start_time": "2024-09-28T18:43:33.406Z"
   },
   {
    "duration": 0,
    "start_time": "2024-09-28T18:43:33.408Z"
   },
   {
    "duration": 0,
    "start_time": "2024-09-28T18:43:33.409Z"
   },
   {
    "duration": 184,
    "start_time": "2024-09-28T18:44:15.139Z"
   },
   {
    "duration": 695,
    "start_time": "2024-09-28T18:44:40.848Z"
   },
   {
    "duration": 8628,
    "start_time": "2024-09-28T18:44:55.854Z"
   },
   {
    "duration": 22172,
    "start_time": "2024-09-28T18:45:04.485Z"
   },
   {
    "duration": 2970,
    "start_time": "2024-09-28T18:45:26.659Z"
   },
   {
    "duration": 504,
    "start_time": "2024-09-28T18:45:29.631Z"
   },
   {
    "duration": 747,
    "start_time": "2024-09-28T18:45:30.137Z"
   },
   {
    "duration": 143,
    "start_time": "2024-09-28T18:45:30.886Z"
   },
   {
    "duration": 0,
    "start_time": "2024-09-28T18:45:31.031Z"
   },
   {
    "duration": 0,
    "start_time": "2024-09-28T18:45:31.032Z"
   },
   {
    "duration": 15,
    "start_time": "2024-09-28T18:48:22.315Z"
   },
   {
    "duration": 18,
    "start_time": "2024-09-28T18:48:45.804Z"
   },
   {
    "duration": 1114,
    "start_time": "2024-09-28T18:49:12.237Z"
   },
   {
    "duration": 516,
    "start_time": "2024-09-28T18:51:03.265Z"
   },
   {
    "duration": 502,
    "start_time": "2024-09-28T18:51:14.038Z"
   },
   {
    "duration": 534,
    "start_time": "2024-09-28T18:51:22.298Z"
   },
   {
    "duration": 493,
    "start_time": "2024-09-28T18:51:35.634Z"
   },
   {
    "duration": 506,
    "start_time": "2024-09-28T18:51:42.997Z"
   },
   {
    "duration": 496,
    "start_time": "2024-09-28T18:51:53.211Z"
   },
   {
    "duration": 809,
    "start_time": "2024-09-28T18:56:14.078Z"
   },
   {
    "duration": 62,
    "start_time": "2024-09-28T18:56:14.890Z"
   },
   {
    "duration": 91,
    "start_time": "2024-09-28T18:57:13.802Z"
   },
   {
    "duration": 43,
    "start_time": "2024-09-28T18:57:56.069Z"
   },
   {
    "duration": 89,
    "start_time": "2024-09-28T18:58:48.416Z"
   },
   {
    "duration": 0,
    "start_time": "2024-09-28T18:58:48.507Z"
   },
   {
    "duration": 0,
    "start_time": "2024-09-28T18:58:48.508Z"
   },
   {
    "duration": 0,
    "start_time": "2024-09-28T18:58:48.509Z"
   },
   {
    "duration": 0,
    "start_time": "2024-09-28T18:58:48.510Z"
   },
   {
    "duration": 0,
    "start_time": "2024-09-28T18:58:48.512Z"
   },
   {
    "duration": 0,
    "start_time": "2024-09-28T18:58:48.513Z"
   },
   {
    "duration": 0,
    "start_time": "2024-09-28T18:58:48.515Z"
   },
   {
    "duration": 8455,
    "start_time": "2024-09-28T18:59:48.826Z"
   },
   {
    "duration": 23087,
    "start_time": "2024-09-28T18:59:57.283Z"
   },
   {
    "duration": 2987,
    "start_time": "2024-09-28T19:00:20.372Z"
   },
   {
    "duration": 537,
    "start_time": "2024-09-28T19:00:23.361Z"
   },
   {
    "duration": 7484,
    "start_time": "2024-09-28T19:00:23.901Z"
   },
   {
    "duration": 249,
    "start_time": "2024-09-28T19:00:31.387Z"
   },
   {
    "duration": 0,
    "start_time": "2024-09-28T19:00:31.638Z"
   },
   {
    "duration": 0,
    "start_time": "2024-09-28T19:00:31.640Z"
   },
   {
    "duration": 37,
    "start_time": "2024-09-28T19:01:12.476Z"
   },
   {
    "duration": 9406,
    "start_time": "2024-09-28T19:02:52.111Z"
   },
   {
    "duration": 23749,
    "start_time": "2024-09-28T19:03:01.519Z"
   },
   {
    "duration": 2862,
    "start_time": "2024-09-28T19:03:25.270Z"
   },
   {
    "duration": 567,
    "start_time": "2024-09-28T19:03:28.134Z"
   },
   {
    "duration": 4797,
    "start_time": "2024-09-28T19:03:28.703Z"
   },
   {
    "duration": 68,
    "start_time": "2024-09-28T19:03:33.502Z"
   },
   {
    "duration": 1165,
    "start_time": "2024-09-28T19:03:33.572Z"
   },
   {
    "duration": 130,
    "start_time": "2024-09-28T19:03:34.745Z"
   },
   {
    "duration": 0,
    "start_time": "2024-09-28T19:03:34.877Z"
   },
   {
    "duration": 8746,
    "start_time": "2024-09-28T19:04:07.671Z"
   },
   {
    "duration": 22049,
    "start_time": "2024-09-28T19:04:16.418Z"
   },
   {
    "duration": 2881,
    "start_time": "2024-09-28T19:04:38.469Z"
   },
   {
    "duration": 520,
    "start_time": "2024-09-28T19:04:41.352Z"
   },
   {
    "duration": 12276,
    "start_time": "2024-09-28T19:04:41.875Z"
   },
   {
    "duration": 59,
    "start_time": "2024-09-28T19:04:54.155Z"
   },
   {
    "duration": 1118,
    "start_time": "2024-09-28T19:04:54.216Z"
   },
   {
    "duration": 145,
    "start_time": "2024-09-28T19:04:55.336Z"
   },
   {
    "duration": 1356,
    "start_time": "2024-09-28T19:05:56.659Z"
   },
   {
    "duration": 8550,
    "start_time": "2024-09-28T19:06:26.080Z"
   },
   {
    "duration": 22331,
    "start_time": "2024-09-28T19:06:34.633Z"
   },
   {
    "duration": 3033,
    "start_time": "2024-09-28T19:06:56.966Z"
   },
   {
    "duration": 545,
    "start_time": "2024-09-28T19:07:00.001Z"
   },
   {
    "duration": 945,
    "start_time": "2024-09-28T19:07:00.548Z"
   },
   {
    "duration": 73,
    "start_time": "2024-09-28T19:07:01.495Z"
   },
   {
    "duration": 1421,
    "start_time": "2024-09-28T19:07:01.571Z"
   },
   {
    "duration": 126,
    "start_time": "2024-09-28T19:07:02.994Z"
   },
   {
    "duration": 11,
    "start_time": "2024-09-28T19:08:08.290Z"
   },
   {
    "duration": 342,
    "start_time": "2024-09-28T19:08:17.138Z"
   },
   {
    "duration": 13,
    "start_time": "2024-09-28T19:13:03.435Z"
   },
   {
    "duration": 284,
    "start_time": "2024-09-28T19:13:11.510Z"
   },
   {
    "duration": 12,
    "start_time": "2024-09-28T19:16:53.028Z"
   },
   {
    "duration": 251,
    "start_time": "2024-09-28T19:16:58.629Z"
   },
   {
    "duration": 216,
    "start_time": "2024-09-28T19:17:37.547Z"
   },
   {
    "duration": 49,
    "start_time": "2024-09-28T19:25:27.922Z"
   },
   {
    "duration": 18,
    "start_time": "2024-09-28T19:25:45.301Z"
   },
   {
    "duration": 8438,
    "start_time": "2024-09-28T19:26:13.799Z"
   },
   {
    "duration": 2811,
    "start_time": "2024-09-28T19:26:25.952Z"
   },
   {
    "duration": 33,
    "start_time": "2024-09-28T19:26:31.917Z"
   },
   {
    "duration": 1358,
    "start_time": "2024-09-28T19:26:44.897Z"
   },
   {
    "duration": 10879,
    "start_time": "2024-09-28T19:27:55.306Z"
   },
   {
    "duration": 3316,
    "start_time": "2024-09-28T19:28:20.185Z"
   },
   {
    "duration": 29,
    "start_time": "2024-09-28T19:28:25.291Z"
   },
   {
    "duration": 1496,
    "start_time": "2024-09-28T19:29:05.735Z"
   },
   {
    "duration": 3341,
    "start_time": "2024-09-28T19:29:11.544Z"
   },
   {
    "duration": 3187,
    "start_time": "2024-09-28T19:29:19.304Z"
   },
   {
    "duration": 24332,
    "start_time": "2024-09-28T19:31:24.427Z"
   },
   {
    "duration": 3117,
    "start_time": "2024-09-28T19:32:18.456Z"
   },
   {
    "duration": 7940,
    "start_time": "2024-09-28T19:32:21.576Z"
   },
   {
    "duration": 0,
    "start_time": "2024-09-28T19:32:29.518Z"
   },
   {
    "duration": 0,
    "start_time": "2024-09-28T19:32:29.519Z"
   },
   {
    "duration": 0,
    "start_time": "2024-09-28T19:32:29.521Z"
   },
   {
    "duration": 0,
    "start_time": "2024-09-28T19:32:29.523Z"
   },
   {
    "duration": 0,
    "start_time": "2024-09-28T19:32:29.524Z"
   },
   {
    "duration": 0,
    "start_time": "2024-09-28T19:32:29.525Z"
   },
   {
    "duration": 0,
    "start_time": "2024-09-28T19:32:29.526Z"
   },
   {
    "duration": 15829,
    "start_time": "2024-09-28T19:33:04.360Z"
   },
   {
    "duration": 3548,
    "start_time": "2024-09-28T19:33:29.825Z"
   },
   {
    "duration": 8588,
    "start_time": "2024-09-28T19:33:33.380Z"
   },
   {
    "duration": 0,
    "start_time": "2024-09-28T19:33:41.970Z"
   },
   {
    "duration": 0,
    "start_time": "2024-09-28T19:33:41.972Z"
   },
   {
    "duration": 0,
    "start_time": "2024-09-28T19:33:41.973Z"
   },
   {
    "duration": 0,
    "start_time": "2024-09-28T19:33:41.974Z"
   },
   {
    "duration": 0,
    "start_time": "2024-09-28T19:33:41.975Z"
   },
   {
    "duration": 0,
    "start_time": "2024-09-28T19:33:41.977Z"
   },
   {
    "duration": 0,
    "start_time": "2024-09-28T19:33:41.978Z"
   },
   {
    "duration": 9134,
    "start_time": "2024-09-28T19:34:35.876Z"
   },
   {
    "duration": 8316,
    "start_time": "2024-09-28T19:34:45.012Z"
   },
   {
    "duration": 0,
    "start_time": "2024-09-28T19:34:53.331Z"
   },
   {
    "duration": 0,
    "start_time": "2024-09-28T19:34:53.332Z"
   },
   {
    "duration": 0,
    "start_time": "2024-09-28T19:34:53.334Z"
   },
   {
    "duration": 0,
    "start_time": "2024-09-28T19:34:53.335Z"
   },
   {
    "duration": 0,
    "start_time": "2024-09-28T19:34:53.346Z"
   },
   {
    "duration": 0,
    "start_time": "2024-09-28T19:34:53.347Z"
   },
   {
    "duration": 0,
    "start_time": "2024-09-28T19:34:53.349Z"
   },
   {
    "duration": 935,
    "start_time": "2024-09-28T19:35:43.387Z"
   },
   {
    "duration": 1032,
    "start_time": "2024-09-28T19:35:57.824Z"
   },
   {
    "duration": 3244,
    "start_time": "2024-09-28T19:36:09.882Z"
   },
   {
    "duration": 7886,
    "start_time": "2024-09-28T19:36:13.129Z"
   },
   {
    "duration": 0,
    "start_time": "2024-09-28T19:36:21.016Z"
   },
   {
    "duration": 0,
    "start_time": "2024-09-28T19:36:21.018Z"
   },
   {
    "duration": 0,
    "start_time": "2024-09-28T19:36:21.019Z"
   },
   {
    "duration": 0,
    "start_time": "2024-09-28T19:36:21.020Z"
   },
   {
    "duration": 0,
    "start_time": "2024-09-28T19:36:21.022Z"
   },
   {
    "duration": 0,
    "start_time": "2024-09-28T19:36:21.023Z"
   },
   {
    "duration": 0,
    "start_time": "2024-09-28T19:36:21.024Z"
   },
   {
    "duration": 10982,
    "start_time": "2024-09-28T19:36:42.573Z"
   },
   {
    "duration": 32,
    "start_time": "2024-09-28T19:37:15.457Z"
   },
   {
    "duration": 3744,
    "start_time": "2024-09-28T19:37:26.573Z"
   },
   {
    "duration": 9456,
    "start_time": "2024-09-28T19:37:30.320Z"
   },
   {
    "duration": 22768,
    "start_time": "2024-09-28T19:37:39.778Z"
   },
   {
    "duration": 3042,
    "start_time": "2024-09-28T19:38:02.549Z"
   },
   {
    "duration": 561,
    "start_time": "2024-09-28T19:38:05.593Z"
   },
   {
    "duration": 11126,
    "start_time": "2024-09-28T19:38:06.156Z"
   },
   {
    "duration": 110,
    "start_time": "2024-09-28T19:38:17.284Z"
   },
   {
    "duration": 239,
    "start_time": "2024-09-28T19:38:17.396Z"
   },
   {
    "duration": 0,
    "start_time": "2024-09-28T19:38:17.637Z"
   },
   {
    "duration": 12565,
    "start_time": "2024-09-28T19:38:35.241Z"
   },
   {
    "duration": 8146,
    "start_time": "2024-09-28T19:39:00.872Z"
   },
   {
    "duration": 7699,
    "start_time": "2024-09-28T19:39:09.021Z"
   },
   {
    "duration": 7461,
    "start_time": "2024-09-28T19:39:16.723Z"
   },
   {
    "duration": 0,
    "start_time": "2024-09-28T19:39:24.186Z"
   },
   {
    "duration": 0,
    "start_time": "2024-09-28T19:39:24.188Z"
   },
   {
    "duration": 0,
    "start_time": "2024-09-28T19:39:24.190Z"
   },
   {
    "duration": 0,
    "start_time": "2024-09-28T19:39:24.192Z"
   },
   {
    "duration": 0,
    "start_time": "2024-09-28T19:39:24.193Z"
   },
   {
    "duration": 0,
    "start_time": "2024-09-28T19:39:24.195Z"
   },
   {
    "duration": 0,
    "start_time": "2024-09-28T19:39:24.196Z"
   },
   {
    "duration": 4926,
    "start_time": "2024-09-28T19:41:00.042Z"
   },
   {
    "duration": 29252,
    "start_time": "2024-09-28T19:41:04.972Z"
   },
   {
    "duration": 3049,
    "start_time": "2024-09-28T19:41:34.228Z"
   },
   {
    "duration": 4575,
    "start_time": "2024-09-28T19:42:00.598Z"
   },
   {
    "duration": 8073,
    "start_time": "2024-09-28T19:42:05.176Z"
   },
   {
    "duration": 12480,
    "start_time": "2024-09-28T19:42:13.252Z"
   },
   {
    "duration": 2277,
    "start_time": "2024-09-28T19:42:47.805Z"
   },
   {
    "duration": 19947,
    "start_time": "2024-09-28T19:42:50.084Z"
   },
   {
    "duration": 2912,
    "start_time": "2024-09-28T19:43:10.033Z"
   },
   {
    "duration": 3449,
    "start_time": "2024-09-28T19:43:45.518Z"
   },
   {
    "duration": 22038,
    "start_time": "2024-09-28T19:43:48.969Z"
   },
   {
    "duration": 2849,
    "start_time": "2024-09-28T19:44:11.009Z"
   },
   {
    "duration": 2820,
    "start_time": "2024-09-28T19:44:39.285Z"
   },
   {
    "duration": 9077,
    "start_time": "2024-09-28T19:44:42.107Z"
   },
   {
    "duration": 22787,
    "start_time": "2024-09-28T19:44:51.186Z"
   },
   {
    "duration": 5739,
    "start_time": "2024-09-28T19:45:13.976Z"
   },
   {
    "duration": 644,
    "start_time": "2024-09-28T19:45:19.718Z"
   },
   {
    "duration": 896,
    "start_time": "2024-09-28T19:45:20.364Z"
   },
   {
    "duration": 68,
    "start_time": "2024-09-28T19:45:21.262Z"
   },
   {
    "duration": 194,
    "start_time": "2024-09-28T19:45:21.332Z"
   },
   {
    "duration": 0,
    "start_time": "2024-09-28T19:45:21.528Z"
   },
   {
    "duration": 6,
    "start_time": "2024-09-28T19:46:16.567Z"
   },
   {
    "duration": 2951,
    "start_time": "2024-09-28T19:46:37.322Z"
   },
   {
    "duration": 12624,
    "start_time": "2024-09-28T19:46:40.276Z"
   },
   {
    "duration": 32986,
    "start_time": "2024-09-28T19:46:52.902Z"
   },
   {
    "duration": 5477,
    "start_time": "2024-09-28T19:47:25.890Z"
   },
   {
    "duration": 706,
    "start_time": "2024-09-28T19:47:31.369Z"
   },
   {
    "duration": 897,
    "start_time": "2024-09-28T19:47:32.077Z"
   },
   {
    "duration": 77,
    "start_time": "2024-09-28T19:47:32.976Z"
   },
   {
    "duration": 188,
    "start_time": "2024-09-28T19:47:33.054Z"
   },
   {
    "duration": 0,
    "start_time": "2024-09-28T19:47:33.244Z"
   },
   {
    "duration": 764,
    "start_time": "2024-09-28T19:48:26.096Z"
   },
   {
    "duration": 760,
    "start_time": "2024-09-28T19:48:44.576Z"
   },
   {
    "duration": 653,
    "start_time": "2024-09-28T19:48:49.684Z"
   },
   {
    "duration": 1174,
    "start_time": "2024-09-28T19:49:21.504Z"
   },
   {
    "duration": 2879,
    "start_time": "2024-09-28T19:49:38.621Z"
   },
   {
    "duration": 11377,
    "start_time": "2024-09-28T19:49:41.503Z"
   },
   {
    "duration": 34716,
    "start_time": "2024-09-28T19:49:52.882Z"
   },
   {
    "duration": 5892,
    "start_time": "2024-09-28T19:50:27.600Z"
   },
   {
    "duration": 709,
    "start_time": "2024-09-28T19:50:33.494Z"
   },
   {
    "duration": 1156,
    "start_time": "2024-09-28T19:50:34.204Z"
   },
   {
    "duration": 86,
    "start_time": "2024-09-28T19:50:35.363Z"
   },
   {
    "duration": 215,
    "start_time": "2024-09-28T19:50:35.457Z"
   },
   {
    "duration": 0,
    "start_time": "2024-09-28T19:50:35.674Z"
   },
   {
    "duration": 7182,
    "start_time": "2024-09-29T18:53:51.221Z"
   },
   {
    "duration": 0,
    "start_time": "2024-09-29T18:53:58.405Z"
   },
   {
    "duration": 0,
    "start_time": "2024-09-29T18:53:58.406Z"
   },
   {
    "duration": 0,
    "start_time": "2024-09-29T18:53:58.407Z"
   },
   {
    "duration": 0,
    "start_time": "2024-09-29T18:53:58.408Z"
   },
   {
    "duration": 0,
    "start_time": "2024-09-29T18:53:58.409Z"
   },
   {
    "duration": 0,
    "start_time": "2024-09-29T18:53:58.410Z"
   },
   {
    "duration": 0,
    "start_time": "2024-09-29T18:53:58.411Z"
   },
   {
    "duration": 25679,
    "start_time": "2024-09-29T18:56:04.898Z"
   },
   {
    "duration": 6904,
    "start_time": "2024-09-29T18:56:30.579Z"
   },
   {
    "duration": 30619,
    "start_time": "2024-09-29T18:56:37.485Z"
   },
   {
    "duration": 2804,
    "start_time": "2024-09-29T18:57:08.106Z"
   },
   {
    "duration": 423,
    "start_time": "2024-09-29T18:57:10.913Z"
   },
   {
    "duration": 863,
    "start_time": "2024-09-29T18:57:11.338Z"
   },
   {
    "duration": 50,
    "start_time": "2024-09-29T18:57:12.203Z"
   },
   {
    "duration": 190,
    "start_time": "2024-09-29T18:57:12.255Z"
   },
   {
    "duration": 0,
    "start_time": "2024-09-29T18:57:12.447Z"
   },
   {
    "duration": 2391,
    "start_time": "2024-09-29T18:58:46.146Z"
   },
   {
    "duration": 7913,
    "start_time": "2024-09-29T18:58:48.539Z"
   },
   {
    "duration": 31178,
    "start_time": "2024-09-29T18:58:56.454Z"
   },
   {
    "duration": 3005,
    "start_time": "2024-09-29T18:59:27.633Z"
   },
   {
    "duration": 453,
    "start_time": "2024-09-29T18:59:30.640Z"
   },
   {
    "duration": 913,
    "start_time": "2024-09-29T18:59:31.099Z"
   },
   {
    "duration": 57,
    "start_time": "2024-09-29T18:59:32.014Z"
   },
   {
    "duration": 2506,
    "start_time": "2024-09-29T18:59:57.375Z"
   },
   {
    "duration": 8541,
    "start_time": "2024-09-29T18:59:59.884Z"
   },
   {
    "duration": 31551,
    "start_time": "2024-09-29T19:00:08.427Z"
   },
   {
    "duration": 2858,
    "start_time": "2024-09-29T19:00:39.980Z"
   },
   {
    "duration": 483,
    "start_time": "2024-09-29T19:00:42.839Z"
   },
   {
    "duration": 920,
    "start_time": "2024-09-29T19:00:43.324Z"
   },
   {
    "duration": 68,
    "start_time": "2024-09-29T19:00:44.245Z"
   },
   {
    "duration": 2472,
    "start_time": "2024-09-29T19:01:47.120Z"
   },
   {
    "duration": 7945,
    "start_time": "2024-09-29T19:01:49.594Z"
   },
   {
    "duration": 31962,
    "start_time": "2024-09-29T19:01:57.541Z"
   },
   {
    "duration": 2954,
    "start_time": "2024-09-29T19:02:29.504Z"
   },
   {
    "duration": 451,
    "start_time": "2024-09-29T19:02:32.459Z"
   },
   {
    "duration": 863,
    "start_time": "2024-09-29T19:02:32.911Z"
   },
   {
    "duration": 57,
    "start_time": "2024-09-29T19:02:33.776Z"
   },
   {
    "duration": 974,
    "start_time": "2024-09-29T19:02:33.835Z"
   },
   {
    "duration": 0,
    "start_time": "2024-09-29T19:02:34.810Z"
   },
   {
    "duration": 3009,
    "start_time": "2024-09-29T19:03:26.751Z"
   },
   {
    "duration": 12,
    "start_time": "2024-09-29T19:03:55.013Z"
   },
   {
    "duration": 33,
    "start_time": "2024-09-29T19:04:38.271Z"
   },
   {
    "duration": 2452,
    "start_time": "2024-09-29T19:11:49.402Z"
   },
   {
    "duration": 7285,
    "start_time": "2024-09-29T19:11:51.856Z"
   },
   {
    "duration": 30995,
    "start_time": "2024-09-29T19:11:59.143Z"
   },
   {
    "duration": 2937,
    "start_time": "2024-09-29T19:12:30.139Z"
   },
   {
    "duration": 436,
    "start_time": "2024-09-29T19:12:33.078Z"
   },
   {
    "duration": 886,
    "start_time": "2024-09-29T19:12:33.516Z"
   },
   {
    "duration": 169,
    "start_time": "2024-09-29T19:12:34.404Z"
   },
   {
    "duration": 0,
    "start_time": "2024-09-29T19:12:34.575Z"
   },
   {
    "duration": 108,
    "start_time": "2024-09-29T19:13:22.115Z"
   },
   {
    "duration": 2403,
    "start_time": "2024-09-29T19:14:25.467Z"
   },
   {
    "duration": 7950,
    "start_time": "2024-09-29T19:14:27.872Z"
   },
   {
    "duration": 31213,
    "start_time": "2024-09-29T19:14:35.823Z"
   },
   {
    "duration": 2929,
    "start_time": "2024-09-29T19:15:07.038Z"
   },
   {
    "duration": 470,
    "start_time": "2024-09-29T19:15:09.968Z"
   },
   {
    "duration": 879,
    "start_time": "2024-09-29T19:15:10.440Z"
   },
   {
    "duration": 129,
    "start_time": "2024-09-29T19:15:11.321Z"
   },
   {
    "duration": 0,
    "start_time": "2024-09-29T19:15:11.452Z"
   },
   {
    "duration": 2554,
    "start_time": "2024-09-29T19:16:28.033Z"
   },
   {
    "duration": 8172,
    "start_time": "2024-09-29T19:16:30.594Z"
   },
   {
    "duration": 32825,
    "start_time": "2024-09-29T19:16:38.768Z"
   },
   {
    "duration": 2872,
    "start_time": "2024-09-29T19:17:11.600Z"
   },
   {
    "duration": 447,
    "start_time": "2024-09-29T19:17:14.474Z"
   },
   {
    "duration": 916,
    "start_time": "2024-09-29T19:17:14.922Z"
   },
   {
    "duration": 2480,
    "start_time": "2024-09-29T19:19:14.953Z"
   },
   {
    "duration": 8066,
    "start_time": "2024-09-29T19:19:17.436Z"
   },
   {
    "duration": 31962,
    "start_time": "2024-09-29T19:19:25.503Z"
   },
   {
    "duration": 3042,
    "start_time": "2024-09-29T19:19:57.468Z"
   },
   {
    "duration": 445,
    "start_time": "2024-09-29T19:20:00.511Z"
   },
   {
    "duration": 1123,
    "start_time": "2024-09-29T19:20:00.958Z"
   },
   {
    "duration": 168,
    "start_time": "2024-09-29T19:20:02.083Z"
   },
   {
    "duration": 0,
    "start_time": "2024-09-29T19:20:02.253Z"
   },
   {
    "duration": 2535,
    "start_time": "2024-09-29T19:20:41.165Z"
   },
   {
    "duration": 8181,
    "start_time": "2024-09-29T19:20:43.702Z"
   },
   {
    "duration": 32038,
    "start_time": "2024-09-29T19:20:51.885Z"
   },
   {
    "duration": 2926,
    "start_time": "2024-09-29T19:21:23.925Z"
   },
   {
    "duration": 439,
    "start_time": "2024-09-29T19:21:26.852Z"
   },
   {
    "duration": 947,
    "start_time": "2024-09-29T19:21:27.296Z"
   },
   {
    "duration": 65,
    "start_time": "2024-09-29T19:22:13.061Z"
   },
   {
    "duration": 2513,
    "start_time": "2024-09-29T19:22:36.777Z"
   },
   {
    "duration": 7848,
    "start_time": "2024-09-29T19:22:39.293Z"
   },
   {
    "duration": 31359,
    "start_time": "2024-09-29T19:22:47.143Z"
   },
   {
    "duration": 3010,
    "start_time": "2024-09-29T19:23:18.504Z"
   },
   {
    "duration": 458,
    "start_time": "2024-09-29T19:23:21.515Z"
   },
   {
    "duration": 900,
    "start_time": "2024-09-29T19:23:21.974Z"
   },
   {
    "duration": 267,
    "start_time": "2024-09-29T19:23:22.875Z"
   },
   {
    "duration": 0,
    "start_time": "2024-09-29T19:23:23.144Z"
   },
   {
    "duration": 582,
    "start_time": "2024-09-29T19:23:30.755Z"
   },
   {
    "duration": 14,
    "start_time": "2024-09-29T19:23:38.183Z"
   },
   {
    "duration": 11,
    "start_time": "2024-09-29T19:24:27.764Z"
   },
   {
    "duration": 17,
    "start_time": "2024-09-29T19:24:34.237Z"
   },
   {
    "duration": 12,
    "start_time": "2024-09-29T19:25:03.943Z"
   },
   {
    "duration": 12,
    "start_time": "2024-09-29T19:25:48.089Z"
   },
   {
    "duration": 164,
    "start_time": "2024-09-29T19:26:00.971Z"
   },
   {
    "duration": 226,
    "start_time": "2024-09-29T19:26:12.797Z"
   },
   {
    "duration": 11,
    "start_time": "2024-09-29T19:26:13.789Z"
   },
   {
    "duration": 2369,
    "start_time": "2024-09-29T19:26:37.857Z"
   },
   {
    "duration": 7243,
    "start_time": "2024-09-29T19:26:40.230Z"
   },
   {
    "duration": 30538,
    "start_time": "2024-09-29T19:26:47.474Z"
   },
   {
    "duration": 2933,
    "start_time": "2024-09-29T19:27:18.013Z"
   },
   {
    "duration": 441,
    "start_time": "2024-09-29T19:27:20.948Z"
   },
   {
    "duration": 898,
    "start_time": "2024-09-29T19:27:21.390Z"
   },
   {
    "duration": 433,
    "start_time": "2024-09-29T19:27:22.289Z"
   },
   {
    "duration": 0,
    "start_time": "2024-09-29T19:27:22.723Z"
   },
   {
    "duration": 2329,
    "start_time": "2024-09-29T19:27:56.695Z"
   },
   {
    "duration": 6790,
    "start_time": "2024-09-29T19:27:59.026Z"
   },
   {
    "duration": 31473,
    "start_time": "2024-09-29T19:28:05.818Z"
   },
   {
    "duration": 2875,
    "start_time": "2024-09-29T19:28:37.293Z"
   },
   {
    "duration": 433,
    "start_time": "2024-09-29T19:28:40.170Z"
   },
   {
    "duration": 861,
    "start_time": "2024-09-29T19:28:40.605Z"
   },
   {
    "duration": 585,
    "start_time": "2024-09-29T19:28:41.468Z"
   },
   {
    "duration": 129,
    "start_time": "2024-09-29T19:28:42.055Z"
   },
   {
    "duration": 193,
    "start_time": "2024-09-29T19:29:36.946Z"
   },
   {
    "duration": 3,
    "start_time": "2024-09-29T19:30:05.221Z"
   },
   {
    "duration": 5,
    "start_time": "2024-09-29T19:30:26.280Z"
   },
   {
    "duration": 355,
    "start_time": "2024-09-29T19:31:25.395Z"
   },
   {
    "duration": 382,
    "start_time": "2024-09-29T19:32:06.256Z"
   },
   {
    "duration": 7445,
    "start_time": "2024-09-29T19:35:43.587Z"
   },
   {
    "duration": 2383,
    "start_time": "2024-09-29T19:36:27.994Z"
   },
   {
    "duration": 7572,
    "start_time": "2024-09-29T19:36:30.379Z"
   },
   {
    "duration": 30569,
    "start_time": "2024-09-29T19:36:37.953Z"
   },
   {
    "duration": 2817,
    "start_time": "2024-09-29T19:37:08.523Z"
   },
   {
    "duration": 435,
    "start_time": "2024-09-29T19:37:11.342Z"
   },
   {
    "duration": 3307,
    "start_time": "2024-09-29T19:37:11.778Z"
   },
   {
    "duration": 10271,
    "start_time": "2024-09-29T19:37:15.090Z"
   },
   {
    "duration": 120,
    "start_time": "2024-09-29T19:37:25.362Z"
   },
   {
    "duration": 692,
    "start_time": "2024-09-29T19:38:02.688Z"
   },
   {
    "duration": 9788,
    "start_time": "2024-09-29T19:38:20.218Z"
   },
   {
    "duration": 711,
    "start_time": "2024-09-29T19:38:30.008Z"
   },
   {
    "duration": 968,
    "start_time": "2024-09-29T19:39:54.629Z"
   },
   {
    "duration": 7297,
    "start_time": "2024-10-01T19:53:02.624Z"
   },
   {
    "duration": 8661,
    "start_time": "2024-10-01T19:53:09.924Z"
   },
   {
    "duration": 31216,
    "start_time": "2024-10-01T19:53:18.586Z"
   },
   {
    "duration": 2780,
    "start_time": "2024-10-01T19:53:49.805Z"
   },
   {
    "duration": 544,
    "start_time": "2024-10-01T19:53:52.587Z"
   },
   {
    "duration": 4533,
    "start_time": "2024-10-01T19:53:53.133Z"
   },
   {
    "duration": 0,
    "start_time": "2024-10-01T19:53:57.668Z"
   },
   {
    "duration": 0,
    "start_time": "2024-10-01T19:53:57.669Z"
   },
   {
    "duration": 0,
    "start_time": "2024-10-01T19:53:57.670Z"
   },
   {
    "duration": 0,
    "start_time": "2024-10-01T19:53:57.671Z"
   },
   {
    "duration": 4272,
    "start_time": "2024-10-01T19:54:58.929Z"
   },
   {
    "duration": 386,
    "start_time": "2024-10-01T19:55:18.894Z"
   },
   {
    "duration": 439,
    "start_time": "2024-10-01T19:56:03.189Z"
   },
   {
    "duration": 897,
    "start_time": "2024-10-01T19:56:35.067Z"
   },
   {
    "duration": 9875,
    "start_time": "2024-10-01T19:56:35.965Z"
   },
   {
    "duration": 1026,
    "start_time": "2024-10-01T19:56:45.842Z"
   },
   {
    "duration": 20,
    "start_time": "2024-10-01T19:59:49.276Z"
   },
   {
    "duration": 353,
    "start_time": "2024-10-01T20:00:05.683Z"
   },
   {
    "duration": 370,
    "start_time": "2024-10-01T20:00:47.165Z"
   },
   {
    "duration": 299,
    "start_time": "2024-10-01T20:00:53.704Z"
   },
   {
    "duration": 347,
    "start_time": "2024-10-01T20:01:02.919Z"
   },
   {
    "duration": 203,
    "start_time": "2024-10-01T20:02:51.626Z"
   },
   {
    "duration": 217,
    "start_time": "2024-10-01T20:03:43.555Z"
   },
   {
    "duration": 64,
    "start_time": "2024-10-01T20:05:28.587Z"
   },
   {
    "duration": 67,
    "start_time": "2024-10-01T20:11:04.782Z"
   },
   {
    "duration": 208,
    "start_time": "2024-10-01T20:15:48.988Z"
   },
   {
    "duration": 435,
    "start_time": "2024-10-01T20:28:35.336Z"
   },
   {
    "duration": 7338,
    "start_time": "2024-10-03T18:16:45.243Z"
   },
   {
    "duration": 2,
    "start_time": "2024-10-03T18:16:52.584Z"
   },
   {
    "duration": 60,
    "start_time": "2024-10-03T18:16:52.588Z"
   },
   {
    "duration": 0,
    "start_time": "2024-10-03T18:16:52.651Z"
   },
   {
    "duration": 0,
    "start_time": "2024-10-03T18:16:52.652Z"
   },
   {
    "duration": 0,
    "start_time": "2024-10-03T18:16:52.653Z"
   },
   {
    "duration": 0,
    "start_time": "2024-10-03T18:16:52.654Z"
   },
   {
    "duration": 0,
    "start_time": "2024-10-03T18:16:52.655Z"
   },
   {
    "duration": 0,
    "start_time": "2024-10-03T18:16:52.656Z"
   },
   {
    "duration": 0,
    "start_time": "2024-10-03T18:16:52.657Z"
   },
   {
    "duration": 0,
    "start_time": "2024-10-03T18:16:52.658Z"
   },
   {
    "duration": 0,
    "start_time": "2024-10-03T18:16:52.659Z"
   },
   {
    "duration": 0,
    "start_time": "2024-10-03T18:16:52.660Z"
   },
   {
    "duration": 0,
    "start_time": "2024-10-03T18:16:52.661Z"
   },
   {
    "duration": 0,
    "start_time": "2024-10-03T18:16:52.661Z"
   },
   {
    "duration": 0,
    "start_time": "2024-10-03T18:16:52.663Z"
   },
   {
    "duration": 0,
    "start_time": "2024-10-03T18:16:52.663Z"
   },
   {
    "duration": 0,
    "start_time": "2024-10-03T18:16:52.665Z"
   },
   {
    "duration": 0,
    "start_time": "2024-10-03T18:16:52.675Z"
   },
   {
    "duration": 0,
    "start_time": "2024-10-03T18:16:52.676Z"
   },
   {
    "duration": 0,
    "start_time": "2024-10-03T18:16:52.677Z"
   },
   {
    "duration": 0,
    "start_time": "2024-10-03T18:16:52.678Z"
   },
   {
    "duration": 2501,
    "start_time": "2024-10-03T18:19:46.744Z"
   },
   {
    "duration": 114,
    "start_time": "2024-10-03T18:19:49.247Z"
   },
   {
    "duration": 5682,
    "start_time": "2024-10-03T18:19:49.363Z"
   },
   {
    "duration": 52,
    "start_time": "2024-10-03T18:19:55.048Z"
   },
   {
    "duration": 0,
    "start_time": "2024-10-03T18:19:55.103Z"
   },
   {
    "duration": 0,
    "start_time": "2024-10-03T18:19:55.104Z"
   },
   {
    "duration": 0,
    "start_time": "2024-10-03T18:19:55.105Z"
   },
   {
    "duration": 0,
    "start_time": "2024-10-03T18:19:55.107Z"
   },
   {
    "duration": 0,
    "start_time": "2024-10-03T18:19:55.108Z"
   },
   {
    "duration": 0,
    "start_time": "2024-10-03T18:19:55.109Z"
   },
   {
    "duration": 0,
    "start_time": "2024-10-03T18:19:55.111Z"
   },
   {
    "duration": 0,
    "start_time": "2024-10-03T18:19:55.112Z"
   },
   {
    "duration": 0,
    "start_time": "2024-10-03T18:19:55.113Z"
   },
   {
    "duration": 0,
    "start_time": "2024-10-03T18:19:55.114Z"
   },
   {
    "duration": 0,
    "start_time": "2024-10-03T18:19:55.116Z"
   },
   {
    "duration": 0,
    "start_time": "2024-10-03T18:19:55.117Z"
   },
   {
    "duration": 0,
    "start_time": "2024-10-03T18:19:55.119Z"
   },
   {
    "duration": 0,
    "start_time": "2024-10-03T18:19:55.120Z"
   },
   {
    "duration": 0,
    "start_time": "2024-10-03T18:19:55.122Z"
   },
   {
    "duration": 0,
    "start_time": "2024-10-03T18:19:55.123Z"
   },
   {
    "duration": 0,
    "start_time": "2024-10-03T18:19:55.124Z"
   },
   {
    "duration": 0,
    "start_time": "2024-10-03T18:19:55.126Z"
   },
   {
    "duration": 2419,
    "start_time": "2024-10-03T18:20:21.676Z"
   },
   {
    "duration": 523,
    "start_time": "2024-10-03T18:20:24.098Z"
   },
   {
    "duration": 6199,
    "start_time": "2024-10-03T18:20:24.623Z"
   },
   {
    "duration": 30821,
    "start_time": "2024-10-03T18:20:30.824Z"
   },
   {
    "duration": 2784,
    "start_time": "2024-10-03T18:21:01.647Z"
   },
   {
    "duration": 330,
    "start_time": "2024-10-03T18:21:04.432Z"
   },
   {
    "duration": 0,
    "start_time": "2024-10-03T18:21:04.764Z"
   },
   {
    "duration": 0,
    "start_time": "2024-10-03T18:21:04.765Z"
   },
   {
    "duration": 0,
    "start_time": "2024-10-03T18:21:04.766Z"
   },
   {
    "duration": 0,
    "start_time": "2024-10-03T18:21:04.767Z"
   },
   {
    "duration": 0,
    "start_time": "2024-10-03T18:21:04.768Z"
   },
   {
    "duration": 0,
    "start_time": "2024-10-03T18:21:04.769Z"
   },
   {
    "duration": 0,
    "start_time": "2024-10-03T18:21:04.770Z"
   },
   {
    "duration": 0,
    "start_time": "2024-10-03T18:21:04.771Z"
   },
   {
    "duration": 0,
    "start_time": "2024-10-03T18:21:04.772Z"
   },
   {
    "duration": 0,
    "start_time": "2024-10-03T18:21:04.773Z"
   },
   {
    "duration": 0,
    "start_time": "2024-10-03T18:21:04.774Z"
   },
   {
    "duration": 0,
    "start_time": "2024-10-03T18:21:04.775Z"
   },
   {
    "duration": 1,
    "start_time": "2024-10-03T18:21:04.775Z"
   },
   {
    "duration": 0,
    "start_time": "2024-10-03T18:21:04.776Z"
   },
   {
    "duration": 0,
    "start_time": "2024-10-03T18:21:04.777Z"
   },
   {
    "duration": 0,
    "start_time": "2024-10-03T18:21:04.779Z"
   },
   {
    "duration": 2461,
    "start_time": "2024-10-03T18:21:28.771Z"
   },
   {
    "duration": 838,
    "start_time": "2024-10-03T18:21:31.234Z"
   },
   {
    "duration": 5934,
    "start_time": "2024-10-03T18:21:32.075Z"
   },
   {
    "duration": 30696,
    "start_time": "2024-10-03T18:21:38.012Z"
   },
   {
    "duration": 2717,
    "start_time": "2024-10-03T18:22:08.709Z"
   },
   {
    "duration": 443,
    "start_time": "2024-10-03T18:22:11.427Z"
   },
   {
    "duration": 4404,
    "start_time": "2024-10-03T18:22:11.872Z"
   },
   {
    "duration": 383,
    "start_time": "2024-10-03T18:22:16.277Z"
   },
   {
    "duration": 840,
    "start_time": "2024-10-03T18:22:16.662Z"
   },
   {
    "duration": 12,
    "start_time": "2024-10-03T18:22:17.504Z"
   },
   {
    "duration": 13,
    "start_time": "2024-10-03T18:22:17.517Z"
   },
   {
    "duration": 81,
    "start_time": "2024-10-03T18:22:17.531Z"
   },
   {
    "duration": 0,
    "start_time": "2024-10-03T18:22:17.613Z"
   },
   {
    "duration": 0,
    "start_time": "2024-10-03T18:22:17.614Z"
   },
   {
    "duration": 0,
    "start_time": "2024-10-03T18:22:17.616Z"
   },
   {
    "duration": 0,
    "start_time": "2024-10-03T18:22:17.617Z"
   },
   {
    "duration": 0,
    "start_time": "2024-10-03T18:22:17.618Z"
   },
   {
    "duration": 0,
    "start_time": "2024-10-03T18:22:17.619Z"
   },
   {
    "duration": 0,
    "start_time": "2024-10-03T18:22:17.620Z"
   },
   {
    "duration": 0,
    "start_time": "2024-10-03T18:22:17.621Z"
   },
   {
    "duration": 0,
    "start_time": "2024-10-03T18:22:17.622Z"
   },
   {
    "duration": 0,
    "start_time": "2024-10-03T18:22:17.623Z"
   },
   {
    "duration": 1468,
    "start_time": "2024-10-03T18:31:30.087Z"
   },
   {
    "duration": 2656,
    "start_time": "2024-10-03T18:32:04.265Z"
   },
   {
    "duration": 717,
    "start_time": "2024-10-03T18:32:06.923Z"
   },
   {
    "duration": 3,
    "start_time": "2024-10-03T18:32:07.642Z"
   },
   {
    "duration": 5905,
    "start_time": "2024-10-03T18:32:07.646Z"
   },
   {
    "duration": 48,
    "start_time": "2024-10-03T18:32:13.552Z"
   },
   {
    "duration": 11,
    "start_time": "2024-10-03T18:32:13.602Z"
   },
   {
    "duration": 27,
    "start_time": "2024-10-03T18:32:13.614Z"
   },
   {
    "duration": 32,
    "start_time": "2024-10-03T18:32:13.642Z"
   },
   {
    "duration": 34,
    "start_time": "2024-10-03T18:32:13.676Z"
   },
   {
    "duration": 518,
    "start_time": "2024-10-03T18:32:13.713Z"
   },
   {
    "duration": 1905,
    "start_time": "2024-10-03T18:32:14.233Z"
   },
   {
    "duration": 400,
    "start_time": "2024-10-03T18:32:16.140Z"
   },
   {
    "duration": 1148,
    "start_time": "2024-10-03T18:32:16.542Z"
   },
   {
    "duration": 12,
    "start_time": "2024-10-03T18:32:17.693Z"
   },
   {
    "duration": 12,
    "start_time": "2024-10-03T18:32:17.707Z"
   },
   {
    "duration": 98,
    "start_time": "2024-10-03T18:32:17.720Z"
   },
   {
    "duration": 0,
    "start_time": "2024-10-03T18:32:17.820Z"
   },
   {
    "duration": 0,
    "start_time": "2024-10-03T18:32:17.821Z"
   },
   {
    "duration": 0,
    "start_time": "2024-10-03T18:32:17.823Z"
   },
   {
    "duration": 0,
    "start_time": "2024-10-03T18:32:17.824Z"
   },
   {
    "duration": 0,
    "start_time": "2024-10-03T18:32:17.825Z"
   },
   {
    "duration": 0,
    "start_time": "2024-10-03T18:32:17.826Z"
   },
   {
    "duration": 0,
    "start_time": "2024-10-03T18:32:17.827Z"
   },
   {
    "duration": 0,
    "start_time": "2024-10-03T18:32:17.828Z"
   },
   {
    "duration": 0,
    "start_time": "2024-10-03T18:32:17.829Z"
   },
   {
    "duration": 0,
    "start_time": "2024-10-03T18:32:17.830Z"
   },
   {
    "duration": 2634,
    "start_time": "2024-10-03T18:34:36.599Z"
   },
   {
    "duration": 706,
    "start_time": "2024-10-03T18:34:39.236Z"
   },
   {
    "duration": 3,
    "start_time": "2024-10-03T18:34:39.943Z"
   },
   {
    "duration": 6121,
    "start_time": "2024-10-03T18:34:39.948Z"
   },
   {
    "duration": 3,
    "start_time": "2024-10-03T18:34:46.070Z"
   },
   {
    "duration": 48,
    "start_time": "2024-10-03T18:34:46.074Z"
   },
   {
    "duration": 38,
    "start_time": "2024-10-03T18:34:46.123Z"
   },
   {
    "duration": 10,
    "start_time": "2024-10-03T18:34:46.163Z"
   },
   {
    "duration": 41,
    "start_time": "2024-10-03T18:34:46.175Z"
   },
   {
    "duration": 21,
    "start_time": "2024-10-03T18:34:46.219Z"
   },
   {
    "duration": 510,
    "start_time": "2024-10-03T18:34:46.241Z"
   },
   {
    "duration": 4410,
    "start_time": "2024-10-03T18:34:46.753Z"
   },
   {
    "duration": 392,
    "start_time": "2024-10-03T18:34:51.164Z"
   },
   {
    "duration": 1058,
    "start_time": "2024-10-03T18:34:51.558Z"
   },
   {
    "duration": 10,
    "start_time": "2024-10-03T18:34:52.617Z"
   },
   {
    "duration": 18,
    "start_time": "2024-10-03T18:34:52.628Z"
   },
   {
    "duration": 89,
    "start_time": "2024-10-03T18:34:52.647Z"
   },
   {
    "duration": 0,
    "start_time": "2024-10-03T18:34:52.738Z"
   },
   {
    "duration": 0,
    "start_time": "2024-10-03T18:34:52.739Z"
   },
   {
    "duration": 0,
    "start_time": "2024-10-03T18:34:52.741Z"
   },
   {
    "duration": 0,
    "start_time": "2024-10-03T18:34:52.742Z"
   },
   {
    "duration": 0,
    "start_time": "2024-10-03T18:34:52.744Z"
   },
   {
    "duration": 0,
    "start_time": "2024-10-03T18:34:52.745Z"
   },
   {
    "duration": 0,
    "start_time": "2024-10-03T18:34:52.746Z"
   },
   {
    "duration": 0,
    "start_time": "2024-10-03T18:34:52.747Z"
   },
   {
    "duration": 0,
    "start_time": "2024-10-03T18:34:52.749Z"
   },
   {
    "duration": 0,
    "start_time": "2024-10-03T18:34:52.750Z"
   },
   {
    "duration": 39,
    "start_time": "2024-10-03T18:35:56.130Z"
   },
   {
    "duration": 39,
    "start_time": "2024-10-03T18:37:58.252Z"
   },
   {
    "duration": 40,
    "start_time": "2024-10-03T18:38:04.193Z"
   },
   {
    "duration": 35,
    "start_time": "2024-10-03T18:38:15.370Z"
   },
   {
    "duration": 61,
    "start_time": "2024-10-03T18:39:34.630Z"
   },
   {
    "duration": 31,
    "start_time": "2024-10-03T18:40:37.890Z"
   },
   {
    "duration": 75,
    "start_time": "2024-10-03T18:40:48.598Z"
   },
   {
    "duration": 38,
    "start_time": "2024-10-03T18:41:02.590Z"
   },
   {
    "duration": 48,
    "start_time": "2024-10-03T18:42:19.101Z"
   },
   {
    "duration": 25,
    "start_time": "2024-10-03T18:44:00.018Z"
   },
   {
    "duration": 21,
    "start_time": "2024-10-03T18:44:09.669Z"
   },
   {
    "duration": 63,
    "start_time": "2024-10-03T18:49:18.918Z"
   },
   {
    "duration": 17,
    "start_time": "2024-10-03T19:01:59.015Z"
   },
   {
    "duration": 7866,
    "start_time": "2024-10-03T19:02:14.514Z"
   },
   {
    "duration": 6688,
    "start_time": "2024-10-03T19:03:09.755Z"
   },
   {
    "duration": 8247,
    "start_time": "2024-10-03T19:07:06.234Z"
   },
   {
    "duration": 8039,
    "start_time": "2024-10-03T19:07:49.172Z"
   },
   {
    "duration": 8019,
    "start_time": "2024-10-03T19:08:32.077Z"
   },
   {
    "duration": 8458,
    "start_time": "2024-10-03T19:08:48.702Z"
   },
   {
    "duration": 7969,
    "start_time": "2024-10-03T19:09:28.015Z"
   },
   {
    "duration": 2319,
    "start_time": "2024-10-03T19:10:17.632Z"
   },
   {
    "duration": 731,
    "start_time": "2024-10-03T19:10:19.954Z"
   },
   {
    "duration": 3,
    "start_time": "2024-10-03T19:10:20.686Z"
   },
   {
    "duration": 5693,
    "start_time": "2024-10-03T19:10:20.690Z"
   },
   {
    "duration": 3,
    "start_time": "2024-10-03T19:10:26.385Z"
   },
   {
    "duration": 132,
    "start_time": "2024-10-03T19:10:26.389Z"
   },
   {
    "duration": 47,
    "start_time": "2024-10-03T19:10:26.522Z"
   },
   {
    "duration": 73,
    "start_time": "2024-10-03T19:10:26.570Z"
   },
   {
    "duration": 0,
    "start_time": "2024-10-03T19:10:26.645Z"
   },
   {
    "duration": 0,
    "start_time": "2024-10-03T19:10:26.646Z"
   },
   {
    "duration": 0,
    "start_time": "2024-10-03T19:10:26.646Z"
   },
   {
    "duration": 0,
    "start_time": "2024-10-03T19:10:26.647Z"
   },
   {
    "duration": 0,
    "start_time": "2024-10-03T19:10:26.648Z"
   },
   {
    "duration": 0,
    "start_time": "2024-10-03T19:10:26.649Z"
   },
   {
    "duration": 0,
    "start_time": "2024-10-03T19:10:26.650Z"
   },
   {
    "duration": 0,
    "start_time": "2024-10-03T19:10:26.651Z"
   },
   {
    "duration": 0,
    "start_time": "2024-10-03T19:10:26.651Z"
   },
   {
    "duration": 0,
    "start_time": "2024-10-03T19:10:26.653Z"
   },
   {
    "duration": 0,
    "start_time": "2024-10-03T19:10:26.654Z"
   },
   {
    "duration": 0,
    "start_time": "2024-10-03T19:10:26.655Z"
   },
   {
    "duration": 0,
    "start_time": "2024-10-03T19:10:26.675Z"
   },
   {
    "duration": 0,
    "start_time": "2024-10-03T19:10:26.676Z"
   },
   {
    "duration": 0,
    "start_time": "2024-10-03T19:10:26.677Z"
   },
   {
    "duration": 0,
    "start_time": "2024-10-03T19:10:26.678Z"
   },
   {
    "duration": 0,
    "start_time": "2024-10-03T19:10:26.679Z"
   },
   {
    "duration": 85,
    "start_time": "2024-10-03T19:14:36.972Z"
   },
   {
    "duration": 23,
    "start_time": "2024-10-03T19:14:47.938Z"
   },
   {
    "duration": 2377,
    "start_time": "2024-10-03T19:15:05.233Z"
   },
   {
    "duration": 735,
    "start_time": "2024-10-03T19:15:07.612Z"
   },
   {
    "duration": 2,
    "start_time": "2024-10-03T19:15:08.349Z"
   },
   {
    "duration": 5755,
    "start_time": "2024-10-03T19:15:08.352Z"
   },
   {
    "duration": 2,
    "start_time": "2024-10-03T19:15:14.110Z"
   },
   {
    "duration": 106,
    "start_time": "2024-10-03T19:15:14.113Z"
   },
   {
    "duration": 55,
    "start_time": "2024-10-03T19:15:14.221Z"
   },
   {
    "duration": 28,
    "start_time": "2024-10-03T19:15:14.278Z"
   },
   {
    "duration": 494,
    "start_time": "2024-10-03T19:15:14.307Z"
   },
   {
    "duration": 7944,
    "start_time": "2024-10-03T19:15:14.804Z"
   },
   {
    "duration": 6872,
    "start_time": "2024-10-03T19:15:22.749Z"
   },
   {
    "duration": 1130,
    "start_time": "2024-10-03T19:15:29.622Z"
   },
   {
    "duration": 10,
    "start_time": "2024-10-03T19:15:30.754Z"
   },
   {
    "duration": 11,
    "start_time": "2024-10-03T19:15:30.775Z"
   },
   {
    "duration": 78,
    "start_time": "2024-10-03T19:15:30.789Z"
   },
   {
    "duration": 0,
    "start_time": "2024-10-03T19:15:30.878Z"
   },
   {
    "duration": 0,
    "start_time": "2024-10-03T19:15:30.880Z"
   },
   {
    "duration": 0,
    "start_time": "2024-10-03T19:15:30.884Z"
   },
   {
    "duration": 0,
    "start_time": "2024-10-03T19:15:30.885Z"
   },
   {
    "duration": 0,
    "start_time": "2024-10-03T19:15:30.886Z"
   },
   {
    "duration": 0,
    "start_time": "2024-10-03T19:15:30.888Z"
   },
   {
    "duration": 0,
    "start_time": "2024-10-03T19:15:30.889Z"
   },
   {
    "duration": 0,
    "start_time": "2024-10-03T19:15:30.890Z"
   },
   {
    "duration": 0,
    "start_time": "2024-10-03T19:15:30.892Z"
   },
   {
    "duration": 0,
    "start_time": "2024-10-03T19:15:30.893Z"
   },
   {
    "duration": 7964,
    "start_time": "2024-10-03T19:17:33.112Z"
   },
   {
    "duration": 7810,
    "start_time": "2024-10-03T19:17:52.038Z"
   },
   {
    "duration": 3,
    "start_time": "2024-10-03T19:17:59.850Z"
   },
   {
    "duration": 3,
    "start_time": "2024-10-03T19:18:08.761Z"
   },
   {
    "duration": 5,
    "start_time": "2024-10-03T19:18:43.117Z"
   },
   {
    "duration": 2328,
    "start_time": "2024-10-03T19:19:05.587Z"
   },
   {
    "duration": 701,
    "start_time": "2024-10-03T19:19:07.918Z"
   },
   {
    "duration": 2,
    "start_time": "2024-10-03T19:19:08.621Z"
   },
   {
    "duration": 5618,
    "start_time": "2024-10-03T19:19:08.625Z"
   },
   {
    "duration": 3,
    "start_time": "2024-10-03T19:19:14.245Z"
   },
   {
    "duration": 79,
    "start_time": "2024-10-03T19:19:14.249Z"
   },
   {
    "duration": 50,
    "start_time": "2024-10-03T19:19:14.330Z"
   },
   {
    "duration": 24,
    "start_time": "2024-10-03T19:19:14.382Z"
   },
   {
    "duration": 488,
    "start_time": "2024-10-03T19:19:14.408Z"
   },
   {
    "duration": 78,
    "start_time": "2024-10-03T19:19:14.898Z"
   },
   {
    "duration": 0,
    "start_time": "2024-10-03T19:19:14.978Z"
   },
   {
    "duration": 0,
    "start_time": "2024-10-03T19:19:14.979Z"
   },
   {
    "duration": 0,
    "start_time": "2024-10-03T19:19:14.980Z"
   },
   {
    "duration": 0,
    "start_time": "2024-10-03T19:19:14.981Z"
   },
   {
    "duration": 0,
    "start_time": "2024-10-03T19:19:14.982Z"
   },
   {
    "duration": 0,
    "start_time": "2024-10-03T19:19:14.983Z"
   },
   {
    "duration": 0,
    "start_time": "2024-10-03T19:19:14.984Z"
   },
   {
    "duration": 0,
    "start_time": "2024-10-03T19:19:14.986Z"
   },
   {
    "duration": 0,
    "start_time": "2024-10-03T19:19:14.987Z"
   },
   {
    "duration": 0,
    "start_time": "2024-10-03T19:19:14.989Z"
   },
   {
    "duration": 0,
    "start_time": "2024-10-03T19:19:14.990Z"
   },
   {
    "duration": 0,
    "start_time": "2024-10-03T19:19:14.991Z"
   },
   {
    "duration": 0,
    "start_time": "2024-10-03T19:19:14.992Z"
   },
   {
    "duration": 0,
    "start_time": "2024-10-03T19:19:14.994Z"
   },
   {
    "duration": 0,
    "start_time": "2024-10-03T19:19:14.996Z"
   },
   {
    "duration": 0,
    "start_time": "2024-10-03T19:19:14.997Z"
   },
   {
    "duration": 7907,
    "start_time": "2024-10-03T19:19:30.373Z"
   },
   {
    "duration": 5,
    "start_time": "2024-10-03T19:19:38.282Z"
   },
   {
    "duration": 7969,
    "start_time": "2024-10-03T19:20:05.649Z"
   },
   {
    "duration": 7920,
    "start_time": "2024-10-03T19:20:43.901Z"
   },
   {
    "duration": 2476,
    "start_time": "2024-10-03T19:21:03.839Z"
   },
   {
    "duration": 738,
    "start_time": "2024-10-03T19:21:06.318Z"
   },
   {
    "duration": 3,
    "start_time": "2024-10-03T19:21:07.057Z"
   },
   {
    "duration": 6629,
    "start_time": "2024-10-03T19:21:07.061Z"
   },
   {
    "duration": 4,
    "start_time": "2024-10-03T19:21:13.693Z"
   },
   {
    "duration": 86,
    "start_time": "2024-10-03T19:21:13.699Z"
   },
   {
    "duration": 53,
    "start_time": "2024-10-03T19:21:13.787Z"
   },
   {
    "duration": 50,
    "start_time": "2024-10-03T19:21:13.841Z"
   },
   {
    "duration": 527,
    "start_time": "2024-10-03T19:21:13.894Z"
   },
   {
    "duration": 7939,
    "start_time": "2024-10-03T19:21:14.423Z"
   },
   {
    "duration": 7311,
    "start_time": "2024-10-03T19:21:22.365Z"
   },
   {
    "duration": 1148,
    "start_time": "2024-10-03T19:21:29.678Z"
   },
   {
    "duration": 9,
    "start_time": "2024-10-03T19:21:30.828Z"
   },
   {
    "duration": 11,
    "start_time": "2024-10-03T19:21:30.840Z"
   },
   {
    "duration": 97,
    "start_time": "2024-10-03T19:21:30.853Z"
   },
   {
    "duration": 0,
    "start_time": "2024-10-03T19:21:30.951Z"
   },
   {
    "duration": 0,
    "start_time": "2024-10-03T19:21:30.953Z"
   },
   {
    "duration": 0,
    "start_time": "2024-10-03T19:21:30.953Z"
   },
   {
    "duration": 0,
    "start_time": "2024-10-03T19:21:30.954Z"
   },
   {
    "duration": 0,
    "start_time": "2024-10-03T19:21:30.955Z"
   },
   {
    "duration": 0,
    "start_time": "2024-10-03T19:21:30.956Z"
   },
   {
    "duration": 0,
    "start_time": "2024-10-03T19:21:30.957Z"
   },
   {
    "duration": 0,
    "start_time": "2024-10-03T19:21:30.958Z"
   },
   {
    "duration": 0,
    "start_time": "2024-10-03T19:21:30.959Z"
   },
   {
    "duration": 0,
    "start_time": "2024-10-03T19:21:30.960Z"
   },
   {
    "duration": 7774,
    "start_time": "2024-10-03T19:21:36.307Z"
   },
   {
    "duration": 8856,
    "start_time": "2024-10-03T19:21:52.191Z"
   },
   {
    "duration": 7965,
    "start_time": "2024-10-03T19:22:15.757Z"
   },
   {
    "duration": 7949,
    "start_time": "2024-10-03T19:22:36.414Z"
   },
   {
    "duration": 7963,
    "start_time": "2024-10-03T19:22:51.199Z"
   },
   {
    "duration": 8016,
    "start_time": "2024-10-03T19:23:13.150Z"
   },
   {
    "duration": 7857,
    "start_time": "2024-10-03T19:23:29.694Z"
   },
   {
    "duration": 6701,
    "start_time": "2024-10-03T19:24:18.819Z"
   },
   {
    "duration": 924,
    "start_time": "2024-10-03T19:30:05.751Z"
   },
   {
    "duration": 59,
    "start_time": "2024-10-03T19:31:23.672Z"
   },
   {
    "duration": 2360,
    "start_time": "2024-10-03T19:36:41.651Z"
   },
   {
    "duration": 691,
    "start_time": "2024-10-03T19:36:44.013Z"
   },
   {
    "duration": 2,
    "start_time": "2024-10-03T19:36:44.706Z"
   },
   {
    "duration": 6930,
    "start_time": "2024-10-03T19:36:44.710Z"
   },
   {
    "duration": 2,
    "start_time": "2024-10-03T19:36:51.642Z"
   },
   {
    "duration": 88,
    "start_time": "2024-10-03T19:36:51.645Z"
   },
   {
    "duration": 45,
    "start_time": "2024-10-03T19:36:51.735Z"
   },
   {
    "duration": 21,
    "start_time": "2024-10-03T19:36:51.781Z"
   },
   {
    "duration": 480,
    "start_time": "2024-10-03T19:36:51.803Z"
   },
   {
    "duration": 4768,
    "start_time": "2024-10-03T19:36:52.284Z"
   },
   {
    "duration": 6604,
    "start_time": "2024-10-03T19:36:57.054Z"
   },
   {
    "duration": 878,
    "start_time": "2024-10-03T19:37:03.659Z"
   },
   {
    "duration": 12,
    "start_time": "2024-10-03T19:37:04.539Z"
   },
   {
    "duration": 1055,
    "start_time": "2024-10-03T19:37:04.553Z"
   },
   {
    "duration": 0,
    "start_time": "2024-10-03T19:37:05.610Z"
   },
   {
    "duration": 0,
    "start_time": "2024-10-03T19:37:05.611Z"
   },
   {
    "duration": 0,
    "start_time": "2024-10-03T19:37:05.612Z"
   },
   {
    "duration": 0,
    "start_time": "2024-10-03T19:37:05.613Z"
   },
   {
    "duration": 0,
    "start_time": "2024-10-03T19:37:05.614Z"
   },
   {
    "duration": 0,
    "start_time": "2024-10-03T19:37:05.615Z"
   },
   {
    "duration": 0,
    "start_time": "2024-10-03T19:37:05.616Z"
   },
   {
    "duration": 0,
    "start_time": "2024-10-03T19:37:05.617Z"
   },
   {
    "duration": 0,
    "start_time": "2024-10-03T19:37:05.618Z"
   },
   {
    "duration": 0,
    "start_time": "2024-10-03T19:37:05.618Z"
   },
   {
    "duration": 0,
    "start_time": "2024-10-03T19:37:05.619Z"
   },
   {
    "duration": 38,
    "start_time": "2024-10-03T19:38:15.363Z"
   },
   {
    "duration": 141,
    "start_time": "2024-10-03T19:38:29.536Z"
   },
   {
    "duration": 233,
    "start_time": "2024-10-03T19:38:58.001Z"
   },
   {
    "duration": 839,
    "start_time": "2024-10-03T19:39:27.890Z"
   },
   {
    "duration": 38,
    "start_time": "2024-10-03T19:42:27.628Z"
   },
   {
    "duration": 11,
    "start_time": "2024-10-03T19:42:29.782Z"
   },
   {
    "duration": 40,
    "start_time": "2024-10-03T19:42:32.239Z"
   },
   {
    "duration": 23,
    "start_time": "2024-10-03T19:45:12.479Z"
   },
   {
    "duration": 34,
    "start_time": "2024-10-03T19:45:17.098Z"
   },
   {
    "duration": 16,
    "start_time": "2024-10-03T19:46:14.862Z"
   },
   {
    "duration": 36,
    "start_time": "2024-10-03T19:46:17.743Z"
   },
   {
    "duration": 19,
    "start_time": "2024-10-03T19:47:52.252Z"
   },
   {
    "duration": 38,
    "start_time": "2024-10-03T19:47:55.348Z"
   },
   {
    "duration": 18,
    "start_time": "2024-10-03T19:48:10.075Z"
   },
   {
    "duration": 40,
    "start_time": "2024-10-03T19:48:15.954Z"
   },
   {
    "duration": 5,
    "start_time": "2024-10-03T19:49:24.637Z"
   },
   {
    "duration": 17,
    "start_time": "2024-10-03T19:49:29.135Z"
   },
   {
    "duration": 40,
    "start_time": "2024-10-03T19:49:32.221Z"
   },
   {
    "duration": 123,
    "start_time": "2024-10-03T19:49:37.256Z"
   },
   {
    "duration": 46,
    "start_time": "2024-10-03T19:50:43.076Z"
   },
   {
    "duration": 2542,
    "start_time": "2024-10-03T19:50:47.764Z"
   },
   {
    "duration": 702,
    "start_time": "2024-10-03T19:50:50.308Z"
   },
   {
    "duration": 3,
    "start_time": "2024-10-03T19:50:51.011Z"
   },
   {
    "duration": 5863,
    "start_time": "2024-10-03T19:50:51.015Z"
   },
   {
    "duration": 3,
    "start_time": "2024-10-03T19:50:56.880Z"
   },
   {
    "duration": 84,
    "start_time": "2024-10-03T19:50:56.885Z"
   },
   {
    "duration": 52,
    "start_time": "2024-10-03T19:50:56.970Z"
   },
   {
    "duration": 25,
    "start_time": "2024-10-03T19:50:57.023Z"
   },
   {
    "duration": 467,
    "start_time": "2024-10-03T19:50:57.050Z"
   },
   {
    "duration": 7895,
    "start_time": "2024-10-03T19:50:57.520Z"
   },
   {
    "duration": 6719,
    "start_time": "2024-10-03T19:51:05.416Z"
   },
   {
    "duration": 860,
    "start_time": "2024-10-03T19:51:12.136Z"
   },
   {
    "duration": 11,
    "start_time": "2024-10-03T19:51:12.997Z"
   },
   {
    "duration": 37,
    "start_time": "2024-10-03T19:51:13.010Z"
   },
   {
    "duration": 40,
    "start_time": "2024-10-03T19:51:13.048Z"
   },
   {
    "duration": 6,
    "start_time": "2024-10-03T19:51:13.089Z"
   },
   {
    "duration": 12,
    "start_time": "2024-10-03T19:51:13.096Z"
   },
   {
    "duration": 15,
    "start_time": "2024-10-03T19:51:13.110Z"
   },
   {
    "duration": 16,
    "start_time": "2024-10-03T19:51:13.127Z"
   },
   {
    "duration": 40,
    "start_time": "2024-10-03T19:51:13.144Z"
   },
   {
    "duration": 22,
    "start_time": "2024-10-03T19:51:13.186Z"
   },
   {
    "duration": 38,
    "start_time": "2024-10-03T19:51:13.209Z"
   },
   {
    "duration": 133,
    "start_time": "2024-10-03T19:51:13.248Z"
   },
   {
    "duration": 832,
    "start_time": "2024-10-03T19:51:13.382Z"
   },
   {
    "duration": 906,
    "start_time": "2024-10-03T19:51:14.215Z"
   },
   {
    "duration": 1,
    "start_time": "2024-10-03T19:51:15.122Z"
   },
   {
    "duration": 0,
    "start_time": "2024-10-03T19:51:15.124Z"
   },
   {
    "duration": 0,
    "start_time": "2024-10-03T19:51:15.125Z"
   },
   {
    "duration": 0,
    "start_time": "2024-10-03T19:51:15.126Z"
   },
   {
    "duration": 0,
    "start_time": "2024-10-03T19:51:15.127Z"
   },
   {
    "duration": 0,
    "start_time": "2024-10-03T19:51:15.128Z"
   },
   {
    "duration": 0,
    "start_time": "2024-10-03T19:51:15.129Z"
   },
   {
    "duration": 0,
    "start_time": "2024-10-03T19:51:15.130Z"
   },
   {
    "duration": 0,
    "start_time": "2024-10-03T19:51:15.131Z"
   },
   {
    "duration": 0,
    "start_time": "2024-10-03T19:51:15.133Z"
   },
   {
    "duration": 0,
    "start_time": "2024-10-03T19:51:15.134Z"
   },
   {
    "duration": 9,
    "start_time": "2024-10-03T19:51:45.637Z"
   },
   {
    "duration": 5397,
    "start_time": "2024-10-03T19:52:31.690Z"
   },
   {
    "duration": 1256,
    "start_time": "2024-10-03T19:52:37.089Z"
   },
   {
    "duration": 3,
    "start_time": "2024-10-03T19:52:38.347Z"
   },
   {
    "duration": 5541,
    "start_time": "2024-10-03T19:52:38.353Z"
   },
   {
    "duration": 2,
    "start_time": "2024-10-03T19:52:43.896Z"
   },
   {
    "duration": 78,
    "start_time": "2024-10-03T19:52:43.899Z"
   },
   {
    "duration": 47,
    "start_time": "2024-10-03T19:52:43.978Z"
   },
   {
    "duration": 23,
    "start_time": "2024-10-03T19:52:44.027Z"
   },
   {
    "duration": 434,
    "start_time": "2024-10-03T19:52:44.076Z"
   },
   {
    "duration": 7941,
    "start_time": "2024-10-03T19:52:44.512Z"
   },
   {
    "duration": 7300,
    "start_time": "2024-10-03T19:52:52.454Z"
   },
   {
    "duration": 954,
    "start_time": "2024-10-03T19:52:59.755Z"
   },
   {
    "duration": 11,
    "start_time": "2024-10-03T19:53:00.711Z"
   },
   {
    "duration": 41,
    "start_time": "2024-10-03T19:53:00.723Z"
   },
   {
    "duration": 28,
    "start_time": "2024-10-03T19:53:00.766Z"
   },
   {
    "duration": 11,
    "start_time": "2024-10-03T19:53:00.796Z"
   },
   {
    "duration": 23,
    "start_time": "2024-10-03T19:53:00.808Z"
   },
   {
    "duration": 15,
    "start_time": "2024-10-03T19:53:00.833Z"
   },
   {
    "duration": 16,
    "start_time": "2024-10-03T19:53:00.850Z"
   },
   {
    "duration": 19,
    "start_time": "2024-10-03T19:53:00.876Z"
   },
   {
    "duration": 23,
    "start_time": "2024-10-03T19:53:00.896Z"
   },
   {
    "duration": 45,
    "start_time": "2024-10-03T19:53:00.921Z"
   },
   {
    "duration": 134,
    "start_time": "2024-10-03T19:53:00.968Z"
   },
   {
    "duration": 329104,
    "start_time": "2024-10-03T19:53:01.104Z"
   },
   {
    "duration": 0,
    "start_time": "2024-10-03T19:58:30.210Z"
   },
   {
    "duration": 0,
    "start_time": "2024-10-03T19:58:30.211Z"
   },
   {
    "duration": 0,
    "start_time": "2024-10-03T19:58:30.212Z"
   },
   {
    "duration": 0,
    "start_time": "2024-10-03T19:58:30.213Z"
   },
   {
    "duration": 0,
    "start_time": "2024-10-03T19:58:30.214Z"
   },
   {
    "duration": 0,
    "start_time": "2024-10-03T19:58:30.215Z"
   },
   {
    "duration": 0,
    "start_time": "2024-10-03T19:58:30.216Z"
   },
   {
    "duration": 0,
    "start_time": "2024-10-03T19:58:30.217Z"
   },
   {
    "duration": 0,
    "start_time": "2024-10-03T19:58:30.218Z"
   },
   {
    "duration": 0,
    "start_time": "2024-10-03T19:58:30.220Z"
   },
   {
    "duration": 0,
    "start_time": "2024-10-03T19:58:30.220Z"
   },
   {
    "duration": 0,
    "start_time": "2024-10-03T19:58:30.222Z"
   },
   {
    "duration": 0,
    "start_time": "2024-10-03T19:58:30.223Z"
   },
   {
    "duration": 9928,
    "start_time": "2024-10-03T19:58:55.794Z"
   },
   {
    "duration": 29190,
    "start_time": "2024-10-03T19:59:08.926Z"
   },
   {
    "duration": 101584,
    "start_time": "2024-10-03T19:59:46.674Z"
   },
   {
    "duration": 22,
    "start_time": "2024-10-03T20:01:31.165Z"
   },
   {
    "duration": 4342,
    "start_time": "2024-10-03T20:01:50.978Z"
   },
   {
    "duration": 778,
    "start_time": "2024-10-03T20:02:30.194Z"
   },
   {
    "duration": 996,
    "start_time": "2024-10-03T20:02:52.892Z"
   },
   {
    "duration": 832,
    "start_time": "2024-10-03T20:04:43.001Z"
   },
   {
    "duration": 4777,
    "start_time": "2024-10-03T20:06:45.190Z"
   },
   {
    "duration": 1323,
    "start_time": "2024-10-03T20:06:49.969Z"
   },
   {
    "duration": 3,
    "start_time": "2024-10-03T20:06:51.293Z"
   },
   {
    "duration": 5724,
    "start_time": "2024-10-03T20:06:51.297Z"
   },
   {
    "duration": 2,
    "start_time": "2024-10-03T20:06:57.023Z"
   },
   {
    "duration": 87,
    "start_time": "2024-10-03T20:06:57.026Z"
   },
   {
    "duration": 48,
    "start_time": "2024-10-03T20:06:57.114Z"
   },
   {
    "duration": 24,
    "start_time": "2024-10-03T20:06:57.164Z"
   },
   {
    "duration": 439,
    "start_time": "2024-10-03T20:06:57.190Z"
   },
   {
    "duration": 7784,
    "start_time": "2024-10-03T20:06:57.631Z"
   },
   {
    "duration": 6777,
    "start_time": "2024-10-03T20:07:05.416Z"
   },
   {
    "duration": 961,
    "start_time": "2024-10-03T20:07:12.195Z"
   },
   {
    "duration": 19,
    "start_time": "2024-10-03T20:07:13.158Z"
   },
   {
    "duration": 37,
    "start_time": "2024-10-03T20:07:13.179Z"
   },
   {
    "duration": 26,
    "start_time": "2024-10-03T20:07:13.218Z"
   },
   {
    "duration": 31,
    "start_time": "2024-10-03T20:07:13.245Z"
   },
   {
    "duration": 14,
    "start_time": "2024-10-03T20:07:13.277Z"
   },
   {
    "duration": 17,
    "start_time": "2024-10-03T20:07:13.293Z"
   },
   {
    "duration": 19,
    "start_time": "2024-10-03T20:07:13.312Z"
   },
   {
    "duration": 19,
    "start_time": "2024-10-03T20:07:13.332Z"
   },
   {
    "duration": 37,
    "start_time": "2024-10-03T20:07:13.353Z"
   },
   {
    "duration": 40,
    "start_time": "2024-10-03T20:07:13.391Z"
   },
   {
    "duration": 180,
    "start_time": "2024-10-03T20:07:13.433Z"
   },
   {
    "duration": 1401,
    "start_time": "2024-10-03T20:07:13.615Z"
   },
   {
    "duration": 841,
    "start_time": "2024-10-03T20:07:15.018Z"
   },
   {
    "duration": 6,
    "start_time": "2024-10-03T20:07:15.860Z"
   },
   {
    "duration": 110,
    "start_time": "2024-10-03T20:07:15.867Z"
   },
   {
    "duration": 0,
    "start_time": "2024-10-03T20:07:15.978Z"
   },
   {
    "duration": 0,
    "start_time": "2024-10-03T20:07:15.980Z"
   },
   {
    "duration": 0,
    "start_time": "2024-10-03T20:07:15.981Z"
   },
   {
    "duration": 0,
    "start_time": "2024-10-03T20:07:15.982Z"
   },
   {
    "duration": 0,
    "start_time": "2024-10-03T20:07:15.983Z"
   },
   {
    "duration": 0,
    "start_time": "2024-10-03T20:07:15.984Z"
   },
   {
    "duration": 0,
    "start_time": "2024-10-03T20:07:15.985Z"
   },
   {
    "duration": 0,
    "start_time": "2024-10-03T20:07:15.986Z"
   },
   {
    "duration": 0,
    "start_time": "2024-10-03T20:07:15.987Z"
   },
   {
    "duration": 0,
    "start_time": "2024-10-03T20:07:15.988Z"
   },
   {
    "duration": 25158,
    "start_time": "2024-10-03T20:08:08.581Z"
   },
   {
    "duration": 6102,
    "start_time": "2024-10-03T20:09:07.211Z"
   },
   {
    "duration": 742,
    "start_time": "2024-10-03T20:11:35.342Z"
   },
   {
    "duration": 1020,
    "start_time": "2024-10-03T20:12:04.990Z"
   },
   {
    "duration": 867,
    "start_time": "2024-10-03T20:12:24.097Z"
   },
   {
    "duration": 1008,
    "start_time": "2024-10-03T20:13:34.458Z"
   },
   {
    "duration": 849,
    "start_time": "2024-10-03T20:13:45.837Z"
   },
   {
    "duration": 58,
    "start_time": "2024-10-03T20:15:40.666Z"
   },
   {
    "duration": 56,
    "start_time": "2024-10-03T20:32:59.457Z"
   },
   {
    "duration": 10,
    "start_time": "2024-10-03T20:34:26.983Z"
   },
   {
    "duration": 42,
    "start_time": "2024-10-03T20:35:12.696Z"
   },
   {
    "duration": 3,
    "start_time": "2024-10-03T20:35:17.870Z"
   },
   {
    "duration": 5032,
    "start_time": "2024-10-03T20:42:51.908Z"
   },
   {
    "duration": 1351,
    "start_time": "2024-10-03T20:42:56.943Z"
   },
   {
    "duration": 3,
    "start_time": "2024-10-03T20:42:58.296Z"
   },
   {
    "duration": 6071,
    "start_time": "2024-10-03T20:42:58.300Z"
   },
   {
    "duration": 2,
    "start_time": "2024-10-03T20:43:04.373Z"
   },
   {
    "duration": 124,
    "start_time": "2024-10-03T20:43:04.377Z"
   },
   {
    "duration": 54,
    "start_time": "2024-10-03T20:43:04.503Z"
   },
   {
    "duration": 36,
    "start_time": "2024-10-03T20:43:04.558Z"
   },
   {
    "duration": 459,
    "start_time": "2024-10-03T20:43:04.596Z"
   },
   {
    "duration": 5004,
    "start_time": "2024-10-03T20:43:05.057Z"
   },
   {
    "duration": 7001,
    "start_time": "2024-10-03T20:43:10.062Z"
   },
   {
    "duration": 997,
    "start_time": "2024-10-03T20:43:17.064Z"
   },
   {
    "duration": 16,
    "start_time": "2024-10-03T20:43:18.063Z"
   },
   {
    "duration": 44,
    "start_time": "2024-10-03T20:43:18.082Z"
   },
   {
    "duration": 28,
    "start_time": "2024-10-03T20:43:18.129Z"
   },
   {
    "duration": 25,
    "start_time": "2024-10-03T20:43:18.158Z"
   },
   {
    "duration": 28,
    "start_time": "2024-10-03T20:43:18.185Z"
   },
   {
    "duration": 26,
    "start_time": "2024-10-03T20:43:18.215Z"
   },
   {
    "duration": 43,
    "start_time": "2024-10-03T20:43:18.243Z"
   },
   {
    "duration": 22,
    "start_time": "2024-10-03T20:43:18.287Z"
   },
   {
    "duration": 87,
    "start_time": "2024-10-03T20:43:18.310Z"
   },
   {
    "duration": 40,
    "start_time": "2024-10-03T20:43:18.399Z"
   },
   {
    "duration": 171,
    "start_time": "2024-10-03T20:43:18.441Z"
   },
   {
    "duration": 6675,
    "start_time": "2024-10-03T20:43:18.614Z"
   },
   {
    "duration": 946,
    "start_time": "2024-10-03T20:43:25.290Z"
   },
   {
    "duration": 13,
    "start_time": "2024-10-03T20:43:26.237Z"
   },
   {
    "duration": 4,
    "start_time": "2024-10-03T20:43:26.252Z"
   },
   {
    "duration": 127,
    "start_time": "2024-10-03T20:43:26.257Z"
   },
   {
    "duration": 0,
    "start_time": "2024-10-03T20:43:26.386Z"
   },
   {
    "duration": 0,
    "start_time": "2024-10-03T20:43:26.387Z"
   },
   {
    "duration": 0,
    "start_time": "2024-10-03T20:43:26.388Z"
   },
   {
    "duration": 0,
    "start_time": "2024-10-03T20:43:26.390Z"
   },
   {
    "duration": 0,
    "start_time": "2024-10-03T20:43:26.391Z"
   },
   {
    "duration": 0,
    "start_time": "2024-10-03T20:43:26.392Z"
   },
   {
    "duration": 0,
    "start_time": "2024-10-03T20:43:26.394Z"
   },
   {
    "duration": 0,
    "start_time": "2024-10-03T20:43:26.395Z"
   },
   {
    "duration": 0,
    "start_time": "2024-10-03T20:43:26.396Z"
   },
   {
    "duration": 0,
    "start_time": "2024-10-03T20:43:26.397Z"
   },
   {
    "duration": 0,
    "start_time": "2024-10-03T20:43:26.398Z"
   },
   {
    "duration": 36,
    "start_time": "2024-10-03T20:44:48.111Z"
   },
   {
    "duration": 12,
    "start_time": "2024-10-03T20:44:59.428Z"
   },
   {
    "duration": 32,
    "start_time": "2024-10-03T20:45:06.482Z"
   },
   {
    "duration": 3,
    "start_time": "2024-10-03T20:45:07.701Z"
   },
   {
    "duration": 11,
    "start_time": "2024-10-03T20:45:09.063Z"
   },
   {
    "duration": 7,
    "start_time": "2024-10-03T20:45:31.464Z"
   },
   {
    "duration": 11,
    "start_time": "2024-10-03T20:45:35.931Z"
   },
   {
    "duration": 10,
    "start_time": "2024-10-03T20:46:06.855Z"
   },
   {
    "duration": 11,
    "start_time": "2024-10-03T20:46:09.953Z"
   },
   {
    "duration": 59,
    "start_time": "2024-10-03T20:46:14.804Z"
   },
   {
    "duration": 4,
    "start_time": "2024-10-03T20:46:18.196Z"
   },
   {
    "duration": 321,
    "start_time": "2024-10-03T20:46:20.889Z"
   },
   {
    "duration": 15,
    "start_time": "2024-10-03T20:46:25.116Z"
   },
   {
    "duration": 9,
    "start_time": "2024-10-03T20:46:45.263Z"
   },
   {
    "duration": 4,
    "start_time": "2024-10-03T20:46:50.100Z"
   },
   {
    "duration": 2,
    "start_time": "2024-10-03T20:46:53.729Z"
   },
   {
    "duration": 3,
    "start_time": "2024-10-03T20:47:23.660Z"
   },
   {
    "duration": 58,
    "start_time": "2024-10-03T20:48:42.568Z"
   },
   {
    "duration": 65,
    "start_time": "2024-10-03T20:54:58.819Z"
   },
   {
    "duration": 12,
    "start_time": "2024-10-03T20:59:31.579Z"
   },
   {
    "duration": 38,
    "start_time": "2024-10-03T21:00:00.989Z"
   },
   {
    "duration": 17,
    "start_time": "2024-10-03T21:00:04.955Z"
   },
   {
    "duration": 4,
    "start_time": "2024-10-03T21:00:38.447Z"
   },
   {
    "duration": 2690,
    "start_time": "2024-10-03T21:00:43.024Z"
   },
   {
    "duration": 2591,
    "start_time": "2024-10-03T21:01:04.515Z"
   },
   {
    "duration": 479,
    "start_time": "2024-10-03T21:06:30.956Z"
   },
   {
    "duration": 7751,
    "start_time": "2024-10-03T21:06:31.695Z"
   },
   {
    "duration": 79,
    "start_time": "2024-10-03T21:07:35.444Z"
   },
   {
    "duration": 99,
    "start_time": "2024-10-03T21:08:02.061Z"
   },
   {
    "duration": 10,
    "start_time": "2024-10-03T21:08:07.635Z"
   },
   {
    "duration": 5040,
    "start_time": "2024-10-03T21:08:16.767Z"
   },
   {
    "duration": 1444,
    "start_time": "2024-10-03T21:08:21.810Z"
   },
   {
    "duration": 3,
    "start_time": "2024-10-03T21:08:23.255Z"
   },
   {
    "duration": 5739,
    "start_time": "2024-10-03T21:08:23.259Z"
   },
   {
    "duration": 3,
    "start_time": "2024-10-03T21:08:29.000Z"
   },
   {
    "duration": 93,
    "start_time": "2024-10-03T21:08:29.004Z"
   },
   {
    "duration": 51,
    "start_time": "2024-10-03T21:08:29.098Z"
   },
   {
    "duration": 42,
    "start_time": "2024-10-03T21:08:29.151Z"
   },
   {
    "duration": 535,
    "start_time": "2024-10-03T21:08:29.195Z"
   },
   {
    "duration": 8007,
    "start_time": "2024-10-03T21:08:29.731Z"
   },
   {
    "duration": 6751,
    "start_time": "2024-10-03T21:08:37.740Z"
   },
   {
    "duration": 913,
    "start_time": "2024-10-03T21:08:44.493Z"
   },
   {
    "duration": 12,
    "start_time": "2024-10-03T21:08:45.407Z"
   },
   {
    "duration": 55,
    "start_time": "2024-10-03T21:08:45.421Z"
   },
   {
    "duration": 27,
    "start_time": "2024-10-03T21:08:45.478Z"
   },
   {
    "duration": 15,
    "start_time": "2024-10-03T21:08:45.507Z"
   },
   {
    "duration": 14,
    "start_time": "2024-10-03T21:08:45.524Z"
   },
   {
    "duration": 24,
    "start_time": "2024-10-03T21:08:45.539Z"
   },
   {
    "duration": 24,
    "start_time": "2024-10-03T21:08:45.565Z"
   },
   {
    "duration": 21,
    "start_time": "2024-10-03T21:08:45.590Z"
   },
   {
    "duration": 79,
    "start_time": "2024-10-03T21:08:45.612Z"
   },
   {
    "duration": 39,
    "start_time": "2024-10-03T21:08:45.693Z"
   },
   {
    "duration": 187,
    "start_time": "2024-10-03T21:08:45.734Z"
   },
   {
    "duration": 97,
    "start_time": "2024-10-03T21:08:45.923Z"
   },
   {
    "duration": 121,
    "start_time": "2024-10-03T21:08:46.021Z"
   },
   {
    "duration": 0,
    "start_time": "2024-10-03T21:08:46.144Z"
   },
   {
    "duration": 0,
    "start_time": "2024-10-03T21:08:46.145Z"
   },
   {
    "duration": 0,
    "start_time": "2024-10-03T21:08:46.146Z"
   },
   {
    "duration": 0,
    "start_time": "2024-10-03T21:08:46.147Z"
   },
   {
    "duration": 0,
    "start_time": "2024-10-03T21:08:46.149Z"
   },
   {
    "duration": 0,
    "start_time": "2024-10-03T21:08:46.150Z"
   },
   {
    "duration": 0,
    "start_time": "2024-10-03T21:08:46.151Z"
   },
   {
    "duration": 0,
    "start_time": "2024-10-03T21:08:46.152Z"
   },
   {
    "duration": 0,
    "start_time": "2024-10-03T21:08:46.153Z"
   },
   {
    "duration": 0,
    "start_time": "2024-10-03T21:08:46.154Z"
   },
   {
    "duration": 0,
    "start_time": "2024-10-03T21:08:46.176Z"
   },
   {
    "duration": 0,
    "start_time": "2024-10-03T21:08:46.177Z"
   },
   {
    "duration": 0,
    "start_time": "2024-10-03T21:08:46.179Z"
   },
   {
    "duration": 0,
    "start_time": "2024-10-03T21:08:46.180Z"
   },
   {
    "duration": 0,
    "start_time": "2024-10-03T21:08:46.181Z"
   },
   {
    "duration": 0,
    "start_time": "2024-10-03T21:08:46.182Z"
   },
   {
    "duration": 5110,
    "start_time": "2024-10-03T21:09:38.427Z"
   },
   {
    "duration": 1432,
    "start_time": "2024-10-03T21:09:43.539Z"
   },
   {
    "duration": 3,
    "start_time": "2024-10-03T21:09:44.973Z"
   },
   {
    "duration": 5945,
    "start_time": "2024-10-03T21:09:44.977Z"
   },
   {
    "duration": 2,
    "start_time": "2024-10-03T21:09:50.924Z"
   },
   {
    "duration": 118,
    "start_time": "2024-10-03T21:09:50.927Z"
   },
   {
    "duration": 50,
    "start_time": "2024-10-03T21:09:51.047Z"
   },
   {
    "duration": 23,
    "start_time": "2024-10-03T21:09:51.098Z"
   },
   {
    "duration": 541,
    "start_time": "2024-10-03T21:09:51.123Z"
   },
   {
    "duration": 1220,
    "start_time": "2024-10-03T21:09:51.675Z"
   },
   {
    "duration": 1179,
    "start_time": "2024-10-03T21:09:52.897Z"
   },
   {
    "duration": 925,
    "start_time": "2024-10-03T21:09:54.077Z"
   },
   {
    "duration": 12,
    "start_time": "2024-10-03T21:09:55.004Z"
   },
   {
    "duration": 42,
    "start_time": "2024-10-03T21:09:55.018Z"
   },
   {
    "duration": 26,
    "start_time": "2024-10-03T21:09:55.076Z"
   },
   {
    "duration": 6,
    "start_time": "2024-10-03T21:09:55.103Z"
   },
   {
    "duration": 13,
    "start_time": "2024-10-03T21:09:55.110Z"
   },
   {
    "duration": 17,
    "start_time": "2024-10-03T21:09:55.124Z"
   },
   {
    "duration": 42,
    "start_time": "2024-10-03T21:09:55.143Z"
   },
   {
    "duration": 19,
    "start_time": "2024-10-03T21:09:55.187Z"
   },
   {
    "duration": 22,
    "start_time": "2024-10-03T21:09:55.208Z"
   },
   {
    "duration": 51,
    "start_time": "2024-10-03T21:09:55.231Z"
   },
   {
    "duration": 150,
    "start_time": "2024-10-03T21:09:55.283Z"
   },
   {
    "duration": 91,
    "start_time": "2024-10-03T21:09:55.435Z"
   },
   {
    "duration": 1600,
    "start_time": "2024-10-03T21:09:55.528Z"
   },
   {
    "duration": 942,
    "start_time": "2024-10-03T21:09:57.130Z"
   },
   {
    "duration": 154,
    "start_time": "2024-10-03T21:09:58.075Z"
   },
   {
    "duration": 1,
    "start_time": "2024-10-03T21:09:58.232Z"
   },
   {
    "duration": 0,
    "start_time": "2024-10-03T21:09:58.234Z"
   },
   {
    "duration": 0,
    "start_time": "2024-10-03T21:09:58.235Z"
   },
   {
    "duration": 0,
    "start_time": "2024-10-03T21:09:58.236Z"
   },
   {
    "duration": 0,
    "start_time": "2024-10-03T21:09:58.238Z"
   },
   {
    "duration": 0,
    "start_time": "2024-10-03T21:09:58.239Z"
   },
   {
    "duration": 0,
    "start_time": "2024-10-03T21:09:58.240Z"
   },
   {
    "duration": 0,
    "start_time": "2024-10-03T21:09:58.241Z"
   },
   {
    "duration": 0,
    "start_time": "2024-10-03T21:09:58.242Z"
   },
   {
    "duration": 0,
    "start_time": "2024-10-03T21:09:58.244Z"
   },
   {
    "duration": 0,
    "start_time": "2024-10-03T21:09:58.245Z"
   },
   {
    "duration": 0,
    "start_time": "2024-10-03T21:09:58.246Z"
   },
   {
    "duration": 0,
    "start_time": "2024-10-03T21:09:58.275Z"
   },
   {
    "duration": 0,
    "start_time": "2024-10-03T21:09:58.277Z"
   },
   {
    "duration": 5082,
    "start_time": "2024-10-03T21:11:15.824Z"
   },
   {
    "duration": 1458,
    "start_time": "2024-10-03T21:11:20.908Z"
   },
   {
    "duration": 4,
    "start_time": "2024-10-03T21:11:22.368Z"
   },
   {
    "duration": 5879,
    "start_time": "2024-10-03T21:11:22.375Z"
   },
   {
    "duration": 3,
    "start_time": "2024-10-03T21:11:28.255Z"
   },
   {
    "duration": 94,
    "start_time": "2024-10-03T21:11:28.260Z"
   },
   {
    "duration": 54,
    "start_time": "2024-10-03T21:11:28.355Z"
   },
   {
    "duration": 24,
    "start_time": "2024-10-03T21:11:28.410Z"
   },
   {
    "duration": 526,
    "start_time": "2024-10-03T21:11:28.436Z"
   },
   {
    "duration": 7725,
    "start_time": "2024-10-03T21:11:28.965Z"
   },
   {
    "duration": 7144,
    "start_time": "2024-10-03T21:11:36.692Z"
   },
   {
    "duration": 940,
    "start_time": "2024-10-03T21:11:43.838Z"
   },
   {
    "duration": 11,
    "start_time": "2024-10-03T21:11:44.780Z"
   },
   {
    "duration": 40,
    "start_time": "2024-10-03T21:11:44.793Z"
   },
   {
    "duration": 49,
    "start_time": "2024-10-03T21:11:44.834Z"
   },
   {
    "duration": 31,
    "start_time": "2024-10-03T21:11:44.885Z"
   },
   {
    "duration": 31,
    "start_time": "2024-10-03T21:11:44.918Z"
   },
   {
    "duration": 22,
    "start_time": "2024-10-03T21:11:44.951Z"
   },
   {
    "duration": 17,
    "start_time": "2024-10-03T21:11:44.974Z"
   },
   {
    "duration": 21,
    "start_time": "2024-10-03T21:11:44.993Z"
   },
   {
    "duration": 39,
    "start_time": "2024-10-03T21:11:45.016Z"
   },
   {
    "duration": 65,
    "start_time": "2024-10-03T21:11:45.056Z"
   },
   {
    "duration": 148,
    "start_time": "2024-10-03T21:11:45.122Z"
   },
   {
    "duration": 74,
    "start_time": "2024-10-03T21:11:45.272Z"
   },
   {
    "duration": 1609,
    "start_time": "2024-10-03T21:11:45.348Z"
   },
   {
    "duration": 933,
    "start_time": "2024-10-03T21:11:46.958Z"
   },
   {
    "duration": 138,
    "start_time": "2024-10-03T21:11:47.893Z"
   },
   {
    "duration": 0,
    "start_time": "2024-10-03T21:11:48.033Z"
   },
   {
    "duration": 0,
    "start_time": "2024-10-03T21:11:48.034Z"
   },
   {
    "duration": 0,
    "start_time": "2024-10-03T21:11:48.036Z"
   },
   {
    "duration": 0,
    "start_time": "2024-10-03T21:11:48.037Z"
   },
   {
    "duration": 0,
    "start_time": "2024-10-03T21:11:48.038Z"
   },
   {
    "duration": 0,
    "start_time": "2024-10-03T21:11:48.039Z"
   },
   {
    "duration": 0,
    "start_time": "2024-10-03T21:11:48.041Z"
   },
   {
    "duration": 0,
    "start_time": "2024-10-03T21:11:48.042Z"
   },
   {
    "duration": 0,
    "start_time": "2024-10-03T21:11:48.043Z"
   },
   {
    "duration": 0,
    "start_time": "2024-10-03T21:11:48.044Z"
   },
   {
    "duration": 0,
    "start_time": "2024-10-03T21:11:48.045Z"
   },
   {
    "duration": 0,
    "start_time": "2024-10-03T21:11:48.046Z"
   },
   {
    "duration": 0,
    "start_time": "2024-10-03T21:11:48.047Z"
   },
   {
    "duration": 0,
    "start_time": "2024-10-03T21:11:48.076Z"
   },
   {
    "duration": 13,
    "start_time": "2024-10-03T21:12:35.497Z"
   },
   {
    "duration": 2,
    "start_time": "2024-10-03T21:12:39.740Z"
   },
   {
    "duration": 27,
    "start_time": "2024-10-03T21:12:41.540Z"
   },
   {
    "duration": 2,
    "start_time": "2024-10-03T21:12:45.551Z"
   },
   {
    "duration": 2,
    "start_time": "2024-10-03T21:13:47.394Z"
   },
   {
    "duration": 3,
    "start_time": "2024-10-03T21:13:48.462Z"
   },
   {
    "duration": 262,
    "start_time": "2024-10-03T21:13:49.625Z"
   },
   {
    "duration": 3,
    "start_time": "2024-10-03T21:13:58.592Z"
   },
   {
    "duration": 218860,
    "start_time": "2024-10-03T21:14:00.471Z"
   },
   {
    "duration": 51560,
    "start_time": "2024-10-03T21:17:54.550Z"
   },
   {
    "duration": 0,
    "start_time": "2024-10-03T21:18:46.112Z"
   },
   {
    "duration": 4,
    "start_time": "2024-10-03T21:19:46.937Z"
   },
   {
    "duration": 60150,
    "start_time": "2024-10-03T21:19:51.985Z"
   },
   {
    "duration": 58270,
    "start_time": "2024-10-03T21:21:31.169Z"
   },
   {
    "duration": 4,
    "start_time": "2024-10-03T21:22:37.888Z"
   },
   {
    "duration": 59569,
    "start_time": "2024-10-03T21:22:43.374Z"
   },
   {
    "duration": 5,
    "start_time": "2024-10-03T21:25:17.493Z"
   },
   {
    "duration": 59358,
    "start_time": "2024-10-03T21:25:21.284Z"
   },
   {
    "duration": 5098,
    "start_time": "2024-10-03T21:27:34.859Z"
   },
   {
    "duration": 11,
    "start_time": "2024-10-03T21:28:31.870Z"
   },
   {
    "duration": 4,
    "start_time": "2024-10-03T21:28:56.729Z"
   },
   {
    "duration": 11,
    "start_time": "2024-10-03T21:29:03.446Z"
   },
   {
    "duration": 4,
    "start_time": "2024-10-03T21:29:13.601Z"
   },
   {
    "duration": 628,
    "start_time": "2024-10-03T21:29:17.152Z"
   },
   {
    "duration": 812,
    "start_time": "2024-10-03T21:29:53.847Z"
   },
   {
    "duration": 13,
    "start_time": "2024-10-03T21:31:58.718Z"
   },
   {
    "duration": 5,
    "start_time": "2024-10-03T21:32:23.710Z"
   },
   {
    "duration": 14,
    "start_time": "2024-10-03T21:32:35.108Z"
   },
   {
    "duration": 5,
    "start_time": "2024-10-03T21:32:44.704Z"
   },
   {
    "duration": 4924,
    "start_time": "2024-10-03T21:32:53.158Z"
   },
   {
    "duration": 4,
    "start_time": "2024-10-03T21:33:29.716Z"
   },
   {
    "duration": 4836,
    "start_time": "2024-10-03T21:33:38.079Z"
   },
   {
    "duration": 5,
    "start_time": "2024-10-03T21:34:00.189Z"
   },
   {
    "duration": 4911,
    "start_time": "2024-10-03T21:34:06.935Z"
   },
   {
    "duration": 4654,
    "start_time": "2024-10-03T21:35:22.601Z"
   },
   {
    "duration": 5041,
    "start_time": "2024-10-03T21:35:34.557Z"
   }
  ],
  "kernelspec": {
   "display_name": "Python 3 (ipykernel)",
   "language": "python",
   "name": "python3"
  },
  "language_info": {
   "codemirror_mode": {
    "name": "ipython",
    "version": 3
   },
   "file_extension": ".py",
   "mimetype": "text/x-python",
   "name": "python",
   "nbconvert_exporter": "python",
   "pygments_lexer": "ipython3",
   "version": "3.9.5"
  },
  "toc": {
   "base_numbering": 1,
   "nav_menu": {},
   "number_sections": false,
   "sideBar": true,
   "skip_h1_title": false,
   "title_cell": "Table of Contents",
   "title_sidebar": "Contents",
   "toc_cell": false,
   "toc_position": {},
   "toc_section_display": true,
   "toc_window_display": false
  },
  "varInspector": {
   "cols": {
    "lenName": 16,
    "lenType": 16,
    "lenVar": 40
   },
   "kernels_config": {
    "python": {
     "delete_cmd_postfix": "",
     "delete_cmd_prefix": "del ",
     "library": "var_list.py",
     "varRefreshCmd": "print(var_dic_list())"
    },
    "r": {
     "delete_cmd_postfix": ") ",
     "delete_cmd_prefix": "rm(",
     "library": "var_list.r",
     "varRefreshCmd": "cat(var_dic_list()) "
    }
   },
   "types_to_exclude": [
    "module",
    "function",
    "builtin_function_or_method",
    "instance",
    "_Feature"
   ],
   "window_display": false
  }
 },
 "nbformat": 4,
 "nbformat_minor": 5
}
