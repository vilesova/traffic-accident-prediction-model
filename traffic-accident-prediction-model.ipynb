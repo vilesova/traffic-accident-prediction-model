{
 "cells": [
  {
   "cell_type": "markdown",
   "id": "0ea3c559",
   "metadata": {
    "ExecuteTime": {
     "end_time": "2022-05-05T04:58:05.692448Z",
     "start_time": "2022-05-05T04:58:05.688565Z"
    }
   },
   "source": [
    "## Подключитесь к базе. Загрузите таблицы sql"
   ]
  },
  {
   "cell_type": "code",
   "execution_count": 1,
   "id": "e7ca00a5",
   "metadata": {},
   "outputs": [],
   "source": [
    "!pip install imbalanced-learn -q"
   ]
  },
  {
   "cell_type": "code",
   "execution_count": 2,
   "id": "cf94b18f",
   "metadata": {},
   "outputs": [],
   "source": [
    "import psycopg2\n",
    "import pandas as pd\n",
    "import matplotlib.pyplot as plt\n",
    "import gc\n",
    "import numpy as np\n",
    "from sklearn.model_selection import train_test_split\n",
    "from sklearn.preprocessing import StandardScaler, OneHotEncoder\n",
    "from sklearn.compose import ColumnTransformer\n",
    "from sklearn.pipeline import Pipeline\n",
    "from sklearn.linear_model import LogisticRegression\n",
    "from sklearn.metrics import confusion_matrix, classification_report, ConfusionMatrixDisplay\n",
    "from sklearn.impute import SimpleImputer\n",
    "from imblearn.over_sampling import SMOTE\n",
    "from sklearn.ensemble import RandomForestClassifier, GradientBoostingClassifier\n",
    "from sklearn.model_selection import GridSearchCV\n",
    "from sqlalchemy import create_engine"
   ]
  },
  {
   "cell_type": "code",
   "execution_count": 3,
   "id": "52df3d0f",
   "metadata": {},
   "outputs": [],
   "source": [
    "# Конфигурация подключения к базе данных\n",
    "db_config = {\n",
    "    'user': 'praktikum_student',\n",
    "    'password': 'Sdf4$2;d-d30pp',\n",
    "    'host': 'rc1b-wcoijxj3yxfsf3fs.mdb.yandexcloud.net',\n",
    "    'port': 6432,\n",
    "    'database': 'data-science-vehicle-db'\n",
    "}\n",
    "\n",
    "# Создание строки подключения и подключения к базе данных\n",
    "connection_string = f\"postgresql://{db_config['user']}:{db_config['password']}@{db_config['host']}:{db_config['port']}/{db_config['database']}\"\n",
    "engine = create_engine(connection_string)\n",
    "\n",
    "# Загрузка таблиц\n",
    "collisions_query = \"SELECT * FROM collisions;\"\n",
    "collisions_df = pd.read_sql(collisions_query, engine)\n",
    "\n",
    "parties_query = \"SELECT * FROM parties;\"\n",
    "parties_df = pd.read_sql(parties_query, engine)\n",
    "\n",
    "vehicles_query = \"SELECT * FROM vehicles;\"\n",
    "vehicles_df = pd.read_sql(vehicles_query, engine)\n",
    "\n",
    "# Закрытие соединения\n",
    "engine.dispose()"
   ]
  },
  {
   "cell_type": "markdown",
   "id": "ee8dbf3f",
   "metadata": {},
   "source": [
    "## Проведите первичное исследование таблиц"
   ]
  },
  {
   "cell_type": "code",
   "execution_count": 4,
   "id": "4ef38498",
   "metadata": {},
   "outputs": [
    {
     "name": "stdout",
     "output_type": "stream",
     "text": [
      "<class 'pandas.core.frame.DataFrame'>\n",
      "RangeIndex: 1400000 entries, 0 to 1399999\n",
      "Data columns (total 20 columns):\n",
      " #   Column                       Non-Null Count    Dtype  \n",
      "---  ------                       --------------    -----  \n",
      " 0   case_id                      1400000 non-null  object \n",
      " 1   county_city_location         1400000 non-null  object \n",
      " 2   county_location              1400000 non-null  object \n",
      " 3   distance                     1400000 non-null  float64\n",
      " 4   direction                    1059358 non-null  object \n",
      " 5   intersection                 1387781 non-null  float64\n",
      " 6   weather_1                    1392741 non-null  object \n",
      " 7   location_type                518779 non-null   object \n",
      " 8   collision_damage             1400000 non-null  object \n",
      " 9   party_count                  1400000 non-null  int64  \n",
      " 10  primary_collision_factor     1391834 non-null  object \n",
      " 11  pcf_violation_category       1372046 non-null  object \n",
      " 12  type_of_collision            1388176 non-null  object \n",
      " 13  motor_vehicle_involved_with  1393181 non-null  object \n",
      " 14  road_surface                 1386907 non-null  object \n",
      " 15  road_condition_1             1388012 non-null  object \n",
      " 16  lighting                     1391407 non-null  object \n",
      " 17  control_device               1391593 non-null  object \n",
      " 18  collision_date               1400000 non-null  object \n",
      " 19  collision_time               1387692 non-null  object \n",
      "dtypes: float64(2), int64(1), object(17)\n",
      "memory usage: 213.6+ MB\n",
      "<class 'pandas.core.frame.DataFrame'>\n",
      "RangeIndex: 2752408 entries, 0 to 2752407\n",
      "Data columns (total 9 columns):\n",
      " #   Column               Dtype  \n",
      "---  ------               -----  \n",
      " 0   id                   int64  \n",
      " 1   case_id              object \n",
      " 2   party_number         int64  \n",
      " 3   party_type           object \n",
      " 4   at_fault             int64  \n",
      " 5   insurance_premium    float64\n",
      " 6   party_sobriety       object \n",
      " 7   party_drug_physical  object \n",
      " 8   cellphone_in_use     float64\n",
      "dtypes: float64(2), int64(3), object(4)\n",
      "memory usage: 189.0+ MB\n",
      "<class 'pandas.core.frame.DataFrame'>\n",
      "RangeIndex: 1021234 entries, 0 to 1021233\n",
      "Data columns (total 6 columns):\n",
      " #   Column                Non-Null Count    Dtype  \n",
      "---  ------                --------------    -----  \n",
      " 0   id                    1021234 non-null  int64  \n",
      " 1   case_id               1021234 non-null  object \n",
      " 2   party_number          1021234 non-null  int64  \n",
      " 3   vehicle_type          1021234 non-null  object \n",
      " 4   vehicle_transmission  997575 non-null   object \n",
      " 5   vehicle_age           996652 non-null   float64\n",
      "dtypes: float64(1), int64(2), object(3)\n",
      "memory usage: 46.7+ MB\n"
     ]
    }
   ],
   "source": [
    "# Первичное исследование таблиц\n",
    "collisions_df.info()\n",
    "parties_df.info()\n",
    "vehicles_df.info()"
   ]
  },
  {
   "cell_type": "markdown",
   "id": "c940ece5",
   "metadata": {},
   "source": [
    "##  Проведите статистический анализ факторов ДТП"
   ]
  },
  {
   "cell_type": "code",
   "execution_count": 5,
   "id": "42f81fdb",
   "metadata": {},
   "outputs": [
    {
     "data": {
      "image/png": "[encoded data removed]",
      "text/plain": [
       "<Figure size 1296x432 with 1 Axes>"
      ]
     },
     "metadata": {
      "needs_background": "light"
     },
     "output_type": "display_data"
    }
   ],
   "source": [
    "# Статистический анализ факторов ДТП по месяцам\n",
    "query = \"\"\"\n",
    "SELECT EXTRACT(MONTH FROM collision_date) AS month, COUNT(*) AS accident_count\n",
    "FROM collisions\n",
    "GROUP BY month\n",
    "ORDER BY month;\n",
    "\"\"\"\n",
    "accidents_by_month_df = pd.read_sql(query, engine)\n",
    "\n",
    "# Построение графика количества ДТП по месяцам\n",
    "plt.figure(figsize=(18, 6))\n",
    "plt.bar(accidents_by_month_df['month'], accidents_by_month_df['accident_count'], color='skyblue')\n",
    "plt.xlabel('Месяц')\n",
    "plt.ylabel('Количество ДТП')\n",
    "plt.title('Количество ДТП по месяцам')\n",
    "plt.xticks(accidents_by_month_df['month'], rotation=45)\n",
    "plt.show()"
   ]
  },
  {
   "cell_type": "markdown",
   "id": "6604b448",
   "metadata": {},
   "source": [
    "Задачи для аналитиков:\n",
    "\n",
    "- Проанализируйте серьёзность повреждений транспортных средств в зависимости от состояния дороги.\n",
    "- Найдите, как погодные условия влияют на количество ДТП.\n",
    "- Проверьте, есть ли корреляция между возрастом автомобиля и вероятностью его участия в ДТП.\n",
    "- Изучите зависимость между трезвостью водителя и его участием в ДТП.\n",
    "- Исследуйте частоту использования мобильных телефонов водителями, причастными к ДТП.\n",
    "- Найдите самые частые причины ДТП."
   ]
  },
  {
   "cell_type": "markdown",
   "id": "0cc1acf0",
   "metadata": {},
   "source": [
    "Решение двух задач:\n",
    "\n",
    "Анализ ДТП в зависимости от состояния дороги:"
   ]
  },
  {
   "cell_type": "code",
   "execution_count": 7,
   "id": "78f9c0c7",
   "metadata": {},
   "outputs": [
    {
     "data": {
      "image/png": "[encoded data removed]",
      "text/plain": [
       "<Figure size 720x432 with 1 Axes>"
      ]
     },
     "metadata": {
      "needs_background": "light"
     },
     "output_type": "display_data"
    }
   ],
   "source": [
    "query = \"\"\"\n",
    "SELECT c.road_surface, COUNT(*) AS accident_count\n",
    "FROM collisions c\n",
    "JOIN parties p ON c.case_id = p.case_id\n",
    "GROUP BY c.road_surface\n",
    "ORDER BY accident_count DESC;\n",
    "\"\"\"\n",
    "road_surface_df = pd.read_sql(query, engine)\n",
    "\n",
    "# Удалим строки с пропусками\n",
    "road_surface_df.dropna(subset=['road_surface'], inplace=True)\n",
    "\n",
    "# Теперь строим график\n",
    "plt.figure(figsize=(10, 6))\n",
    "plt.barh(road_surface_df['road_surface'], road_surface_df['accident_count'], color='coral')\n",
    "plt.xlabel('Количество ДТП')\n",
    "plt.ylabel('Состояние дороги')\n",
    "plt.title('Количество ДТП в зависимости от состояния дороги')\n",
    "plt.show()"
   ]
  },
  {
   "cell_type": "markdown",
   "id": "4f364660",
   "metadata": {},
   "source": [
    "Основная масса ДТП происходит на сухой дороге, что свидетельствует о том, что благоприятные погодные условия не всегда гарантируют безопасность на дороге."
   ]
  },
  {
   "cell_type": "markdown",
   "id": "114806cd",
   "metadata": {},
   "source": [
    "Анализ зависимости между трезвостью водителя и его участием в ДТП:"
   ]
  },
  {
   "cell_type": "code",
   "execution_count": 23,
   "id": "119e4695",
   "metadata": {},
   "outputs": [
    {
     "data": {
      "image/png": "[encoded data removed]",
      "text/plain": [
       "<Figure size 720x432 with 1 Axes>"
      ]
     },
     "metadata": {
      "needs_background": "light"
     },
     "output_type": "display_data"
    }
   ],
   "source": [
    "# Анализ зависимости между трезвостью водителя и его участием в ДТП\n",
    "query = \"\"\"\n",
    "SELECT p.party_sobriety, COUNT(*) AS accident_count\n",
    "FROM parties p\n",
    "GROUP BY p.party_sobriety\n",
    "ORDER BY accident_count DESC;\n",
    "\"\"\"\n",
    "sobriety_df = pd.read_sql(query, engine)\n",
    "\n",
    "sobriety_df.dropna(subset=['party_sobriety'], inplace=True)\n",
    "\n",
    "# Построение графика\n",
    "plt.figure(figsize=(10, 6))\n",
    "plt.barh(sobriety_df['party_sobriety'], sobriety_df['accident_count'], color='lightgreen')\n",
    "plt.xlabel('Количество ДТП')\n",
    "plt.ylabel('Уровень трезвости водителя')\n",
    "plt.title('Количество ДТП в зависимости от уровня трезвости водителя')\n",
    "plt.show()"
   ]
  },
  {
   "cell_type": "markdown",
   "id": "0a33876f",
   "metadata": {},
   "source": [
    "Большинство ДТП совершают водители, которые не употребляли алкоголь. Это может свидетельствовать о том, что значительное количество аварий происходит из-за других факторов, а не только из-за алкогольного опьянения."
   ]
  },
  {
   "cell_type": "markdown",
   "id": "7360f673",
   "metadata": {},
   "source": [
    "## Создайте модель для оценки водительского риска"
   ]
  },
  {
   "cell_type": "code",
   "execution_count": 10,
   "id": "ab1f80ee",
   "metadata": {},
   "outputs": [
    {
     "data": {
      "text/html": [
       "<div>\n",
       "<style scoped>\n",
       "    .dataframe tbody tr th:only-of-type {\n",
       "        vertical-align: middle;\n",
       "    }\n",
       "\n",
       "    .dataframe tbody tr th {\n",
       "        vertical-align: top;\n",
       "    }\n",
       "\n",
       "    .dataframe thead th {\n",
       "        text-align: right;\n",
       "    }\n",
       "</style>\n",
       "<table border=\"1\" class=\"dataframe\">\n",
       "  <thead>\n",
       "    <tr style=\"text-align: right;\">\n",
       "      <th></th>\n",
       "      <th>case_id</th>\n",
       "      <th>party_type</th>\n",
       "      <th>party_sobriety</th>\n",
       "      <th>at_fault</th>\n",
       "      <th>collision_date</th>\n",
       "      <th>weather_1</th>\n",
       "      <th>vehicle_age</th>\n",
       "    </tr>\n",
       "  </thead>\n",
       "  <tbody>\n",
       "    <tr>\n",
       "      <th>0</th>\n",
       "      <td>5454402</td>\n",
       "      <td>car</td>\n",
       "      <td>impairment unknown</td>\n",
       "      <td>1</td>\n",
       "      <td>2012-01-20</td>\n",
       "      <td>clear</td>\n",
       "      <td>3.0</td>\n",
       "    </tr>\n",
       "    <tr>\n",
       "      <th>1</th>\n",
       "      <td>5449062</td>\n",
       "      <td>car</td>\n",
       "      <td>had not been drinking</td>\n",
       "      <td>0</td>\n",
       "      <td>2012-01-15</td>\n",
       "      <td>clear</td>\n",
       "      <td>10.0</td>\n",
       "    </tr>\n",
       "    <tr>\n",
       "      <th>2</th>\n",
       "      <td>5449097</td>\n",
       "      <td>car</td>\n",
       "      <td>had not been drinking</td>\n",
       "      <td>1</td>\n",
       "      <td>2012-01-18</td>\n",
       "      <td>clear</td>\n",
       "      <td>3.0</td>\n",
       "    </tr>\n",
       "    <tr>\n",
       "      <th>3</th>\n",
       "      <td>5607402</td>\n",
       "      <td>car</td>\n",
       "      <td>had not been drinking</td>\n",
       "      <td>0</td>\n",
       "      <td>2012-04-28</td>\n",
       "      <td>clear</td>\n",
       "      <td>8.0</td>\n",
       "    </tr>\n",
       "    <tr>\n",
       "      <th>4</th>\n",
       "      <td>5608413</td>\n",
       "      <td>car</td>\n",
       "      <td>had not been drinking</td>\n",
       "      <td>0</td>\n",
       "      <td>2012-04-19</td>\n",
       "      <td>None</td>\n",
       "      <td>10.0</td>\n",
       "    </tr>\n",
       "  </tbody>\n",
       "</table>\n",
       "</div>"
      ],
      "text/plain": [
       "   case_id party_type         party_sobriety  at_fault collision_date  \\\n",
       "0  5454402        car     impairment unknown         1     2012-01-20   \n",
       "1  5449062        car  had not been drinking         0     2012-01-15   \n",
       "2  5449097        car  had not been drinking         1     2012-01-18   \n",
       "3  5607402        car  had not been drinking         0     2012-04-28   \n",
       "4  5608413        car  had not been drinking         0     2012-04-19   \n",
       "\n",
       "  weather_1  vehicle_age  \n",
       "0     clear          3.0  \n",
       "1     clear         10.0  \n",
       "2     clear          3.0  \n",
       "3     clear          8.0  \n",
       "4      None         10.0  "
      ]
     },
     "execution_count": 10,
     "metadata": {},
     "output_type": "execute_result"
    }
   ],
   "source": [
    "# Запрос для получения данных о водителях автомобилей\n",
    "query = \"\"\"\n",
    "SELECT p.case_id, p.party_type, p.party_sobriety, p.at_fault, c.collision_date, c.weather_1, v.vehicle_age\n",
    "FROM parties p\n",
    "JOIN collisions c ON p.case_id = c.case_id\n",
    "JOIN vehicles v ON p.case_id = v.case_id AND p.party_number = v.party_number\n",
    "WHERE p.party_type = 'car'\n",
    "  AND c.collision_damage != 'SCRATCH'\n",
    "  AND EXTRACT(YEAR FROM c.collision_date) = 2012;\n",
    "\"\"\"\n",
    "data_df = pd.read_sql(query, engine)\n",
    "\n",
    "# Проверка данных\n",
    "data_df.head()"
   ]
  },
  {
   "cell_type": "code",
   "execution_count": 11,
   "id": "78111ffb",
   "metadata": {
    "scrolled": false
   },
   "outputs": [
    {
     "name": "stdout",
     "output_type": "stream",
     "text": [
      "Logistic Regression Classification Report:\n",
      "              precision    recall  f1-score   support\n",
      "\n",
      "           0       0.65      0.68      0.66     17069\n",
      "           1       0.58      0.54      0.56     13912\n",
      "\n",
      "    accuracy                           0.62     30981\n",
      "   macro avg       0.61      0.61      0.61     30981\n",
      "weighted avg       0.62      0.62      0.62     30981\n",
      "\n"
     ]
    },
    {
     "data": {
      "image/png": "[encoded data removed]",
      "text/plain": [
       "<Figure size 432x288 with 2 Axes>"
      ]
     },
     "metadata": {
      "needs_background": "light"
     },
     "output_type": "display_data"
    },
    {
     "name": "stdout",
     "output_type": "stream",
     "text": [
      "Random Forest Classification Report:\n",
      "              precision    recall  f1-score   support\n",
      "\n",
      "           0       0.64      0.69      0.67     17069\n",
      "           1       0.58      0.53      0.56     13912\n",
      "\n",
      "    accuracy                           0.62     30981\n",
      "   macro avg       0.61      0.61      0.61     30981\n",
      "weighted avg       0.62      0.62      0.62     30981\n",
      "\n"
     ]
    },
    {
     "data": {
      "image/png": "[encoded data removed]",
      "text/plain": [
       "<Figure size 432x288 with 2 Axes>"
      ]
     },
     "metadata": {
      "needs_background": "light"
     },
     "output_type": "display_data"
    },
    {
     "name": "stdout",
     "output_type": "stream",
     "text": [
      "Gradient Boosting Classification Report:\n",
      "              precision    recall  f1-score   support\n",
      "\n",
      "           0       0.62      0.86      0.72     17069\n",
      "           1       0.67      0.34      0.45     13912\n",
      "\n",
      "    accuracy                           0.63     30981\n",
      "   macro avg       0.64      0.60      0.59     30981\n",
      "weighted avg       0.64      0.63      0.60     30981\n",
      "\n"
     ]
    },
    {
     "data": {
      "image/png": "[encoded data removed]",
      "text/plain": [
       "<Figure size 432x288 with 2 Axes>"
      ]
     },
     "metadata": {
      "needs_background": "light"
     },
     "output_type": "display_data"
    }
   ],
   "source": [
    "# Определение X и y\n",
    "X = data_df[['party_sobriety', 'vehicle_age', 'weather_1']]  # Признаки\n",
    "y = data_df['at_fault']  # Целевая переменная\n",
    "\n",
    "# Импутация пропущенных значений и OneHotEncoder для категориальных признаков\n",
    "imputer = SimpleImputer(strategy='most_frequent')\n",
    "X_imputed = imputer.fit_transform(X)  # Заменяем пропуски\n",
    "\n",
    "encoder = OneHotEncoder(handle_unknown='ignore')\n",
    "X_encoded = encoder.fit_transform(X_imputed)  # Кодируем категориальные признаки\n",
    "\n",
    "# Разделение на обучающую и тестовую выборки\n",
    "X_train, X_test, y_train, y_test = train_test_split(X_encoded, y, test_size=0.3, random_state=42)\n",
    "\n",
    "# 1. Логистическая регрессия\n",
    "log_model = LogisticRegression(max_iter=100, class_weight='balanced')\n",
    "log_model.fit(X_train, y_train)\n",
    "y_pred_log = log_model.predict(X_test)\n",
    "\n",
    "# Оценка логистической регрессии\n",
    "print(\"Logistic Regression Classification Report:\")\n",
    "print(classification_report(y_test, y_pred_log))\n",
    "\n",
    "# Матрица ошибок для логистической регрессии\n",
    "conf_matrix_log = confusion_matrix(y_test, y_pred_log)\n",
    "ConfusionMatrixDisplay(conf_matrix_log).plot()\n",
    "plt.title('Логистическая регрессия: Матрица ошибок')\n",
    "plt.show()\n",
    "\n",
    "# 2. Random Forest Classifier\n",
    "rf_model = RandomForestClassifier(n_estimators=100, random_state=42, class_weight='balanced')\n",
    "rf_model.fit(X_train, y_train)\n",
    "y_pred_rf = rf_model.predict(X_test)\n",
    "\n",
    "# Оценка Random Forest\n",
    "print(\"Random Forest Classification Report:\")\n",
    "print(classification_report(y_test, y_pred_rf))\n",
    "\n",
    "# Матрица ошибок для Random Forest\n",
    "conf_matrix_rf = confusion_matrix(y_test, y_pred_rf)\n",
    "ConfusionMatrixDisplay(conf_matrix_rf).plot()\n",
    "plt.title('Random Forest: Матрица ошибок')\n",
    "plt.show()\n",
    "\n",
    "# 3. Gradient Boosting Classifier\n",
    "gb_model = GradientBoostingClassifier(n_estimators=100, random_state=42)\n",
    "gb_model.fit(X_train, y_train)\n",
    "y_pred_gb = gb_model.predict(X_test)\n",
    "\n",
    "# Оценка Gradient Boosting\n",
    "print(\"Gradient Boosting Classification Report:\")\n",
    "print(classification_report(y_test, y_pred_gb))\n",
    "\n",
    "# Матрица ошибок для Gradient Boosting\n",
    "conf_matrix_gb = confusion_matrix(y_test, y_pred_gb)\n",
    "ConfusionMatrixDisplay(conf_matrix_gb).plot()\n",
    "plt.title('Gradient Boosting: Матрица ошибок')\n",
    "plt.show()"
   ]
  },
  {
   "cell_type": "markdown",
   "id": "ef65cf94",
   "metadata": {},
   "source": [
    "## Проведите анализ важности факторов ДТП"
   ]
  },
  {
   "cell_type": "markdown",
   "id": "d15b0ea5",
   "metadata": {},
   "source": [
    "Статистическая сводка для числовых признаков:"
   ]
  },
  {
   "cell_type": "code",
   "execution_count": 13,
   "id": "6c4f37df",
   "metadata": {},
   "outputs": [
    {
     "data": {
      "text/html": [
       "<div>\n",
       "<style scoped>\n",
       "    .dataframe tbody tr th:only-of-type {\n",
       "        vertical-align: middle;\n",
       "    }\n",
       "\n",
       "    .dataframe tbody tr th {\n",
       "        vertical-align: top;\n",
       "    }\n",
       "\n",
       "    .dataframe thead th {\n",
       "        text-align: right;\n",
       "    }\n",
       "</style>\n",
       "<table border=\"1\" class=\"dataframe\">\n",
       "  <thead>\n",
       "    <tr style=\"text-align: right;\">\n",
       "      <th></th>\n",
       "      <th>at_fault</th>\n",
       "      <th>vehicle_age</th>\n",
       "    </tr>\n",
       "  </thead>\n",
       "  <tbody>\n",
       "    <tr>\n",
       "      <th>count</th>\n",
       "      <td>103267.000000</td>\n",
       "      <td>100606.000000</td>\n",
       "    </tr>\n",
       "    <tr>\n",
       "      <th>mean</th>\n",
       "      <td>0.446706</td>\n",
       "      <td>5.217840</td>\n",
       "    </tr>\n",
       "    <tr>\n",
       "      <th>std</th>\n",
       "      <td>0.497154</td>\n",
       "      <td>3.125412</td>\n",
       "    </tr>\n",
       "    <tr>\n",
       "      <th>min</th>\n",
       "      <td>0.000000</td>\n",
       "      <td>0.000000</td>\n",
       "    </tr>\n",
       "    <tr>\n",
       "      <th>25%</th>\n",
       "      <td>0.000000</td>\n",
       "      <td>3.000000</td>\n",
       "    </tr>\n",
       "    <tr>\n",
       "      <th>50%</th>\n",
       "      <td>0.000000</td>\n",
       "      <td>5.000000</td>\n",
       "    </tr>\n",
       "    <tr>\n",
       "      <th>75%</th>\n",
       "      <td>1.000000</td>\n",
       "      <td>7.000000</td>\n",
       "    </tr>\n",
       "    <tr>\n",
       "      <th>max</th>\n",
       "      <td>1.000000</td>\n",
       "      <td>161.000000</td>\n",
       "    </tr>\n",
       "  </tbody>\n",
       "</table>\n",
       "</div>"
      ],
      "text/plain": [
       "            at_fault    vehicle_age\n",
       "count  103267.000000  100606.000000\n",
       "mean        0.446706       5.217840\n",
       "std         0.497154       3.125412\n",
       "min         0.000000       0.000000\n",
       "25%         0.000000       3.000000\n",
       "50%         0.000000       5.000000\n",
       "75%         1.000000       7.000000\n",
       "max         1.000000     161.000000"
      ]
     },
     "execution_count": 13,
     "metadata": {},
     "output_type": "execute_result"
    }
   ],
   "source": [
    "data_df.describe()"
   ]
  },
  {
   "cell_type": "markdown",
   "id": "910a3c5d",
   "metadata": {},
   "source": [
    "Данные достаточно сбалансированы."
   ]
  },
  {
   "cell_type": "markdown",
   "id": "4983c0d5",
   "metadata": {},
   "source": [
    "Анализ категориальных признаков:"
   ]
  },
  {
   "cell_type": "code",
   "execution_count": 17,
   "id": "4a6f5233",
   "metadata": {},
   "outputs": [
    {
     "data": {
      "image/png": "[encoded data removed]",
      "text/plain": [
       "<Figure size 720x432 with 1 Axes>"
      ]
     },
     "metadata": {
      "needs_background": "light"
     },
     "output_type": "display_data"
    },
    {
     "data": {
      "image/png": "[encoded data removed]",
      "text/plain": [
       "<Figure size 720x432 with 1 Axes>"
      ]
     },
     "metadata": {
      "needs_background": "light"
     },
     "output_type": "display_data"
    }
   ],
   "source": [
    "# Распределение трезвости водителя\n",
    "data_df['party_sobriety'].value_counts().plot(kind='bar', color='skyblue', figsize=(10, 6))\n",
    "plt.title('Распределение трезвости водителя')\n",
    "plt.xlabel('Трезвость')\n",
    "plt.ylabel('Количество')\n",
    "plt.show()\n",
    "\n",
    "# Распределение погодных условий\n",
    "data_df['weather_1'].value_counts().plot(kind='bar', color='lightgreen', figsize=(10, 6))\n",
    "plt.title('Распределение погодных условий')\n",
    "plt.xlabel('Погодные условия')\n",
    "plt.ylabel('Количество')\n",
    "plt.show()"
   ]
  },
  {
   "cell_type": "markdown",
   "id": "c121ec58",
   "metadata": {},
   "source": [
    "Большая часть записей в выборке - трезвые водители и ясная погода."
   ]
  },
  {
   "cell_type": "markdown",
   "id": "0086c5da",
   "metadata": {},
   "source": [
    "Корреляция между возрастом автомобиля и участием в ДТП:"
   ]
  },
  {
   "cell_type": "code",
   "execution_count": 18,
   "id": "ef68be41",
   "metadata": {},
   "outputs": [
    {
     "data": {
      "text/plain": [
       "<Figure size 720x432 with 0 Axes>"
      ]
     },
     "metadata": {},
     "output_type": "display_data"
    },
    {
     "data": {
      "image/png": "[encoded data removed]",
      "text/plain": [
       "<Figure size 432x288 with 1 Axes>"
      ]
     },
     "metadata": {
      "needs_background": "light"
     },
     "output_type": "display_data"
    }
   ],
   "source": [
    "# Визуализация распределения возраста автомобилей в зависимости от виновности\n",
    "plt.figure(figsize=(10, 6))\n",
    "data_df.boxplot(column='vehicle_age', by='at_fault')\n",
    "plt.title('Возраст автомобиля в зависимости от виновности в ДТП')\n",
    "plt.suptitle('')\n",
    "plt.xlabel('Виновность')\n",
    "plt.ylabel('Возраст автомобиля')\n",
    "plt.show()"
   ]
  },
  {
   "cell_type": "markdown",
   "id": "dc8c68aa",
   "metadata": {},
   "source": [
    "Возраст автомобиля не дает явных выводов относительно виновности."
   ]
  },
  {
   "cell_type": "markdown",
   "id": "104354e8",
   "metadata": {},
   "source": [
    "Влияние погодных условий на вероятность ДТП:"
   ]
  },
  {
   "cell_type": "code",
   "execution_count": 19,
   "id": "29ad0dbe",
   "metadata": {},
   "outputs": [
    {
     "data": {
      "image/png": "[encoded data removed]",
      "text/plain": [
       "<Figure size 720x432 with 1 Axes>"
      ]
     },
     "metadata": {
      "needs_background": "light"
     },
     "output_type": "display_data"
    }
   ],
   "source": [
    "# Группировка данных по погодным условиям и виновности\n",
    "weather_fault_df = data_df.groupby(['weather_1', 'at_fault']).size().unstack()\n",
    "\n",
    "# Построение графика\n",
    "weather_fault_df.plot(kind='bar', stacked=True, figsize=(10, 6), color=['lightblue', 'salmon'])\n",
    "plt.title('Влияние погодных условий на вероятность участия в ДТП')\n",
    "plt.xlabel('Погодные условия')\n",
    "plt.ylabel('Количество ДТП')\n",
    "plt.show()"
   ]
  },
  {
   "cell_type": "markdown",
   "id": "136f96aa",
   "metadata": {},
   "source": [
    "Погодные условия мало влияют на возникновение аварии."
   ]
  },
  {
   "cell_type": "code",
   "execution_count": 12,
   "id": "5f230a4d",
   "metadata": {},
   "outputs": [
    {
     "data": {
      "image/png": "[encoded data removed]",
      "text/plain": [
       "<Figure size 720x432 with 1 Axes>"
      ]
     },
     "metadata": {
      "needs_background": "light"
     },
     "output_type": "display_data"
    },
    {
     "data": {
      "image/png": "[encoded data removed]",
      "text/plain": [
       "<Figure size 720x432 with 1 Axes>"
      ]
     },
     "metadata": {
      "needs_background": "light"
     },
     "output_type": "display_data"
    },
    {
     "data": {
      "image/png": "[encoded data removed]",
      "text/plain": [
       "<Figure size 720x432 with 1 Axes>"
      ]
     },
     "metadata": {
      "needs_background": "light"
     },
     "output_type": "display_data"
    }
   ],
   "source": [
    "# 1. Получение коэффициентов логистической регрессии\n",
    "coef_log = log_model.coef_[0]  # Коэффициенты для первой (и единственной) целевой переменной\n",
    "abs_coef_log = np.abs(coef_log)  # Берем абсолютные значения коэффициентов\n",
    "\n",
    "# 2. Преобразуем кодированные имена признаков для логистической регрессии, как и для Random Forest\n",
    "feature_names_log = encoder.get_feature_names_out(input_features=X.columns)\n",
    "\n",
    "# 3. Важность признаков для Logistic Regression\n",
    "plt.figure(figsize=(10, 6))\n",
    "plt.barh(feature_names_log, abs_coef_log, color='salmon')\n",
    "plt.xlabel('Абсолютное значение коэффициента')\n",
    "plt.title('Logistic Regression: Важность признаков')\n",
    "plt.show()\n",
    "\n",
    "# Анализ важности признаков для Random Forest\n",
    "importances_rf = rf_model.feature_importances_\n",
    "feature_names = encoder.get_feature_names_out(input_features=X.columns)\n",
    "\n",
    "# Важность признаков для Random Forest\n",
    "plt.figure(figsize=(10, 6))\n",
    "plt.barh(feature_names, importances_rf, color='skyblue')\n",
    "plt.xlabel('Важность признака')\n",
    "plt.title('Random Forest: Важность признаков')\n",
    "plt.show()\n",
    "\n",
    "# Анализ важности признаков для Gradient Boosting\n",
    "importances_gb = gb_model.feature_importances_\n",
    "\n",
    "# Важность признаков для Gradient Boosting\n",
    "plt.figure(figsize=(10, 6))\n",
    "plt.barh(feature_names, importances_gb, color='lightgreen')\n",
    "plt.xlabel('Важность признака')\n",
    "plt.title('Gradient Boosting: Важность признаков')\n",
    "plt.show()"
   ]
  },
  {
   "cell_type": "markdown",
   "id": "75e981cb",
   "metadata": {},
   "source": [
    "Наиболее значимыми фактором для увеличения вероятности ДТП является состояние алкогольного опьянения водителя."
   ]
  },
  {
   "cell_type": "markdown",
   "id": "f2a1a622",
   "metadata": {},
   "source": [
    "Зависимость между одним из важных признаков модели и целевым признаком:"
   ]
  },
  {
   "cell_type": "code",
   "execution_count": 22,
   "id": "f8cbb5df",
   "metadata": {},
   "outputs": [
    {
     "data": {
      "image/png": "[encoded data removed]",
      "text/plain": [
       "<Figure size 720x432 with 1 Axes>"
      ]
     },
     "metadata": {
      "needs_background": "light"
     },
     "output_type": "display_data"
    }
   ],
   "source": [
    "# Группировка данных по уровню трезвости и виновности\n",
    "sobriety_fault_df = data_df.groupby(['party_sobriety', 'at_fault']).size().unstack()\n",
    "\n",
    "# Построение графика\n",
    "sobriety_fault_df.plot(kind='bar', stacked=True, figsize=(10, 6), color=['lightblue', 'salmon'])\n",
    "plt.title('Зависимость между трезвостью водителя и виновностью в ДТП')\n",
    "plt.xlabel('Уровень трезвости водителя')\n",
    "plt.ylabel('Количество ДТП')\n",
    "plt.legend(['Не виновен', 'Виновен'])\n",
    "plt.show()"
   ]
  },
  {
   "cell_type": "markdown",
   "id": "0344e2ec",
   "metadata": {},
   "source": [
    "Большинство нетрезвых водителей попало в аварию."
   ]
  },
  {
   "cell_type": "markdown",
   "id": "58d454c3",
   "metadata": {},
   "source": [
    "Предложения по оснащению автомобиля на основе анализа зависимости между уровнем трезвости водителя и его виновностью в ДТП:\n",
    "\n",
    "- Алкотестер: Чтобы снизить риск ДТП, автомобили можно оснастить алкотестерами, которые будут проверять уровень алкоголя в организме водителя перед началом поездки. Водитель сможет завести машину только после тестирования, если уровень алкоголя в пределах допустимого.\n",
    "\n",
    "\n",
    "\n",
    "- Камеры с распознаванием лица: Для того чтобы убедиться, что тест на алкоголь проходит именно водитель, можно установить камеру с функцией распознавания лиц. Это позволит не допустить мошенничество, когда тест может пройти другой человек вместо водителя."
   ]
  },
  {
   "cell_type": "markdown",
   "id": "6a08bc02",
   "metadata": {},
   "source": [
    "## Выводы"
   ]
  },
  {
   "cell_type": "markdown",
   "id": "7f277fd8",
   "metadata": {},
   "source": [
    "Лучшей моделью оказалась Logistic Regression. Создание адекватной системы оценки риска при выдаче авто возможно. При выдаче авто необходимо проверять уровень трезвости водителя."
   ]
  }
 ],
 "metadata": {
  "ExecuteTimeLog": [
   {
    "duration": 7347,
    "start_time": "2024-09-28T18:32:44.034Z"
   },
   {
    "duration": 22041,
    "start_time": "2024-09-28T18:32:51.383Z"
   },
   {
    "duration": 8072,
    "start_time": "2024-09-28T18:33:45.604Z"
   },
   {
    "duration": 21955,
    "start_time": "2024-09-28T18:33:53.678Z"
   },
   {
    "duration": 7552,
    "start_time": "2024-09-28T18:34:47.196Z"
   },
   {
    "duration": 22080,
    "start_time": "2024-09-28T18:34:54.750Z"
   },
   {
    "duration": 17,
    "start_time": "2024-09-28T18:35:16.831Z"
   },
   {
    "duration": 53,
    "start_time": "2024-09-28T18:36:13.268Z"
   },
   {
    "duration": 7,
    "start_time": "2024-09-28T18:36:23.756Z"
   },
   {
    "duration": 2946,
    "start_time": "2024-09-28T18:37:07.675Z"
   },
   {
    "duration": 1147,
    "start_time": "2024-09-28T18:37:15.813Z"
   },
   {
    "duration": 192,
    "start_time": "2024-09-28T18:38:50.648Z"
   },
   {
    "duration": 8078,
    "start_time": "2024-09-28T18:39:04.821Z"
   },
   {
    "duration": 22144,
    "start_time": "2024-09-28T18:39:12.902Z"
   },
   {
    "duration": 2831,
    "start_time": "2024-09-28T18:39:35.048Z"
   },
   {
    "duration": 495,
    "start_time": "2024-09-28T18:39:37.882Z"
   },
   {
    "duration": 216,
    "start_time": "2024-09-28T18:39:38.380Z"
   },
   {
    "duration": 124,
    "start_time": "2024-09-28T18:41:31.064Z"
   },
   {
    "duration": 9861,
    "start_time": "2024-09-28T18:41:39.648Z"
   },
   {
    "duration": 22251,
    "start_time": "2024-09-28T18:41:49.511Z"
   },
   {
    "duration": 2907,
    "start_time": "2024-09-28T18:42:11.764Z"
   },
   {
    "duration": 496,
    "start_time": "2024-09-28T18:42:14.673Z"
   },
   {
    "duration": 250,
    "start_time": "2024-09-28T18:42:15.173Z"
   },
   {
    "duration": 0,
    "start_time": "2024-09-28T18:42:15.425Z"
   },
   {
    "duration": 0,
    "start_time": "2024-09-28T18:42:15.426Z"
   },
   {
    "duration": 0,
    "start_time": "2024-09-28T18:42:15.429Z"
   },
   {
    "duration": 8441,
    "start_time": "2024-09-28T18:42:58.977Z"
   },
   {
    "duration": 22327,
    "start_time": "2024-09-28T18:43:07.420Z"
   },
   {
    "duration": 2898,
    "start_time": "2024-09-28T18:43:29.749Z"
   },
   {
    "duration": 497,
    "start_time": "2024-09-28T18:43:32.649Z"
   },
   {
    "duration": 254,
    "start_time": "2024-09-28T18:43:33.149Z"
   },
   {
    "duration": 0,
    "start_time": "2024-09-28T18:43:33.406Z"
   },
   {
    "duration": 0,
    "start_time": "2024-09-28T18:43:33.408Z"
   },
   {
    "duration": 0,
    "start_time": "2024-09-28T18:43:33.409Z"
   },
   {
    "duration": 184,
    "start_time": "2024-09-28T18:44:15.139Z"
   },
   {
    "duration": 695,
    "start_time": "2024-09-28T18:44:40.848Z"
   },
   {
    "duration": 8628,
    "start_time": "2024-09-28T18:44:55.854Z"
   },
   {
    "duration": 22172,
    "start_time": "2024-09-28T18:45:04.485Z"
   },
   {
    "duration": 2970,
    "start_time": "2024-09-28T18:45:26.659Z"
   },
   {
    "duration": 504,
    "start_time": "2024-09-28T18:45:29.631Z"
   },
   {
    "duration": 747,
    "start_time": "2024-09-28T18:45:30.137Z"
   },
   {
    "duration": 143,
    "start_time": "2024-09-28T18:45:30.886Z"
   },
   {
    "duration": 0,
    "start_time": "2024-09-28T18:45:31.031Z"
   },
   {
    "duration": 0,
    "start_time": "2024-09-28T18:45:31.032Z"
   },
   {
    "duration": 15,
    "start_time": "2024-09-28T18:48:22.315Z"
   },
   {
    "duration": 18,
    "start_time": "2024-09-28T18:48:45.804Z"
   },
   {
    "duration": 1114,
    "start_time": "2024-09-28T18:49:12.237Z"
   },
   {
    "duration": 516,
    "start_time": "2024-09-28T18:51:03.265Z"
   },
   {
    "duration": 502,
    "start_time": "2024-09-28T18:51:14.038Z"
   },
   {
    "duration": 534,
    "start_time": "2024-09-28T18:51:22.298Z"
   },
   {
    "duration": 493,
    "start_time": "2024-09-28T18:51:35.634Z"
   },
   {
    "duration": 506,
    "start_time": "2024-09-28T18:51:42.997Z"
   },
   {
    "duration": 496,
    "start_time": "2024-09-28T18:51:53.211Z"
   },
   {
    "duration": 809,
    "start_time": "2024-09-28T18:56:14.078Z"
   },
   {
    "duration": 62,
    "start_time": "2024-09-28T18:56:14.890Z"
   },
   {
    "duration": 91,
    "start_time": "2024-09-28T18:57:13.802Z"
   },
   {
    "duration": 43,
    "start_time": "2024-09-28T18:57:56.069Z"
   },
   {
    "duration": 89,
    "start_time": "2024-09-28T18:58:48.416Z"
   },
   {
    "duration": 0,
    "start_time": "2024-09-28T18:58:48.507Z"
   },
   {
    "duration": 0,
    "start_time": "2024-09-28T18:58:48.508Z"
   },
   {
    "duration": 0,
    "start_time": "2024-09-28T18:58:48.509Z"
   },
   {
    "duration": 0,
    "start_time": "2024-09-28T18:58:48.510Z"
   },
   {
    "duration": 0,
    "start_time": "2024-09-28T18:58:48.512Z"
   },
   {
    "duration": 0,
    "start_time": "2024-09-28T18:58:48.513Z"
   },
   {
    "duration": 0,
    "start_time": "2024-09-28T18:58:48.515Z"
   },
   {
    "duration": 8455,
    "start_time": "2024-09-28T18:59:48.826Z"
   },
   {
    "duration": 23087,
    "start_time": "2024-09-28T18:59:57.283Z"
   },
   {
    "duration": 2987,
    "start_time": "2024-09-28T19:00:20.372Z"
   },
   {
    "duration": 537,
    "start_time": "2024-09-28T19:00:23.361Z"
   },
   {
    "duration": 7484,
    "start_time": "2024-09-28T19:00:23.901Z"
   },
   {
    "duration": 249,
    "start_time": "2024-09-28T19:00:31.387Z"
   },
   {
    "duration": 0,
    "start_time": "2024-09-28T19:00:31.638Z"
   },
   {
    "duration": 0,
    "start_time": "2024-09-28T19:00:31.640Z"
   },
   {
    "duration": 37,
    "start_time": "2024-09-28T19:01:12.476Z"
   },
   {
    "duration": 9406,
    "start_time": "2024-09-28T19:02:52.111Z"
   },
   {
    "duration": 23749,
    "start_time": "2024-09-28T19:03:01.519Z"
   },
   {
    "duration": 2862,
    "start_time": "2024-09-28T19:03:25.270Z"
   },
   {
    "duration": 567,
    "start_time": "2024-09-28T19:03:28.134Z"
   },
   {
    "duration": 4797,
    "start_time": "2024-09-28T19:03:28.703Z"
   },
   {
    "duration": 68,
    "start_time": "2024-09-28T19:03:33.502Z"
   },
   {
    "duration": 1165,
    "start_time": "2024-09-28T19:03:33.572Z"
   },
   {
    "duration": 130,
    "start_time": "2024-09-28T19:03:34.745Z"
   },
   {
    "duration": 0,
    "start_time": "2024-09-28T19:03:34.877Z"
   },
   {
    "duration": 8746,
    "start_time": "2024-09-28T19:04:07.671Z"
   },
   {
    "duration": 22049,
    "start_time": "2024-09-28T19:04:16.418Z"
   },
   {
    "duration": 2881,
    "start_time": "2024-09-28T19:04:38.469Z"
   },
   {
    "duration": 520,
    "start_time": "2024-09-28T19:04:41.352Z"
   },
   {
    "duration": 12276,
    "start_time": "2024-09-28T19:04:41.875Z"
   },
   {
    "duration": 59,
    "start_time": "2024-09-28T19:04:54.155Z"
   },
   {
    "duration": 1118,
    "start_time": "2024-09-28T19:04:54.216Z"
   },
   {
    "duration": 145,
    "start_time": "2024-09-28T19:04:55.336Z"
   },
   {
    "duration": 1356,
    "start_time": "2024-09-28T19:05:56.659Z"
   },
   {
    "duration": 8550,
    "start_time": "2024-09-28T19:06:26.080Z"
   },
   {
    "duration": 22331,
    "start_time": "2024-09-28T19:06:34.633Z"
   },
   {
    "duration": 3033,
    "start_time": "2024-09-28T19:06:56.966Z"
   },
   {
    "duration": 545,
    "start_time": "2024-09-28T19:07:00.001Z"
   },
   {
    "duration": 945,
    "start_time": "2024-09-28T19:07:00.548Z"
   },
   {
    "duration": 73,
    "start_time": "2024-09-28T19:07:01.495Z"
   },
   {
    "duration": 1421,
    "start_time": "2024-09-28T19:07:01.571Z"
   },
   {
    "duration": 126,
    "start_time": "2024-09-28T19:07:02.994Z"
   },
   {
    "duration": 11,
    "start_time": "2024-09-28T19:08:08.290Z"
   },
   {
    "duration": 342,
    "start_time": "2024-09-28T19:08:17.138Z"
   },
   {
    "duration": 13,
    "start_time": "2024-09-28T19:13:03.435Z"
   },
   {
    "duration": 284,
    "start_time": "2024-09-28T19:13:11.510Z"
   },
   {
    "duration": 12,
    "start_time": "2024-09-28T19:16:53.028Z"
   },
   {
    "duration": 251,
    "start_time": "2024-09-28T19:16:58.629Z"
   },
   {
    "duration": 216,
    "start_time": "2024-09-28T19:17:37.547Z"
   },
   {
    "duration": 49,
    "start_time": "2024-09-28T19:25:27.922Z"
   },
   {
    "duration": 18,
    "start_time": "2024-09-28T19:25:45.301Z"
   },
   {
    "duration": 8438,
    "start_time": "2024-09-28T19:26:13.799Z"
   },
   {
    "duration": 2811,
    "start_time": "2024-09-28T19:26:25.952Z"
   },
   {
    "duration": 33,
    "start_time": "2024-09-28T19:26:31.917Z"
   },
   {
    "duration": 1358,
    "start_time": "2024-09-28T19:26:44.897Z"
   },
   {
    "duration": 10879,
    "start_time": "2024-09-28T19:27:55.306Z"
   },
   {
    "duration": 3316,
    "start_time": "2024-09-28T19:28:20.185Z"
   },
   {
    "duration": 29,
    "start_time": "2024-09-28T19:28:25.291Z"
   },
   {
    "duration": 1496,
    "start_time": "2024-09-28T19:29:05.735Z"
   },
   {
    "duration": 3341,
    "start_time": "2024-09-28T19:29:11.544Z"
   },
   {
    "duration": 3187,
    "start_time": "2024-09-28T19:29:19.304Z"
   },
   {
    "duration": 24332,
    "start_time": "2024-09-28T19:31:24.427Z"
   },
   {
    "duration": 3117,
    "start_time": "2024-09-28T19:32:18.456Z"
   },
   {
    "duration": 7940,
    "start_time": "2024-09-28T19:32:21.576Z"
   },
   {
    "duration": 0,
    "start_time": "2024-09-28T19:32:29.518Z"
   },
   {
    "duration": 0,
    "start_time": "2024-09-28T19:32:29.519Z"
   },
   {
    "duration": 0,
    "start_time": "2024-09-28T19:32:29.521Z"
   },
   {
    "duration": 0,
    "start_time": "2024-09-28T19:32:29.523Z"
   },
   {
    "duration": 0,
    "start_time": "2024-09-28T19:32:29.524Z"
   },
   {
    "duration": 0,
    "start_time": "2024-09-28T19:32:29.525Z"
   },
   {
    "duration": 0,
    "start_time": "2024-09-28T19:32:29.526Z"
   },
   {
    "duration": 15829,
    "start_time": "2024-09-28T19:33:04.360Z"
   },
   {
    "duration": 3548,
    "start_time": "2024-09-28T19:33:29.825Z"
   },
   {
    "duration": 8588,
    "start_time": "2024-09-28T19:33:33.380Z"
   },
   {
    "duration": 0,
    "start_time": "2024-09-28T19:33:41.970Z"
   },
   {
    "duration": 0,
    "start_time": "2024-09-28T19:33:41.972Z"
   },
   {
    "duration": 0,
    "start_time": "2024-09-28T19:33:41.973Z"
   },
   {
    "duration": 0,
    "start_time": "2024-09-28T19:33:41.974Z"
   },
   {
    "duration": 0,
    "start_time": "2024-09-28T19:33:41.975Z"
   },
   {
    "duration": 0,
    "start_time": "2024-09-28T19:33:41.977Z"
   },
   {
    "duration": 0,
    "start_time": "2024-09-28T19:33:41.978Z"
   },
   {
    "duration": 9134,
    "start_time": "2024-09-28T19:34:35.876Z"
   },
   {
    "duration": 8316,
    "start_time": "2024-09-28T19:34:45.012Z"
   },
   {
    "duration": 0,
    "start_time": "2024-09-28T19:34:53.331Z"
   },
   {
    "duration": 0,
    "start_time": "2024-09-28T19:34:53.332Z"
   },
   {
    "duration": 0,
    "start_time": "2024-09-28T19:34:53.334Z"
   },
   {
    "duration": 0,
    "start_time": "2024-09-28T19:34:53.335Z"
   },
   {
    "duration": 0,
    "start_time": "2024-09-28T19:34:53.346Z"
   },
   {
    "duration": 0,
    "start_time": "2024-09-28T19:34:53.347Z"
   },
   {
    "duration": 0,
    "start_time": "2024-09-28T19:34:53.349Z"
   },
   {
    "duration": 935,
    "start_time": "2024-09-28T19:35:43.387Z"
   },
   {
    "duration": 1032,
    "start_time": "2024-09-28T19:35:57.824Z"
   },
   {
    "duration": 3244,
    "start_time": "2024-09-28T19:36:09.882Z"
   },
   {
    "duration": 7886,
    "start_time": "2024-09-28T19:36:13.129Z"
   },
   {
    "duration": 0,
    "start_time": "2024-09-28T19:36:21.016Z"
   },
   {
    "duration": 0,
    "start_time": "2024-09-28T19:36:21.018Z"
   },
   {
    "duration": 0,
    "start_time": "2024-09-28T19:36:21.019Z"
   },
   {
    "duration": 0,
    "start_time": "2024-09-28T19:36:21.020Z"
   },
   {
    "duration": 0,
    "start_time": "2024-09-28T19:36:21.022Z"
   },
   {
    "duration": 0,
    "start_time": "2024-09-28T19:36:21.023Z"
   },
   {
    "duration": 0,
    "start_time": "2024-09-28T19:36:21.024Z"
   },
   {
    "duration": 10982,
    "start_time": "2024-09-28T19:36:42.573Z"
   },
   {
    "duration": 32,
    "start_time": "2024-09-28T19:37:15.457Z"
   },
   {
    "duration": 3744,
    "start_time": "2024-09-28T19:37:26.573Z"
   },
   {
    "duration": 9456,
    "start_time": "2024-09-28T19:37:30.320Z"
   },
   {
    "duration": 22768,
    "start_time": "2024-09-28T19:37:39.778Z"
   },
   {
    "duration": 3042,
    "start_time": "2024-09-28T19:38:02.549Z"
   },
   {
    "duration": 561,
    "start_time": "2024-09-28T19:38:05.593Z"
   },
   {
    "duration": 11126,
    "start_time": "2024-09-28T19:38:06.156Z"
   },
   {
    "duration": 110,
    "start_time": "2024-09-28T19:38:17.284Z"
   },
   {
    "duration": 239,
    "start_time": "2024-09-28T19:38:17.396Z"
   },
   {
    "duration": 0,
    "start_time": "2024-09-28T19:38:17.637Z"
   },
   {
    "duration": 12565,
    "start_time": "2024-09-28T19:38:35.241Z"
   },
   {
    "duration": 8146,
    "start_time": "2024-09-28T19:39:00.872Z"
   },
   {
    "duration": 7699,
    "start_time": "2024-09-28T19:39:09.021Z"
   },
   {
    "duration": 7461,
    "start_time": "2024-09-28T19:39:16.723Z"
   },
   {
    "duration": 0,
    "start_time": "2024-09-28T19:39:24.186Z"
   },
   {
    "duration": 0,
    "start_time": "2024-09-28T19:39:24.188Z"
   },
   {
    "duration": 0,
    "start_time": "2024-09-28T19:39:24.190Z"
   },
   {
    "duration": 0,
    "start_time": "2024-09-28T19:39:24.192Z"
   },
   {
    "duration": 0,
    "start_time": "2024-09-28T19:39:24.193Z"
   },
   {
    "duration": 0,
    "start_time": "2024-09-28T19:39:24.195Z"
   },
   {
    "duration": 0,
    "start_time": "2024-09-28T19:39:24.196Z"
   },
   {
    "duration": 4926,
    "start_time": "2024-09-28T19:41:00.042Z"
   },
   {
    "duration": 29252,
    "start_time": "2024-09-28T19:41:04.972Z"
   },
   {
    "duration": 3049,
    "start_time": "2024-09-28T19:41:34.228Z"
   },
   {
    "duration": 4575,
    "start_time": "2024-09-28T19:42:00.598Z"
   },
   {
    "duration": 8073,
    "start_time": "2024-09-28T19:42:05.176Z"
   },
   {
    "duration": 12480,
    "start_time": "2024-09-28T19:42:13.252Z"
   },
   {
    "duration": 2277,
    "start_time": "2024-09-28T19:42:47.805Z"
   },
   {
    "duration": 19947,
    "start_time": "2024-09-28T19:42:50.084Z"
   },
   {
    "duration": 2912,
    "start_time": "2024-09-28T19:43:10.033Z"
   },
   {
    "duration": 3449,
    "start_time": "2024-09-28T19:43:45.518Z"
   },
   {
    "duration": 22038,
    "start_time": "2024-09-28T19:43:48.969Z"
   },
   {
    "duration": 2849,
    "start_time": "2024-09-28T19:44:11.009Z"
   },
   {
    "duration": 2820,
    "start_time": "2024-09-28T19:44:39.285Z"
   },
   {
    "duration": 9077,
    "start_time": "2024-09-28T19:44:42.107Z"
   },
   {
    "duration": 22787,
    "start_time": "2024-09-28T19:44:51.186Z"
   },
   {
    "duration": 5739,
    "start_time": "2024-09-28T19:45:13.976Z"
   },
   {
    "duration": 644,
    "start_time": "2024-09-28T19:45:19.718Z"
   },
   {
    "duration": 896,
    "start_time": "2024-09-28T19:45:20.364Z"
   },
   {
    "duration": 68,
    "start_time": "2024-09-28T19:45:21.262Z"
   },
   {
    "duration": 194,
    "start_time": "2024-09-28T19:45:21.332Z"
   },
   {
    "duration": 0,
    "start_time": "2024-09-28T19:45:21.528Z"
   },
   {
    "duration": 6,
    "start_time": "2024-09-28T19:46:16.567Z"
   },
   {
    "duration": 2951,
    "start_time": "2024-09-28T19:46:37.322Z"
   },
   {
    "duration": 12624,
    "start_time": "2024-09-28T19:46:40.276Z"
   },
   {
    "duration": 32986,
    "start_time": "2024-09-28T19:46:52.902Z"
   },
   {
    "duration": 5477,
    "start_time": "2024-09-28T19:47:25.890Z"
   },
   {
    "duration": 706,
    "start_time": "2024-09-28T19:47:31.369Z"
   },
   {
    "duration": 897,
    "start_time": "2024-09-28T19:47:32.077Z"
   },
   {
    "duration": 77,
    "start_time": "2024-09-28T19:47:32.976Z"
   },
   {
    "duration": 188,
    "start_time": "2024-09-28T19:47:33.054Z"
   },
   {
    "duration": 0,
    "start_time": "2024-09-28T19:47:33.244Z"
   },
   {
    "duration": 764,
    "start_time": "2024-09-28T19:48:26.096Z"
   },
   {
    "duration": 760,
    "start_time": "2024-09-28T19:48:44.576Z"
   },
   {
    "duration": 653,
    "start_time": "2024-09-28T19:48:49.684Z"
   },
   {
    "duration": 1174,
    "start_time": "2024-09-28T19:49:21.504Z"
   },
   {
    "duration": 2879,
    "start_time": "2024-09-28T19:49:38.621Z"
   },
   {
    "duration": 11377,
    "start_time": "2024-09-28T19:49:41.503Z"
   },
   {
    "duration": 34716,
    "start_time": "2024-09-28T19:49:52.882Z"
   },
   {
    "duration": 5892,
    "start_time": "2024-09-28T19:50:27.600Z"
   },
   {
    "duration": 709,
    "start_time": "2024-09-28T19:50:33.494Z"
   },
   {
    "duration": 1156,
    "start_time": "2024-09-28T19:50:34.204Z"
   },
   {
    "duration": 86,
    "start_time": "2024-09-28T19:50:35.363Z"
   },
   {
    "duration": 215,
    "start_time": "2024-09-28T19:50:35.457Z"
   },
   {
    "duration": 0,
    "start_time": "2024-09-28T19:50:35.674Z"
   },
   {
    "duration": 7182,
    "start_time": "2024-09-29T18:53:51.221Z"
   },
   {
    "duration": 0,
    "start_time": "2024-09-29T18:53:58.405Z"
   },
   {
    "duration": 0,
    "start_time": "2024-09-29T18:53:58.406Z"
   },
   {
    "duration": 0,
    "start_time": "2024-09-29T18:53:58.407Z"
   },
   {
    "duration": 0,
    "start_time": "2024-09-29T18:53:58.408Z"
   },
   {
    "duration": 0,
    "start_time": "2024-09-29T18:53:58.409Z"
   },
   {
    "duration": 0,
    "start_time": "2024-09-29T18:53:58.410Z"
   },
   {
    "duration": 0,
    "start_time": "2024-09-29T18:53:58.411Z"
   },
   {
    "duration": 25679,
    "start_time": "2024-09-29T18:56:04.898Z"
   },
   {
    "duration": 6904,
    "start_time": "2024-09-29T18:56:30.579Z"
   },
   {
    "duration": 30619,
    "start_time": "2024-09-29T18:56:37.485Z"
   },
   {
    "duration": 2804,
    "start_time": "2024-09-29T18:57:08.106Z"
   },
   {
    "duration": 423,
    "start_time": "2024-09-29T18:57:10.913Z"
   },
   {
    "duration": 863,
    "start_time": "2024-09-29T18:57:11.338Z"
   },
   {
    "duration": 50,
    "start_time": "2024-09-29T18:57:12.203Z"
   },
   {
    "duration": 190,
    "start_time": "2024-09-29T18:57:12.255Z"
   },
   {
    "duration": 0,
    "start_time": "2024-09-29T18:57:12.447Z"
   },
   {
    "duration": 2391,
    "start_time": "2024-09-29T18:58:46.146Z"
   },
   {
    "duration": 7913,
    "start_time": "2024-09-29T18:58:48.539Z"
   },
   {
    "duration": 31178,
    "start_time": "2024-09-29T18:58:56.454Z"
   },
   {
    "duration": 3005,
    "start_time": "2024-09-29T18:59:27.633Z"
   },
   {
    "duration": 453,
    "start_time": "2024-09-29T18:59:30.640Z"
   },
   {
    "duration": 913,
    "start_time": "2024-09-29T18:59:31.099Z"
   },
   {
    "duration": 57,
    "start_time": "2024-09-29T18:59:32.014Z"
   },
   {
    "duration": 2506,
    "start_time": "2024-09-29T18:59:57.375Z"
   },
   {
    "duration": 8541,
    "start_time": "2024-09-29T18:59:59.884Z"
   },
   {
    "duration": 31551,
    "start_time": "2024-09-29T19:00:08.427Z"
   },
   {
    "duration": 2858,
    "start_time": "2024-09-29T19:00:39.980Z"
   },
   {
    "duration": 483,
    "start_time": "2024-09-29T19:00:42.839Z"
   },
   {
    "duration": 920,
    "start_time": "2024-09-29T19:00:43.324Z"
   },
   {
    "duration": 68,
    "start_time": "2024-09-29T19:00:44.245Z"
   },
   {
    "duration": 2472,
    "start_time": "2024-09-29T19:01:47.120Z"
   },
   {
    "duration": 7945,
    "start_time": "2024-09-29T19:01:49.594Z"
   },
   {
    "duration": 31962,
    "start_time": "2024-09-29T19:01:57.541Z"
   },
   {
    "duration": 2954,
    "start_time": "2024-09-29T19:02:29.504Z"
   },
   {
    "duration": 451,
    "start_time": "2024-09-29T19:02:32.459Z"
   },
   {
    "duration": 863,
    "start_time": "2024-09-29T19:02:32.911Z"
   },
   {
    "duration": 57,
    "start_time": "2024-09-29T19:02:33.776Z"
   },
   {
    "duration": 974,
    "start_time": "2024-09-29T19:02:33.835Z"
   },
   {
    "duration": 0,
    "start_time": "2024-09-29T19:02:34.810Z"
   },
   {
    "duration": 3009,
    "start_time": "2024-09-29T19:03:26.751Z"
   },
   {
    "duration": 12,
    "start_time": "2024-09-29T19:03:55.013Z"
   },
   {
    "duration": 33,
    "start_time": "2024-09-29T19:04:38.271Z"
   },
   {
    "duration": 2452,
    "start_time": "2024-09-29T19:11:49.402Z"
   },
   {
    "duration": 7285,
    "start_time": "2024-09-29T19:11:51.856Z"
   },
   {
    "duration": 30995,
    "start_time": "2024-09-29T19:11:59.143Z"
   },
   {
    "duration": 2937,
    "start_time": "2024-09-29T19:12:30.139Z"
   },
   {
    "duration": 436,
    "start_time": "2024-09-29T19:12:33.078Z"
   },
   {
    "duration": 886,
    "start_time": "2024-09-29T19:12:33.516Z"
   },
   {
    "duration": 169,
    "start_time": "2024-09-29T19:12:34.404Z"
   },
   {
    "duration": 0,
    "start_time": "2024-09-29T19:12:34.575Z"
   },
   {
    "duration": 108,
    "start_time": "2024-09-29T19:13:22.115Z"
   },
   {
    "duration": 2403,
    "start_time": "2024-09-29T19:14:25.467Z"
   },
   {
    "duration": 7950,
    "start_time": "2024-09-29T19:14:27.872Z"
   },
   {
    "duration": 31213,
    "start_time": "2024-09-29T19:14:35.823Z"
   },
   {
    "duration": 2929,
    "start_time": "2024-09-29T19:15:07.038Z"
   },
   {
    "duration": 470,
    "start_time": "2024-09-29T19:15:09.968Z"
   },
   {
    "duration": 879,
    "start_time": "2024-09-29T19:15:10.440Z"
   },
   {
    "duration": 129,
    "start_time": "2024-09-29T19:15:11.321Z"
   },
   {
    "duration": 0,
    "start_time": "2024-09-29T19:15:11.452Z"
   },
   {
    "duration": 2554,
    "start_time": "2024-09-29T19:16:28.033Z"
   },
   {
    "duration": 8172,
    "start_time": "2024-09-29T19:16:30.594Z"
   },
   {
    "duration": 32825,
    "start_time": "2024-09-29T19:16:38.768Z"
   },
   {
    "duration": 2872,
    "start_time": "2024-09-29T19:17:11.600Z"
   },
   {
    "duration": 447,
    "start_time": "2024-09-29T19:17:14.474Z"
   },
   {
    "duration": 916,
    "start_time": "2024-09-29T19:17:14.922Z"
   },
   {
    "duration": 2480,
    "start_time": "2024-09-29T19:19:14.953Z"
   },
   {
    "duration": 8066,
    "start_time": "2024-09-29T19:19:17.436Z"
   },
   {
    "duration": 31962,
    "start_time": "2024-09-29T19:19:25.503Z"
   },
   {
    "duration": 3042,
    "start_time": "2024-09-29T19:19:57.468Z"
   },
   {
    "duration": 445,
    "start_time": "2024-09-29T19:20:00.511Z"
   },
   {
    "duration": 1123,
    "start_time": "2024-09-29T19:20:00.958Z"
   },
   {
    "duration": 168,
    "start_time": "2024-09-29T19:20:02.083Z"
   },
   {
    "duration": 0,
    "start_time": "2024-09-29T19:20:02.253Z"
   },
   {
    "duration": 2535,
    "start_time": "2024-09-29T19:20:41.165Z"
   },
   {
    "duration": 8181,
    "start_time": "2024-09-29T19:20:43.702Z"
   },
   {
    "duration": 32038,
    "start_time": "2024-09-29T19:20:51.885Z"
   },
   {
    "duration": 2926,
    "start_time": "2024-09-29T19:21:23.925Z"
   },
   {
    "duration": 439,
    "start_time": "2024-09-29T19:21:26.852Z"
   },
   {
    "duration": 947,
    "start_time": "2024-09-29T19:21:27.296Z"
   },
   {
    "duration": 65,
    "start_time": "2024-09-29T19:22:13.061Z"
   },
   {
    "duration": 2513,
    "start_time": "2024-09-29T19:22:36.777Z"
   },
   {
    "duration": 7848,
    "start_time": "2024-09-29T19:22:39.293Z"
   },
   {
    "duration": 31359,
    "start_time": "2024-09-29T19:22:47.143Z"
   },
   {
    "duration": 3010,
    "start_time": "2024-09-29T19:23:18.504Z"
   },
   {
    "duration": 458,
    "start_time": "2024-09-29T19:23:21.515Z"
   },
   {
    "duration": 900,
    "start_time": "2024-09-29T19:23:21.974Z"
   },
   {
    "duration": 267,
    "start_time": "2024-09-29T19:23:22.875Z"
   },
   {
    "duration": 0,
    "start_time": "2024-09-29T19:23:23.144Z"
   },
   {
    "duration": 582,
    "start_time": "2024-09-29T19:23:30.755Z"
   },
   {
    "duration": 14,
    "start_time": "2024-09-29T19:23:38.183Z"
   },
   {
    "duration": 11,
    "start_time": "2024-09-29T19:24:27.764Z"
   },
   {
    "duration": 17,
    "start_time": "2024-09-29T19:24:34.237Z"
   },
   {
    "duration": 12,
    "start_time": "2024-09-29T19:25:03.943Z"
   },
   {
    "duration": 12,
    "start_time": "2024-09-29T19:25:48.089Z"
   },
   {
    "duration": 164,
    "start_time": "2024-09-29T19:26:00.971Z"
   },
   {
    "duration": 226,
    "start_time": "2024-09-29T19:26:12.797Z"
   },
   {
    "duration": 11,
    "start_time": "2024-09-29T19:26:13.789Z"
   },
   {
    "duration": 2369,
    "start_time": "2024-09-29T19:26:37.857Z"
   },
   {
    "duration": 7243,
    "start_time": "2024-09-29T19:26:40.230Z"
   },
   {
    "duration": 30538,
    "start_time": "2024-09-29T19:26:47.474Z"
   },
   {
    "duration": 2933,
    "start_time": "2024-09-29T19:27:18.013Z"
   },
   {
    "duration": 441,
    "start_time": "2024-09-29T19:27:20.948Z"
   },
   {
    "duration": 898,
    "start_time": "2024-09-29T19:27:21.390Z"
   },
   {
    "duration": 433,
    "start_time": "2024-09-29T19:27:22.289Z"
   },
   {
    "duration": 0,
    "start_time": "2024-09-29T19:27:22.723Z"
   },
   {
    "duration": 2329,
    "start_time": "2024-09-29T19:27:56.695Z"
   },
   {
    "duration": 6790,
    "start_time": "2024-09-29T19:27:59.026Z"
   },
   {
    "duration": 31473,
    "start_time": "2024-09-29T19:28:05.818Z"
   },
   {
    "duration": 2875,
    "start_time": "2024-09-29T19:28:37.293Z"
   },
   {
    "duration": 433,
    "start_time": "2024-09-29T19:28:40.170Z"
   },
   {
    "duration": 861,
    "start_time": "2024-09-29T19:28:40.605Z"
   },
   {
    "duration": 585,
    "start_time": "2024-09-29T19:28:41.468Z"
   },
   {
    "duration": 129,
    "start_time": "2024-09-29T19:28:42.055Z"
   },
   {
    "duration": 193,
    "start_time": "2024-09-29T19:29:36.946Z"
   },
   {
    "duration": 3,
    "start_time": "2024-09-29T19:30:05.221Z"
   },
   {
    "duration": 5,
    "start_time": "2024-09-29T19:30:26.280Z"
   },
   {
    "duration": 355,
    "start_time": "2024-09-29T19:31:25.395Z"
   },
   {
    "duration": 382,
    "start_time": "2024-09-29T19:32:06.256Z"
   },
   {
    "duration": 7445,
    "start_time": "2024-09-29T19:35:43.587Z"
   },
   {
    "duration": 2383,
    "start_time": "2024-09-29T19:36:27.994Z"
   },
   {
    "duration": 7572,
    "start_time": "2024-09-29T19:36:30.379Z"
   },
   {
    "duration": 30569,
    "start_time": "2024-09-29T19:36:37.953Z"
   },
   {
    "duration": 2817,
    "start_time": "2024-09-29T19:37:08.523Z"
   },
   {
    "duration": 435,
    "start_time": "2024-09-29T19:37:11.342Z"
   },
   {
    "duration": 3307,
    "start_time": "2024-09-29T19:37:11.778Z"
   },
   {
    "duration": 10271,
    "start_time": "2024-09-29T19:37:15.090Z"
   },
   {
    "duration": 120,
    "start_time": "2024-09-29T19:37:25.362Z"
   },
   {
    "duration": 692,
    "start_time": "2024-09-29T19:38:02.688Z"
   },
   {
    "duration": 9788,
    "start_time": "2024-09-29T19:38:20.218Z"
   },
   {
    "duration": 711,
    "start_time": "2024-09-29T19:38:30.008Z"
   },
   {
    "duration": 968,
    "start_time": "2024-09-29T19:39:54.629Z"
   },
   {
    "duration": 7297,
    "start_time": "2024-10-01T19:53:02.624Z"
   },
   {
    "duration": 8661,
    "start_time": "2024-10-01T19:53:09.924Z"
   },
   {
    "duration": 31216,
    "start_time": "2024-10-01T19:53:18.586Z"
   },
   {
    "duration": 2780,
    "start_time": "2024-10-01T19:53:49.805Z"
   },
   {
    "duration": 544,
    "start_time": "2024-10-01T19:53:52.587Z"
   },
   {
    "duration": 4533,
    "start_time": "2024-10-01T19:53:53.133Z"
   },
   {
    "duration": 0,
    "start_time": "2024-10-01T19:53:57.668Z"
   },
   {
    "duration": 0,
    "start_time": "2024-10-01T19:53:57.669Z"
   },
   {
    "duration": 0,
    "start_time": "2024-10-01T19:53:57.670Z"
   },
   {
    "duration": 0,
    "start_time": "2024-10-01T19:53:57.671Z"
   },
   {
    "duration": 4272,
    "start_time": "2024-10-01T19:54:58.929Z"
   },
   {
    "duration": 386,
    "start_time": "2024-10-01T19:55:18.894Z"
   },
   {
    "duration": 439,
    "start_time": "2024-10-01T19:56:03.189Z"
   },
   {
    "duration": 897,
    "start_time": "2024-10-01T19:56:35.067Z"
   },
   {
    "duration": 9875,
    "start_time": "2024-10-01T19:56:35.965Z"
   },
   {
    "duration": 1026,
    "start_time": "2024-10-01T19:56:45.842Z"
   },
   {
    "duration": 20,
    "start_time": "2024-10-01T19:59:49.276Z"
   },
   {
    "duration": 353,
    "start_time": "2024-10-01T20:00:05.683Z"
   },
   {
    "duration": 370,
    "start_time": "2024-10-01T20:00:47.165Z"
   },
   {
    "duration": 299,
    "start_time": "2024-10-01T20:00:53.704Z"
   },
   {
    "duration": 347,
    "start_time": "2024-10-01T20:01:02.919Z"
   },
   {
    "duration": 203,
    "start_time": "2024-10-01T20:02:51.626Z"
   },
   {
    "duration": 217,
    "start_time": "2024-10-01T20:03:43.555Z"
   },
   {
    "duration": 64,
    "start_time": "2024-10-01T20:05:28.587Z"
   },
   {
    "duration": 67,
    "start_time": "2024-10-01T20:11:04.782Z"
   },
   {
    "duration": 208,
    "start_time": "2024-10-01T20:15:48.988Z"
   },
   {
    "duration": 435,
    "start_time": "2024-10-01T20:28:35.336Z"
   }
  ],
  "kernelspec": {
   "display_name": "Python 3 (ipykernel)",
   "language": "python",
   "name": "python3"
  },
  "language_info": {
   "codemirror_mode": {
    "name": "ipython",
    "version": 3
   },
   "file_extension": ".py",
   "mimetype": "text/x-python",
   "name": "python",
   "nbconvert_exporter": "python",
   "pygments_lexer": "ipython3",
   "version": "3.9.5"
  },
  "toc": {
   "base_numbering": 1,
   "nav_menu": {},
   "number_sections": false,
   "sideBar": true,
   "skip_h1_title": false,
   "title_cell": "Table of Contents",
   "title_sidebar": "Contents",
   "toc_cell": false,
   "toc_position": {},
   "toc_section_display": true,
   "toc_window_display": false
  },
  "varInspector": {
   "cols": {
    "lenName": 16,
    "lenType": 16,
    "lenVar": 40
   },
   "kernels_config": {
    "python": {
     "delete_cmd_postfix": "",
     "delete_cmd_prefix": "del ",
     "library": "var_list.py",
     "varRefreshCmd": "print(var_dic_list())"
    },
    "r": {
     "delete_cmd_postfix": ") ",
     "delete_cmd_prefix": "rm(",
     "library": "var_list.r",
     "varRefreshCmd": "cat(var_dic_list()) "
    }
   },
   "types_to_exclude": [
    "module",
    "function",
    "builtin_function_or_method",
    "instance",
    "_Feature"
   ],
   "window_display": false
  }
 },
 "nbformat": 4,
 "nbformat_minor": 5
}
